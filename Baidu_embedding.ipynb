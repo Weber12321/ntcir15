{
 "cells": [
  {
   "cell_type": "code",
   "execution_count": 42,
   "metadata": {},
   "outputs": [],
   "source": [
    "import os\n",
    "import numpy as np\n",
    "import pandas as pd\n",
    "from tqdm import tqdm_notebook as tqdm"
   ]
  },
  {
   "cell_type": "code",
   "execution_count": 4,
   "metadata": {},
   "outputs": [],
   "source": [
    "os.chdir('C:\\\\Users\\\\doudi\\\\Downloads\\\\baidu_256_500k')"
   ]
  },
  {
   "cell_type": "code",
   "execution_count": 6,
   "metadata": {},
   "outputs": [
    {
     "ename": "AttributeError",
     "evalue": "'list' object has no attribute 'head'",
     "output_type": "error",
     "traceback": [
      "\u001b[1;31m---------------------------------------------------------------------------\u001b[0m",
      "\u001b[1;31mAttributeError\u001b[0m                            Traceback (most recent call last)",
      "\u001b[1;32m<ipython-input-6-09ba04b18db5>\u001b[0m in \u001b[0;36m<module>\u001b[1;34m\u001b[0m\n\u001b[0;32m      1\u001b[0m \u001b[0mf\u001b[0m \u001b[1;33m=\u001b[0m \u001b[0mpd\u001b[0m\u001b[1;33m.\u001b[0m\u001b[0mread_pickle\u001b[0m\u001b[1;33m(\u001b[0m\u001b[1;34m'baidu_256_500k.pkl'\u001b[0m\u001b[1;33m)\u001b[0m\u001b[1;33m\u001b[0m\u001b[1;33m\u001b[0m\u001b[0m\n\u001b[1;32m----> 2\u001b[1;33m \u001b[0mf\u001b[0m\u001b[1;33m.\u001b[0m\u001b[0mhead\u001b[0m\u001b[1;33m(\u001b[0m\u001b[1;33m)\u001b[0m\u001b[1;33m\u001b[0m\u001b[1;33m\u001b[0m\u001b[0m\n\u001b[0m",
      "\u001b[1;31mAttributeError\u001b[0m: 'list' object has no attribute 'head'"
     ]
    }
   ],
   "source": [
    "f = pd.read_pickle('baidu_256_500k.pkl')"
   ]
  },
  {
   "cell_type": "code",
   "execution_count": 27,
   "metadata": {},
   "outputs": [
    {
     "data": {
      "text/plain": [
       "3315"
      ]
     },
     "execution_count": 27,
     "metadata": {},
     "output_type": "execute_result"
    }
   ],
   "source": [
    "f[1].index('内涵')"
   ]
  },
  {
   "cell_type": "code",
   "execution_count": 8,
   "metadata": {},
   "outputs": [],
   "source": [
    "train = pd.read_csv('C:\\\\Users\\\\doudi\\\\OneDrive\\\\Documents\\\\ntcir15\\\\Dataset\\\\New_DialEval-1\\\\train_w2v_cn.csv', encoding='utf_8')\n",
    "dev = pd.read_csv('C:\\\\Users\\\\doudi\\\\OneDrive\\\\Documents\\\\ntcir15\\\\Dataset\\\\New_DialEval-1\\\\dev_w2v_cn.csv', encoding='utf_8')"
   ]
  },
  {
   "cell_type": "code",
   "execution_count": 37,
   "metadata": {},
   "outputs": [],
   "source": [
    "# from itertools import chain\n",
    "# transform word into vector via word2Vec\n",
    "def trans(dataframe, vec):\n",
    "    tmp_all = []\n",
    "    print('=== 詞轉向量 ===')\n",
    "    for i in tqdm(dataframe['texts']):\n",
    "        tmp = []\n",
    "        for j in i.split():\n",
    "            if j not in vec[1]:\n",
    "                continue\n",
    "            else:\n",
    "                match = vec[2][vec[1].index(j)]\n",
    "                tmp.append(match)\n",
    "        avg = [sum(x)/len(x) for x in zip(*tmp)]\n",
    "#         print(avg)\n",
    "        tmp_all.append(avg)\n",
    "    dataframe['Baidu'] = tmp_all\n",
    "    \n",
    "    return dataframe"
   ]
  },
  {
   "cell_type": "code",
   "execution_count": 38,
   "metadata": {},
   "outputs": [
    {
     "name": "stdout",
     "output_type": "stream",
     "text": [
      "=== 詞轉向量 ===\n"
     ]
    },
    {
     "name": "stderr",
     "output_type": "stream",
     "text": [
      "C:\\Users\\doudi\\Anaconda3\\lib\\site-packages\\ipykernel_launcher.py:6: TqdmDeprecationWarning: This function will be removed in tqdm==5.0.0\n",
      "Please use `tqdm.notebook.tqdm` instead of `tqdm.tqdm_notebook`\n",
      "  \n"
     ]
    },
    {
     "data": {
      "application/vnd.jupyter.widget-view+json": {
       "model_id": "c652cd37fc424bc4b3397a189db5abbe",
       "version_major": 2,
       "version_minor": 0
      },
      "text/plain": [
       "HBox(children=(FloatProgress(value=0.0, max=1755.0), HTML(value='')))"
      ]
     },
     "metadata": {},
     "output_type": "display_data"
    },
    {
     "name": "stdout",
     "output_type": "stream",
     "text": [
      "\n"
     ]
    }
   ],
   "source": [
    "dev = trans(dev,f)"
   ]
  },
  {
   "cell_type": "code",
   "execution_count": 39,
   "metadata": {},
   "outputs": [
    {
     "name": "stdout",
     "output_type": "stream",
     "text": [
      "=== 詞轉向量 ===\n"
     ]
    },
    {
     "name": "stderr",
     "output_type": "stream",
     "text": [
      "C:\\Users\\doudi\\Anaconda3\\lib\\site-packages\\ipykernel_launcher.py:6: TqdmDeprecationWarning: This function will be removed in tqdm==5.0.0\n",
      "Please use `tqdm.notebook.tqdm` instead of `tqdm.tqdm_notebook`\n",
      "  \n"
     ]
    },
    {
     "data": {
      "application/vnd.jupyter.widget-view+json": {
       "model_id": "b552caf53371454d997cc876b966e12b",
       "version_major": 2,
       "version_minor": 0
      },
      "text/plain": [
       "HBox(children=(FloatProgress(value=0.0, max=15400.0), HTML(value='')))"
      ]
     },
     "metadata": {},
     "output_type": "display_data"
    },
    {
     "name": "stdout",
     "output_type": "stream",
     "text": [
      "\n"
     ]
    }
   ],
   "source": [
    "train = trans(train,f)"
   ]
  },
  {
   "cell_type": "code",
   "execution_count": 51,
   "metadata": {},
   "outputs": [
    {
     "data": {
      "text/plain": [
       "numpy.float64"
      ]
     },
     "execution_count": 51,
     "metadata": {},
     "output_type": "execute_result"
    }
   ],
   "source": [
    "type(dev['Baidu'][0][0])"
   ]
  },
  {
   "cell_type": "code",
   "execution_count": 52,
   "metadata": {},
   "outputs": [],
   "source": [
    "def np_arr_to_str(dataframe):\n",
    "    tmp = []\n",
    "    for i in dataframe['Baidu']:\n",
    "        ts = ' '.join('%s' %j for j in i)\n",
    "        tmp.append(ts)\n",
    "    dataframe['Baidu_str']=tmp\n",
    "    return dataframe"
   ]
  },
  {
   "cell_type": "code",
   "execution_count": 53,
   "metadata": {
    "scrolled": true
   },
   "outputs": [
    {
     "data": {
      "text/html": [
       "<div>\n",
       "<style scoped>\n",
       "    .dataframe tbody tr th:only-of-type {\n",
       "        vertical-align: middle;\n",
       "    }\n",
       "\n",
       "    .dataframe tbody tr th {\n",
       "        vertical-align: top;\n",
       "    }\n",
       "\n",
       "    .dataframe thead th {\n",
       "        text-align: right;\n",
       "    }\n",
       "</style>\n",
       "<table border=\"1\" class=\"dataframe\">\n",
       "  <thead>\n",
       "    <tr style=\"text-align: right;\">\n",
       "      <th></th>\n",
       "      <th>id</th>\n",
       "      <th>sender</th>\n",
       "      <th>sender_num</th>\n",
       "      <th>texts</th>\n",
       "      <th>round</th>\n",
       "      <th>CNUG0</th>\n",
       "      <th>CNUG</th>\n",
       "      <th>CNUG*</th>\n",
       "      <th>CNaN</th>\n",
       "      <th>HNUG</th>\n",
       "      <th>HNUG*</th>\n",
       "      <th>HNaN</th>\n",
       "      <th>W2V</th>\n",
       "      <th>W2V_str</th>\n",
       "      <th>Baidu</th>\n",
       "      <th>Baidu_str</th>\n",
       "    </tr>\n",
       "  </thead>\n",
       "  <tbody>\n",
       "    <tr>\n",
       "      <th>0</th>\n",
       "      <td>4227729258237823</td>\n",
       "      <td>customer</td>\n",
       "      <td>0</td>\n",
       "      <td>内涵 段子 联通 皮 点赞 中国联通 中国联通 客服 掌上 营业厅 内涵 段子 话题 封 郑...</td>\n",
       "      <td>1</td>\n",
       "      <td>0.157895</td>\n",
       "      <td>0.052632</td>\n",
       "      <td>0.0</td>\n",
       "      <td>0.789474</td>\n",
       "      <td>0.000000</td>\n",
       "      <td>0.0</td>\n",
       "      <td>0.000000</td>\n",
       "      <td>[-0.02111732100624999, 0.10223091825, -0.30662...</td>\n",
       "      <td>-0.02111732100624999  0.10223091825  -0.306626...</td>\n",
       "      <td>[-0.009006260000000006, -0.12876053333333337, ...</td>\n",
       "      <td>-0.009006260000000006 -0.12876053333333337 -0....</td>\n",
       "    </tr>\n",
       "    <tr>\n",
       "      <th>1</th>\n",
       "      <td>4227729258237823</td>\n",
       "      <td>helpdesk</td>\n",
       "      <td>1</td>\n",
       "      <td>u</td>\n",
       "      <td>2</td>\n",
       "      <td>0.000000</td>\n",
       "      <td>0.000000</td>\n",
       "      <td>0.0</td>\n",
       "      <td>0.000000</td>\n",
       "      <td>0.157895</td>\n",
       "      <td>0.0</td>\n",
       "      <td>0.842105</td>\n",
       "      <td>[-0.48231393, 0.20268732, -0.007562897, 0.5968...</td>\n",
       "      <td>-0.48231393  0.20268732  -0.007562897  0.59681...</td>\n",
       "      <td>[-0.2629662, 0.0762358, 0.2080196, 0.3057628, ...</td>\n",
       "      <td>-0.2629662 0.0762358 0.2080196 0.3057628 0.778...</td>\n",
       "    </tr>\n",
       "    <tr>\n",
       "      <th>2</th>\n",
       "      <td>4227729258237823</td>\n",
       "      <td>customer</td>\n",
       "      <td>0</td>\n",
       "      <td>夸夸</td>\n",
       "      <td>3</td>\n",
       "      <td>0.000000</td>\n",
       "      <td>0.157895</td>\n",
       "      <td>0.0</td>\n",
       "      <td>0.842105</td>\n",
       "      <td>0.000000</td>\n",
       "      <td>0.0</td>\n",
       "      <td>0.000000</td>\n",
       "      <td>[0.06334899, 0.29939547, -0.21566886, -0.20707...</td>\n",
       "      <td>0.06334899  0.29939547  -0.21566886  -0.207073...</td>\n",
       "      <td>[-0.1716327, -0.0403716, 0.831547, 0.3576899, ...</td>\n",
       "      <td>-0.1716327 -0.0403716 0.831547 0.3576899 0.055...</td>\n",
       "    </tr>\n",
       "    <tr>\n",
       "      <th>3</th>\n",
       "      <td>4227729258237823</td>\n",
       "      <td>helpdesk</td>\n",
       "      <td>1</td>\n",
       "      <td>*</td>\n",
       "      <td>4</td>\n",
       "      <td>0.000000</td>\n",
       "      <td>0.000000</td>\n",
       "      <td>0.0</td>\n",
       "      <td>0.000000</td>\n",
       "      <td>0.157895</td>\n",
       "      <td>0.0</td>\n",
       "      <td>0.842105</td>\n",
       "      <td>[]</td>\n",
       "      <td>[]</td>\n",
       "      <td>[0.0747692, 1.3970691, 0.3845449, 0.1643099, -...</td>\n",
       "      <td>0.0747692 1.3970691 0.3845449 0.1643099 -0.175...</td>\n",
       "    </tr>\n",
       "    <tr>\n",
       "      <th>4</th>\n",
       "      <td>4121001149457182</td>\n",
       "      <td>customer</td>\n",
       "      <td>0</td>\n",
       "      <td>距离 反映 问题 已经 一个 星期 花粉 助手 D 荣耀 honor 荣耀 手机 华为 终端...</td>\n",
       "      <td>1</td>\n",
       "      <td>0.789474</td>\n",
       "      <td>0.052632</td>\n",
       "      <td>0.0</td>\n",
       "      <td>0.157895</td>\n",
       "      <td>0.000000</td>\n",
       "      <td>0.0</td>\n",
       "      <td>0.000000</td>\n",
       "      <td>[-0.046153565211764704, 0.16828140505882355, -...</td>\n",
       "      <td>-0.046153565211764704  0.16828140505882355  -0...</td>\n",
       "      <td>[-0.14881093125000006, -0.13789863125, -0.0941...</td>\n",
       "      <td>-0.14881093125000006 -0.13789863125 -0.0941723...</td>\n",
       "    </tr>\n",
       "  </tbody>\n",
       "</table>\n",
       "</div>"
      ],
      "text/plain": [
       "                 id    sender  sender_num  \\\n",
       "0  4227729258237823  customer           0   \n",
       "1  4227729258237823  helpdesk           1   \n",
       "2  4227729258237823  customer           0   \n",
       "3  4227729258237823  helpdesk           1   \n",
       "4  4121001149457182  customer           0   \n",
       "\n",
       "                                               texts  round     CNUG0  \\\n",
       "0  内涵 段子 联通 皮 点赞 中国联通 中国联通 客服 掌上 营业厅 内涵 段子 话题 封 郑...      1  0.157895   \n",
       "1                                                  u      2  0.000000   \n",
       "2                                                 夸夸      3  0.000000   \n",
       "3                                                  *      4  0.000000   \n",
       "4  距离 反映 问题 已经 一个 星期 花粉 助手 D 荣耀 honor 荣耀 手机 华为 终端...      1  0.789474   \n",
       "\n",
       "       CNUG  CNUG*      CNaN      HNUG  HNUG*      HNaN  \\\n",
       "0  0.052632    0.0  0.789474  0.000000    0.0  0.000000   \n",
       "1  0.000000    0.0  0.000000  0.157895    0.0  0.842105   \n",
       "2  0.157895    0.0  0.842105  0.000000    0.0  0.000000   \n",
       "3  0.000000    0.0  0.000000  0.157895    0.0  0.842105   \n",
       "4  0.052632    0.0  0.157895  0.000000    0.0  0.000000   \n",
       "\n",
       "                                                 W2V  \\\n",
       "0  [-0.02111732100624999, 0.10223091825, -0.30662...   \n",
       "1  [-0.48231393, 0.20268732, -0.007562897, 0.5968...   \n",
       "2  [0.06334899, 0.29939547, -0.21566886, -0.20707...   \n",
       "3                                                 []   \n",
       "4  [-0.046153565211764704, 0.16828140505882355, -...   \n",
       "\n",
       "                                             W2V_str  \\\n",
       "0  -0.02111732100624999  0.10223091825  -0.306626...   \n",
       "1  -0.48231393  0.20268732  -0.007562897  0.59681...   \n",
       "2  0.06334899  0.29939547  -0.21566886  -0.207073...   \n",
       "3                                                 []   \n",
       "4  -0.046153565211764704  0.16828140505882355  -0...   \n",
       "\n",
       "                                               Baidu  \\\n",
       "0  [-0.009006260000000006, -0.12876053333333337, ...   \n",
       "1  [-0.2629662, 0.0762358, 0.2080196, 0.3057628, ...   \n",
       "2  [-0.1716327, -0.0403716, 0.831547, 0.3576899, ...   \n",
       "3  [0.0747692, 1.3970691, 0.3845449, 0.1643099, -...   \n",
       "4  [-0.14881093125000006, -0.13789863125, -0.0941...   \n",
       "\n",
       "                                           Baidu_str  \n",
       "0  -0.009006260000000006 -0.12876053333333337 -0....  \n",
       "1  -0.2629662 0.0762358 0.2080196 0.3057628 0.778...  \n",
       "2  -0.1716327 -0.0403716 0.831547 0.3576899 0.055...  \n",
       "3  0.0747692 1.3970691 0.3845449 0.1643099 -0.175...  \n",
       "4  -0.14881093125000006 -0.13789863125 -0.0941723...  "
      ]
     },
     "execution_count": 53,
     "metadata": {},
     "output_type": "execute_result"
    }
   ],
   "source": [
    "dev = np_arr_to_str(dev)\n",
    "dev.head()"
   ]
  },
  {
   "cell_type": "code",
   "execution_count": 54,
   "metadata": {},
   "outputs": [
    {
     "data": {
      "text/html": [
       "<div>\n",
       "<style scoped>\n",
       "    .dataframe tbody tr th:only-of-type {\n",
       "        vertical-align: middle;\n",
       "    }\n",
       "\n",
       "    .dataframe tbody tr th {\n",
       "        vertical-align: top;\n",
       "    }\n",
       "\n",
       "    .dataframe thead th {\n",
       "        text-align: right;\n",
       "    }\n",
       "</style>\n",
       "<table border=\"1\" class=\"dataframe\">\n",
       "  <thead>\n",
       "    <tr style=\"text-align: right;\">\n",
       "      <th></th>\n",
       "      <th>id</th>\n",
       "      <th>sender</th>\n",
       "      <th>sender_num</th>\n",
       "      <th>texts</th>\n",
       "      <th>round</th>\n",
       "      <th>CNUG0</th>\n",
       "      <th>CNUG</th>\n",
       "      <th>CNUG*</th>\n",
       "      <th>CNaN</th>\n",
       "      <th>HNUG</th>\n",
       "      <th>HNUG*</th>\n",
       "      <th>HNaN</th>\n",
       "      <th>W2V</th>\n",
       "      <th>W2V_str</th>\n",
       "      <th>Baidu</th>\n",
       "      <th>Baidu_str</th>\n",
       "    </tr>\n",
       "  </thead>\n",
       "  <tbody>\n",
       "    <tr>\n",
       "      <th>0</th>\n",
       "      <td>3830401296796826</td>\n",
       "      <td>customer</td>\n",
       "      <td>0</td>\n",
       "      <td>中国电信 控制箱 没有 维护 信息安全 人身安全 保障 好好 修修 应该 差钱 位于 济南市...</td>\n",
       "      <td>1</td>\n",
       "      <td>0.736842</td>\n",
       "      <td>0.052632</td>\n",
       "      <td>0.0</td>\n",
       "      <td>0.210526</td>\n",
       "      <td>0.000000</td>\n",
       "      <td>0.000000</td>\n",
       "      <td>0.000000</td>\n",
       "      <td>[0.082410949456, 0.041056426199999996, -0.1564...</td>\n",
       "      <td>0.082410949456  0.041056426199999996  -0.15647...</td>\n",
       "      <td>[-0.004204561904761913, -0.14198089523809523, ...</td>\n",
       "      <td>-0.004204561904761913 -0.14198089523809523 0.0...</td>\n",
       "    </tr>\n",
       "    <tr>\n",
       "      <th>1</th>\n",
       "      <td>3830401296796826</td>\n",
       "      <td>helpdesk</td>\n",
       "      <td>1</td>\n",
       "      <td>您好 反映 情况 认真 记录 会 及时 相关 部门 反馈 敬请 等待</td>\n",
       "      <td>2</td>\n",
       "      <td>0.000000</td>\n",
       "      <td>0.000000</td>\n",
       "      <td>0.0</td>\n",
       "      <td>0.000000</td>\n",
       "      <td>0.473684</td>\n",
       "      <td>0.000000</td>\n",
       "      <td>0.526316</td>\n",
       "      <td>[-0.03553892808333333, 0.17461223858333333, -0...</td>\n",
       "      <td>-0.03553892808333333  0.17461223858333333  -0....</td>\n",
       "      <td>[-0.05267071666666667, 0.09319805000000002, 0....</td>\n",
       "      <td>-0.05267071666666667 0.09319805000000002 0.087...</td>\n",
       "    </tr>\n",
       "    <tr>\n",
       "      <th>2</th>\n",
       "      <td>3830772740080373</td>\n",
       "      <td>customer</td>\n",
       "      <td>0</td>\n",
       "      <td>电信服务 广州市 白云区 太和 镇 谢家 庄 二队 电信 信号 差 投诉 几年 没人 处理 ...</td>\n",
       "      <td>1</td>\n",
       "      <td>0.736842</td>\n",
       "      <td>0.000000</td>\n",
       "      <td>0.0</td>\n",
       "      <td>0.263158</td>\n",
       "      <td>0.000000</td>\n",
       "      <td>0.000000</td>\n",
       "      <td>0.000000</td>\n",
       "      <td>[0.01378158932432433, 0.15494613002702703, -0....</td>\n",
       "      <td>0.01378158932432433  0.15494613002702703  -0.1...</td>\n",
       "      <td>[0.022850767647058803, 0.00045413235294118045,...</td>\n",
       "      <td>0.022850767647058803 0.00045413235294118045 -0...</td>\n",
       "    </tr>\n",
       "    <tr>\n",
       "      <th>3</th>\n",
       "      <td>3830772740080373</td>\n",
       "      <td>helpdesk</td>\n",
       "      <td>1</td>\n",
       "      <td>您好 中国电信 广东 客服 关注 反映 问题 请 详细描述 一下 问题 处理 谢谢</td>\n",
       "      <td>2</td>\n",
       "      <td>0.000000</td>\n",
       "      <td>0.000000</td>\n",
       "      <td>0.0</td>\n",
       "      <td>0.000000</td>\n",
       "      <td>0.526316</td>\n",
       "      <td>0.052632</td>\n",
       "      <td>0.421053</td>\n",
       "      <td>[-0.030600412399999992, 0.07297016430769229, -...</td>\n",
       "      <td>-0.030600412399999992  0.07297016430769229  -0...</td>\n",
       "      <td>[-0.36042518181818184, 0.18539584545454543, 0....</td>\n",
       "      <td>-0.36042518181818184 0.18539584545454543 0.066...</td>\n",
       "    </tr>\n",
       "    <tr>\n",
       "      <th>4</th>\n",
       "      <td>3830772740080373</td>\n",
       "      <td>customer</td>\n",
       "      <td>0</td>\n",
       "      <td>图片 知道 起码 通信 信号 没有 更 3G 上网 信号 一年 前 两年 前 第一次 电话 ...</td>\n",
       "      <td>3</td>\n",
       "      <td>0.052632</td>\n",
       "      <td>0.736842</td>\n",
       "      <td>0.0</td>\n",
       "      <td>0.210526</td>\n",
       "      <td>0.000000</td>\n",
       "      <td>0.000000</td>\n",
       "      <td>0.000000</td>\n",
       "      <td>[0.009741488182051285, 0.19042638691025635, -0...</td>\n",
       "      <td>0.009741488182051285  0.19042638691025635  -0....</td>\n",
       "      <td>[-0.05475728378378378, 0.016655232432432426, 0...</td>\n",
       "      <td>-0.05475728378378378 0.016655232432432426 0.04...</td>\n",
       "    </tr>\n",
       "  </tbody>\n",
       "</table>\n",
       "</div>"
      ],
      "text/plain": [
       "                 id    sender  sender_num  \\\n",
       "0  3830401296796826  customer           0   \n",
       "1  3830401296796826  helpdesk           1   \n",
       "2  3830772740080373  customer           0   \n",
       "3  3830772740080373  helpdesk           1   \n",
       "4  3830772740080373  customer           0   \n",
       "\n",
       "                                               texts  round     CNUG0  \\\n",
       "0  中国电信 控制箱 没有 维护 信息安全 人身安全 保障 好好 修修 应该 差钱 位于 济南市...      1  0.736842   \n",
       "1                 您好 反映 情况 认真 记录 会 及时 相关 部门 反馈 敬请 等待      2  0.000000   \n",
       "2  电信服务 广州市 白云区 太和 镇 谢家 庄 二队 电信 信号 差 投诉 几年 没人 处理 ...      1  0.736842   \n",
       "3          您好 中国电信 广东 客服 关注 反映 问题 请 详细描述 一下 问题 处理 谢谢      2  0.000000   \n",
       "4  图片 知道 起码 通信 信号 没有 更 3G 上网 信号 一年 前 两年 前 第一次 电话 ...      3  0.052632   \n",
       "\n",
       "       CNUG  CNUG*      CNaN      HNUG     HNUG*      HNaN  \\\n",
       "0  0.052632    0.0  0.210526  0.000000  0.000000  0.000000   \n",
       "1  0.000000    0.0  0.000000  0.473684  0.000000  0.526316   \n",
       "2  0.000000    0.0  0.263158  0.000000  0.000000  0.000000   \n",
       "3  0.000000    0.0  0.000000  0.526316  0.052632  0.421053   \n",
       "4  0.736842    0.0  0.210526  0.000000  0.000000  0.000000   \n",
       "\n",
       "                                                 W2V  \\\n",
       "0  [0.082410949456, 0.041056426199999996, -0.1564...   \n",
       "1  [-0.03553892808333333, 0.17461223858333333, -0...   \n",
       "2  [0.01378158932432433, 0.15494613002702703, -0....   \n",
       "3  [-0.030600412399999992, 0.07297016430769229, -...   \n",
       "4  [0.009741488182051285, 0.19042638691025635, -0...   \n",
       "\n",
       "                                             W2V_str  \\\n",
       "0  0.082410949456  0.041056426199999996  -0.15647...   \n",
       "1  -0.03553892808333333  0.17461223858333333  -0....   \n",
       "2  0.01378158932432433  0.15494613002702703  -0.1...   \n",
       "3  -0.030600412399999992  0.07297016430769229  -0...   \n",
       "4  0.009741488182051285  0.19042638691025635  -0....   \n",
       "\n",
       "                                               Baidu  \\\n",
       "0  [-0.004204561904761913, -0.14198089523809523, ...   \n",
       "1  [-0.05267071666666667, 0.09319805000000002, 0....   \n",
       "2  [0.022850767647058803, 0.00045413235294118045,...   \n",
       "3  [-0.36042518181818184, 0.18539584545454543, 0....   \n",
       "4  [-0.05475728378378378, 0.016655232432432426, 0...   \n",
       "\n",
       "                                           Baidu_str  \n",
       "0  -0.004204561904761913 -0.14198089523809523 0.0...  \n",
       "1  -0.05267071666666667 0.09319805000000002 0.087...  \n",
       "2  0.022850767647058803 0.00045413235294118045 -0...  \n",
       "3  -0.36042518181818184 0.18539584545454543 0.066...  \n",
       "4  -0.05475728378378378 0.016655232432432426 0.04...  "
      ]
     },
     "execution_count": 54,
     "metadata": {},
     "output_type": "execute_result"
    }
   ],
   "source": [
    "train = np_arr_to_str(train)\n",
    "train.head()"
   ]
  },
  {
   "cell_type": "code",
   "execution_count": 55,
   "metadata": {},
   "outputs": [],
   "source": [
    "train.to_csv('C:\\\\Users\\\\doudi\\\\OneDrive\\\\Documents\\\\ntcir15\\\\Dataset\\\\New_DialEval-1\\\\train_baidu_cn.csv', index=False, encoding='utf_8_sig')\n",
    "dev.to_csv('C:\\\\Users\\\\doudi\\\\OneDrive\\\\Documents\\\\ntcir15\\\\Dataset\\\\New_DialEval-1\\\\dev_baidu_cn.csv', index=False, encoding='utf_8_sig')"
   ]
  }
 ],
 "metadata": {
  "kernelspec": {
   "display_name": "Python 3",
   "language": "python",
   "name": "python3"
  },
  "language_info": {
   "codemirror_mode": {
    "name": "ipython",
    "version": 3
   },
   "file_extension": ".py",
   "mimetype": "text/x-python",
   "name": "python",
   "nbconvert_exporter": "python",
   "pygments_lexer": "ipython3",
   "version": "3.7.3"
  }
 },
 "nbformat": 4,
 "nbformat_minor": 2
}
