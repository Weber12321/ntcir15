{
 "cells": [
  {
   "cell_type": "code",
   "execution_count": 8,
   "metadata": {},
   "outputs": [
    {
     "name": "stdout",
     "output_type": "stream",
     "text": [
      "1.0\n"
     ]
    }
   ],
   "source": [
    "from numpy import zeros, array\n",
    "from math import sqrt, log\n",
    "\n",
    "class JSD(object):\n",
    "\n",
    "\n",
    "    def __init__(self):\n",
    "\n",
    "        self.log2 = log(2)\n",
    "\n",
    "\n",
    "\n",
    "    def KL_divergence(self, p, q):\n",
    "\n",
    "        #\"\"\" Compute KL divergence of two vectors, K(p || q).\"\"\"\n",
    "\n",
    "        return sum(p[x] * log((p[x])/(q[x])) for x in range(len(p)) if p[x]!= 0.0 or p[x]!= 0)\n",
    "\n",
    "\n",
    "\n",
    "    def Jensen_Shannon_divergence(self, p, q):\n",
    "\n",
    "        #\"\"\" Returns the Jensen-Shannon divergence.\"\"\"\n",
    "        self.JSD = 0.0\n",
    "        weight = 0.5\n",
    "        average = zeros(len(p)) #Average\n",
    "\n",
    "        for x in range(len(p)):\n",
    "            average[x] = weight * p[x] + (1 - weight) * q[x]\n",
    "\n",
    "\n",
    "        JSD = (weight * self.KL_divergence(array(p), average)) + ((1 - weight) * self.KL_divergence(array(q), average))\n",
    "\n",
    "        return 1-(self.JSD/sqrt(2 * self.log2))\n",
    "\n",
    "\n",
    "\n",
    "if __name__ == '__main__':\n",
    "\n",
    "\n",
    "    J = JSD()\n",
    "\n",
    "\n",
    "    p = [1.0/10, 1.0/10, 0]\n",
    "\n",
    "\n",
    "    q = [0, 1.0/10, 9.0/10]\n",
    "\n",
    "\n",
    "    print (J.Jensen_Shannon_divergence(p, q))"
   ]
  },
  {
   "cell_type": "code",
   "execution_count": null,
   "metadata": {},
   "outputs": [],
   "source": []
  }
 ],
 "metadata": {
  "kernelspec": {
   "display_name": "Python 3",
   "language": "python",
   "name": "python3"
  },
  "language_info": {
   "codemirror_mode": {
    "name": "ipython",
    "version": 3
   },
   "file_extension": ".py",
   "mimetype": "text/x-python",
   "name": "python",
   "nbconvert_exporter": "python",
   "pygments_lexer": "ipython3",
   "version": "3.7.3"
  }
 },
 "nbformat": 4,
 "nbformat_minor": 2
}
