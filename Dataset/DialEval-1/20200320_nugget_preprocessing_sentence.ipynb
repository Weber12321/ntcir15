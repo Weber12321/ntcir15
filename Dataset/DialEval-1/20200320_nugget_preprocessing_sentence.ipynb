{
 "cells": [
  {
   "cell_type": "code",
   "execution_count": null,
   "metadata": {},
   "outputs": [],
   "source": [
    "#標點符號、停用詞的移除\n",
    "#若為空值，則以*取代之\n",
    "#label重新編碼：0:CNUG, 1:CNUG *, 2:CNUG0, 3:CNaN, 4:HNUG, 5:HNUG *, 6:HNaN"
   ]
  },
  {
   "cell_type": "code",
   "execution_count": 1,
   "metadata": {},
   "outputs": [],
   "source": [
    "import numpy as np\n",
    "import pandas as pd\n",
    "import jieba\n",
    "import re\n",
    "from sklearn import preprocessing\n",
    "import csv"
   ]
  },
  {
   "cell_type": "code",
   "execution_count": 2,
   "metadata": {},
   "outputs": [
    {
     "data": {
      "text/html": [
       "<div>\n",
       "<style scoped>\n",
       "    .dataframe tbody tr th:only-of-type {\n",
       "        vertical-align: middle;\n",
       "    }\n",
       "\n",
       "    .dataframe tbody tr th {\n",
       "        vertical-align: top;\n",
       "    }\n",
       "\n",
       "    .dataframe thead th {\n",
       "        text-align: right;\n",
       "    }\n",
       "</style>\n",
       "<table border=\"1\" class=\"dataframe\">\n",
       "  <thead>\n",
       "    <tr style=\"text-align: right;\">\n",
       "      <th></th>\n",
       "      <th>id</th>\n",
       "      <th>round</th>\n",
       "      <th>sender</th>\n",
       "      <th>utterance</th>\n",
       "      <th>n</th>\n",
       "      <th>n1</th>\n",
       "      <th>n2</th>\n",
       "      <th>n3</th>\n",
       "      <th>n4</th>\n",
       "      <th>n5</th>\n",
       "      <th>...</th>\n",
       "      <th>n10</th>\n",
       "      <th>n11</th>\n",
       "      <th>n12</th>\n",
       "      <th>n13</th>\n",
       "      <th>n14</th>\n",
       "      <th>n15</th>\n",
       "      <th>n16</th>\n",
       "      <th>n17</th>\n",
       "      <th>n18</th>\n",
       "      <th>n19</th>\n",
       "    </tr>\n",
       "  </thead>\n",
       "  <tbody>\n",
       "    <tr>\n",
       "      <th>0</th>\n",
       "      <td>4227729258237820</td>\n",
       "      <td>1</td>\n",
       "      <td>customer</td>\n",
       "      <td>['#内涵段子# 联通你有些皮了！不过为你点赞 @中国联通 @中国联通客服 掌上营业厅（内涵...</td>\n",
       "      <td>CNaN</td>\n",
       "      <td>CNaN</td>\n",
       "      <td>CNUG</td>\n",
       "      <td>CNaN</td>\n",
       "      <td>CNUG0</td>\n",
       "      <td>CNaN</td>\n",
       "      <td>...</td>\n",
       "      <td>CNUG0</td>\n",
       "      <td>CNaN</td>\n",
       "      <td>CNaN</td>\n",
       "      <td>CNaN</td>\n",
       "      <td>CNaN</td>\n",
       "      <td>CNaN</td>\n",
       "      <td>CNaN</td>\n",
       "      <td>CNaN</td>\n",
       "      <td>CNaN</td>\n",
       "      <td>CNaN</td>\n",
       "    </tr>\n",
       "    <tr>\n",
       "      <th>1</th>\n",
       "      <td>4227729258237820</td>\n",
       "      <td>2</td>\n",
       "      <td>helpdesk</td>\n",
       "      <td>['', '小u来了']</td>\n",
       "      <td>HNaN</td>\n",
       "      <td>HNaN</td>\n",
       "      <td>HNUG</td>\n",
       "      <td>HNaN</td>\n",
       "      <td>HNaN</td>\n",
       "      <td>HNaN</td>\n",
       "      <td>...</td>\n",
       "      <td>HNUG</td>\n",
       "      <td>HNaN</td>\n",
       "      <td>HNaN</td>\n",
       "      <td>HNaN</td>\n",
       "      <td>HNaN</td>\n",
       "      <td>HNaN</td>\n",
       "      <td>HNaN</td>\n",
       "      <td>HNaN</td>\n",
       "      <td>HNaN</td>\n",
       "      <td>HNaN</td>\n",
       "    </tr>\n",
       "    <tr>\n",
       "      <th>2</th>\n",
       "      <td>4227729258237820</td>\n",
       "      <td>3</td>\n",
       "      <td>customer</td>\n",
       "      <td>['那夸夸你']</td>\n",
       "      <td>CNaN</td>\n",
       "      <td>CNaN</td>\n",
       "      <td>CNUG</td>\n",
       "      <td>CNaN</td>\n",
       "      <td>CNaN</td>\n",
       "      <td>CNaN</td>\n",
       "      <td>...</td>\n",
       "      <td>CNUG</td>\n",
       "      <td>CNaN</td>\n",
       "      <td>CNaN</td>\n",
       "      <td>CNaN</td>\n",
       "      <td>CNaN</td>\n",
       "      <td>CNaN</td>\n",
       "      <td>CNaN</td>\n",
       "      <td>CNaN</td>\n",
       "      <td>CNaN</td>\n",
       "      <td>CNaN</td>\n",
       "    </tr>\n",
       "  </tbody>\n",
       "</table>\n",
       "<p>3 rows × 24 columns</p>\n",
       "</div>"
      ],
      "text/plain": [
       "                 id  round    sender  \\\n",
       "0  4227729258237820      1  customer   \n",
       "1  4227729258237820      2  helpdesk   \n",
       "2  4227729258237820      3  customer   \n",
       "\n",
       "                                           utterance     n    n1    n2    n3  \\\n",
       "0  ['#内涵段子# 联通你有些皮了！不过为你点赞 @中国联通 @中国联通客服 掌上营业厅（内涵...  CNaN  CNaN  CNUG  CNaN   \n",
       "1                                       ['', '小u来了']  HNaN  HNaN  HNUG  HNaN   \n",
       "2                                           ['那夸夸你']  CNaN  CNaN  CNUG  CNaN   \n",
       "\n",
       "      n4    n5  ...    n10   n11   n12   n13   n14   n15   n16   n17   n18  \\\n",
       "0  CNUG0  CNaN  ...  CNUG0  CNaN  CNaN  CNaN  CNaN  CNaN  CNaN  CNaN  CNaN   \n",
       "1   HNaN  HNaN  ...   HNUG  HNaN  HNaN  HNaN  HNaN  HNaN  HNaN  HNaN  HNaN   \n",
       "2   CNaN  CNaN  ...   CNUG  CNaN  CNaN  CNaN  CNaN  CNaN  CNaN  CNaN  CNaN   \n",
       "\n",
       "    n19  \n",
       "0  CNaN  \n",
       "1  HNaN  \n",
       "2  CNaN  \n",
       "\n",
       "[3 rows x 24 columns]"
      ]
     },
     "execution_count": 2,
     "metadata": {},
     "output_type": "execute_result"
    }
   ],
   "source": [
    "trainset = pd.read_excel('dev+train_clean.xlsx', encoding='utf-8')\n",
    "trainset[:3]"
   ]
  },
  {
   "cell_type": "code",
   "execution_count": 3,
   "metadata": {},
   "outputs": [],
   "source": [
    "labels = list(trainset['n'])\n",
    "texts = list(trainset['utterance'])\n",
    "ID = list(trainset['id'])\n",
    "ID_round = list(trainset['round'])\n",
    "sender = list(trainset['sender'])"
   ]
  },
  {
   "cell_type": "code",
   "execution_count": 4,
   "metadata": {},
   "outputs": [],
   "source": [
    "def get_encoded_label(labels):\n",
    "    le = preprocessing.LabelEncoder()\n",
    "    le.fit([\"CNUG0\", \"CNUG*\", \"HNUG*\", \"CNUG\", \"HNUG\", \"CNaN\", \"HNaN\"]);\n",
    "    return le.transform(labels)\n",
    "#0:CNUG, 1:CNUG*, 2:CNUG0, 3:CNaN, 4:HNUG, 5:HNUG*, 6:HNaN"
   ]
  },
  {
   "cell_type": "code",
   "execution_count": 5,
   "metadata": {},
   "outputs": [],
   "source": [
    "#labels轉數字\n",
    "labels = get_encoded_label(labels)"
   ]
  },
  {
   "cell_type": "code",
   "execution_count": 6,
   "metadata": {
    "scrolled": true
   },
   "outputs": [
    {
     "name": "stderr",
     "output_type": "stream",
     "text": [
      "Building prefix dict from the default dictionary ...\n",
      "Dumping model to file cache /var/folders/6c/zvr3trdx07525nkmnddnhbh00000gn/T/jieba.cache\n",
      "Loading model cost 0.722 seconds.\n",
      "Prefix dict has been built succesfully.\n"
     ]
    }
   ],
   "source": [
    "seg_texts = []\n",
    "for line in texts:\n",
    "    seg_content = ' '.join(jieba.cut(line, cut_all = False))\n",
    "    seg_texts.append(seg_content)"
   ]
  },
  {
   "cell_type": "code",
   "execution_count": 7,
   "metadata": {},
   "outputs": [],
   "source": [
    "def remove_punctuation(line):\n",
    "    rule = re.compile(\"[^a-zA-Z0-9\\u4e00-\\u9fa5]\")\n",
    "    line = rule.sub(' ',line)\n",
    "    return line"
   ]
  },
  {
   "cell_type": "code",
   "execution_count": 8,
   "metadata": {},
   "outputs": [],
   "source": [
    "#去除標點符號\n",
    "texts = []\n",
    "for line in seg_texts:\n",
    "    new_line = remove_punctuation(line).split()\n",
    "    texts.append(new_line)"
   ]
  },
  {
   "cell_type": "code",
   "execution_count": 9,
   "metadata": {},
   "outputs": [],
   "source": [
    "cn_stopwords = []\n",
    "with open('cn_stopwords.txt', 'r', encoding='UTF-8') as file:\n",
    "    for data in file.read().splitlines():\n",
    "        cn_stopwords.append(data)"
   ]
  },
  {
   "cell_type": "code",
   "execution_count": 10,
   "metadata": {},
   "outputs": [],
   "source": [
    "#去除停用詞\n",
    "pp_texts = []\n",
    "for line in texts:\n",
    "    line_noSW = []\n",
    "    for word in line:\n",
    "        if word not in cn_stopwords:\n",
    "            line_noSW.append(word)\n",
    "    pp_texts.append(line_noSW)"
   ]
  },
  {
   "cell_type": "code",
   "execution_count": 11,
   "metadata": {},
   "outputs": [],
   "source": [
    "#處理pp_texts內為空值的內容(可能是表情符號)，以*取代\n",
    "for line in pp_texts:\n",
    "    if line == []:\n",
    "        line.append(\"*\")"
   ]
  },
  {
   "cell_type": "code",
   "execution_count": 12,
   "metadata": {},
   "outputs": [],
   "source": [
    "#以空格串起整個句子\n",
    "new_texts = []\n",
    "for sentence in pp_texts:\n",
    "    series_sentence = \" \".join(word for word in sentence)\n",
    "    new_texts.append(series_sentence)"
   ]
  },
  {
   "cell_type": "code",
   "execution_count": 13,
   "metadata": {},
   "outputs": [],
   "source": [
    "data = {\"id\":ID, \"round\":ID_round, \"sender\":sender, \"texts\":new_texts, \"labels\":list(labels)}\n",
    "dataset = pd.DataFrame(data)"
   ]
  },
  {
   "cell_type": "code",
   "execution_count": 14,
   "metadata": {},
   "outputs": [],
   "source": [
    "dataset.to_excel('200428_dataset.xlsx', encoding = 'utf_8_sig')"
   ]
  },
  {
   "cell_type": "code",
   "execution_count": null,
   "metadata": {},
   "outputs": [],
   "source": []
  }
 ],
 "metadata": {
  "kernelspec": {
   "display_name": "Python 3",
   "language": "python",
   "name": "python3"
  },
  "language_info": {
   "codemirror_mode": {
    "name": "ipython",
    "version": 3
   },
   "file_extension": ".py",
   "mimetype": "text/x-python",
   "name": "python",
   "nbconvert_exporter": "python",
   "pygments_lexer": "ipython3",
   "version": "3.7.3"
  }
 },
 "nbformat": 4,
 "nbformat_minor": 2
}
