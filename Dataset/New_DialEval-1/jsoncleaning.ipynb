{
 "cells": [
  {
   "cell_type": "code",
   "execution_count": 1,
   "metadata": {},
   "outputs": [],
   "source": [
    "import os\n",
    "import pandas as pd\n",
    "from tqdm import tqdm_notebook as tqdm"
   ]
  },
  {
   "cell_type": "code",
   "execution_count": 2,
   "metadata": {},
   "outputs": [],
   "source": [
    "os.chdir('C:/Users/doudi/Downloads/dialeval_dataset/dataset')\n",
    "\n",
    "train = pd.read_json(r'train_cn.json', encoding='utf8')\n",
    "dev = pd.read_json(r'dev_cn.json', encoding='utf8')"
   ]
  },
  {
   "cell_type": "code",
   "execution_count": 3,
   "metadata": {},
   "outputs": [
    {
     "data": {
      "text/html": [
       "<div>\n",
       "<style scoped>\n",
       "    .dataframe tbody tr th:only-of-type {\n",
       "        vertical-align: middle;\n",
       "    }\n",
       "\n",
       "    .dataframe tbody tr th {\n",
       "        vertical-align: top;\n",
       "    }\n",
       "\n",
       "    .dataframe thead th {\n",
       "        text-align: right;\n",
       "    }\n",
       "</style>\n",
       "<table border=\"1\" class=\"dataframe\">\n",
       "  <thead>\n",
       "    <tr style=\"text-align: right;\">\n",
       "      <th></th>\n",
       "      <th>annotations</th>\n",
       "      <th>id</th>\n",
       "      <th>turns</th>\n",
       "    </tr>\n",
       "  </thead>\n",
       "  <tbody>\n",
       "    <tr>\n",
       "      <th>0</th>\n",
       "      <td>[{'quality': {'A': 0, 'S': -2, 'E': -2}, 'nugg...</td>\n",
       "      <td>3830401296796826</td>\n",
       "      <td>[{'sender': 'customer', 'utterances': ['中国电信的控...</td>\n",
       "    </tr>\n",
       "    <tr>\n",
       "      <th>1</th>\n",
       "      <td>[{'quality': {'A': 1, 'S': -1, 'E': -2}, 'nugg...</td>\n",
       "      <td>3830772740080373</td>\n",
       "      <td>[{'sender': 'customer', 'utterances': ['#电信服务怎...</td>\n",
       "    </tr>\n",
       "    <tr>\n",
       "      <th>2</th>\n",
       "      <td>[{'quality': {'A': 0, 'S': 0, 'E': 2}, 'nugget...</td>\n",
       "      <td>3915300992785146</td>\n",
       "      <td>[{'sender': 'customer', 'utterances': ['今天11点2...</td>\n",
       "    </tr>\n",
       "    <tr>\n",
       "      <th>3</th>\n",
       "      <td>[{'quality': {'A': 1, 'S': 1, 'E': 2}, 'nugget...</td>\n",
       "      <td>3784236539025819</td>\n",
       "      <td>[{'sender': 'customer', 'utterances': ['@音悦Tai...</td>\n",
       "    </tr>\n",
       "    <tr>\n",
       "      <th>4</th>\n",
       "      <td>[{'quality': {'A': 2, 'S': 2, 'E': 2}, 'nugget...</td>\n",
       "      <td>3609054825454105</td>\n",
       "      <td>[{'sender': 'customer', 'utterances': ['微信沃卡到手...</td>\n",
       "    </tr>\n",
       "  </tbody>\n",
       "</table>\n",
       "</div>"
      ],
      "text/plain": [
       "                                         annotations                id  \\\n",
       "0  [{'quality': {'A': 0, 'S': -2, 'E': -2}, 'nugg...  3830401296796826   \n",
       "1  [{'quality': {'A': 1, 'S': -1, 'E': -2}, 'nugg...  3830772740080373   \n",
       "2  [{'quality': {'A': 0, 'S': 0, 'E': 2}, 'nugget...  3915300992785146   \n",
       "3  [{'quality': {'A': 1, 'S': 1, 'E': 2}, 'nugget...  3784236539025819   \n",
       "4  [{'quality': {'A': 2, 'S': 2, 'E': 2}, 'nugget...  3609054825454105   \n",
       "\n",
       "                                               turns  \n",
       "0  [{'sender': 'customer', 'utterances': ['中国电信的控...  \n",
       "1  [{'sender': 'customer', 'utterances': ['#电信服务怎...  \n",
       "2  [{'sender': 'customer', 'utterances': ['今天11点2...  \n",
       "3  [{'sender': 'customer', 'utterances': ['@音悦Tai...  \n",
       "4  [{'sender': 'customer', 'utterances': ['微信沃卡到手...  "
      ]
     },
     "execution_count": 3,
     "metadata": {},
     "output_type": "execute_result"
    }
   ],
   "source": [
    "train.head()"
   ]
  },
  {
   "cell_type": "code",
   "execution_count": 4,
   "metadata": {},
   "outputs": [],
   "source": [
    "def get_nugget(dataframe):   \n",
    "    target = {'nugget'}\n",
    "    dicts = []\n",
    "    for item in tqdm(dataframe['annotations']):\n",
    "        sub_dicts = []\n",
    "        for element in item:\n",
    "            sub_dicts.append({key:value for key,value in element.items() if key in target}['nugget'])\n",
    "        dicts.append(sub_dicts)\n",
    "\n",
    "    dataframe['nuggets'] = dicts # dis is for anno nugget list\n",
    "    \n",
    "    return dataframe"
   ]
  },
  {
   "cell_type": "code",
   "execution_count": 5,
   "metadata": {},
   "outputs": [],
   "source": [
    "def shaping(dataframe):\n",
    "    length = []\n",
    "    for i in tqdm(dataframe['turns']):\n",
    "        length.append(len(i))\n",
    "    Id = dataframe['id'].tolist()\n",
    "\n",
    "    Fin_Id = sum([[s] * n for s, n in zip(Id, length)], [])\n",
    "\n",
    "    turns_list = dataframe['turns'].tolist()\n",
    "    \n",
    "    Fin_turns_anno = []\n",
    "    for x,y in tqdm(zip(turns_list,dataframe['nuggets'])):\n",
    "        for q in range(len(x)):\n",
    "            Fin_turns_anno.append(list(x[q].values())+[i[q] for i in y])\n",
    "    \n",
    "    return Fin_Id, Fin_turns_anno"
   ]
  },
  {
   "cell_type": "code",
   "execution_count": 6,
   "metadata": {},
   "outputs": [],
   "source": [
    "def stacking(Fin_Id, Fin_turns_anno):    \n",
    "    train_clean = pd.DataFrame({'id': Fin_Id,'info': Fin_turns_anno})\n",
    "    # train_clean.head()\n",
    "    train_df = pd.DataFrame(train_clean['info'].values.tolist(), columns=['sender','utterance','n1','n2','n3','n4','n5','n6','n7','n8','n9','n10','n11','n12','n13','n14','n15','n16','n17','n18','n19'])\n",
    "    train_df['id'] = train_clean['id']\n",
    "    train_df = train_df[['id','sender','utterance','n1','n2','n3','n4','n5','n6','n7','n8','n9','n10','n11','n12','n13','n14','n15','n16','n17','n18','n19']]\n",
    "    \n",
    "    return train_df"
   ]
  },
  {
   "cell_type": "code",
   "execution_count": 7,
   "metadata": {},
   "outputs": [
    {
     "name": "stderr",
     "output_type": "stream",
     "text": [
      "C:\\Users\\doudi\\Anaconda3\\lib\\site-packages\\ipykernel_launcher.py:4: TqdmDeprecationWarning: This function will be removed in tqdm==5.0.0\n",
      "Please use `tqdm.notebook.tqdm` instead of `tqdm.tqdm_notebook`\n",
      "  after removing the cwd from sys.path.\n"
     ]
    },
    {
     "data": {
      "application/vnd.jupyter.widget-view+json": {
       "model_id": "bfa1b37b5347440e96f6cbb3308dd978",
       "version_major": 2,
       "version_minor": 0
      },
      "text/plain": [
       "HBox(children=(FloatProgress(value=0.0, max=3700.0), HTML(value='')))"
      ]
     },
     "metadata": {},
     "output_type": "display_data"
    },
    {
     "name": "stdout",
     "output_type": "stream",
     "text": [
      "\n"
     ]
    },
    {
     "name": "stderr",
     "output_type": "stream",
     "text": [
      "C:\\Users\\doudi\\Anaconda3\\lib\\site-packages\\ipykernel_launcher.py:3: TqdmDeprecationWarning: This function will be removed in tqdm==5.0.0\n",
      "Please use `tqdm.notebook.tqdm` instead of `tqdm.tqdm_notebook`\n",
      "  This is separate from the ipykernel package so we can avoid doing imports until\n"
     ]
    },
    {
     "data": {
      "application/vnd.jupyter.widget-view+json": {
       "model_id": "58023a739a4c41f59ddf6022cb2e60c6",
       "version_major": 2,
       "version_minor": 0
      },
      "text/plain": [
       "HBox(children=(FloatProgress(value=0.0, max=3700.0), HTML(value='')))"
      ]
     },
     "metadata": {},
     "output_type": "display_data"
    },
    {
     "name": "stdout",
     "output_type": "stream",
     "text": [
      "\n"
     ]
    },
    {
     "name": "stderr",
     "output_type": "stream",
     "text": [
      "C:\\Users\\doudi\\Anaconda3\\lib\\site-packages\\ipykernel_launcher.py:12: TqdmDeprecationWarning: This function will be removed in tqdm==5.0.0\n",
      "Please use `tqdm.notebook.tqdm` instead of `tqdm.tqdm_notebook`\n",
      "  if sys.path[0] == '':\n"
     ]
    },
    {
     "data": {
      "application/vnd.jupyter.widget-view+json": {
       "model_id": "c114c383776c4a7fb851ae575dab0bd2",
       "version_major": 2,
       "version_minor": 0
      },
      "text/plain": [
       "HBox(children=(FloatProgress(value=1.0, bar_style='info', max=1.0), HTML(value='')))"
      ]
     },
     "metadata": {},
     "output_type": "display_data"
    },
    {
     "name": "stdout",
     "output_type": "stream",
     "text": [
      "\n"
     ]
    }
   ],
   "source": [
    "one = get_nugget(train)\n",
    "Fin_Id, Fin_turns_anno = shaping(one)\n",
    "df = stacking(Fin_Id, Fin_turns_anno)"
   ]
  },
  {
   "cell_type": "code",
   "execution_count": 8,
   "metadata": {},
   "outputs": [],
   "source": [
    "df.to_csv('train_clean.csv', index=False, encoding='utf_8_sig')"
   ]
  },
  {
   "cell_type": "code",
   "execution_count": 9,
   "metadata": {},
   "outputs": [
    {
     "data": {
      "text/plain": [
       "(15400, 22)"
      ]
     },
     "execution_count": 9,
     "metadata": {},
     "output_type": "execute_result"
    }
   ],
   "source": [
    "df.shape"
   ]
  },
  {
   "cell_type": "code",
   "execution_count": 10,
   "metadata": {},
   "outputs": [
    {
     "name": "stderr",
     "output_type": "stream",
     "text": [
      "C:\\Users\\doudi\\Anaconda3\\lib\\site-packages\\ipykernel_launcher.py:4: TqdmDeprecationWarning: This function will be removed in tqdm==5.0.0\n",
      "Please use `tqdm.notebook.tqdm` instead of `tqdm.tqdm_notebook`\n",
      "  after removing the cwd from sys.path.\n"
     ]
    },
    {
     "data": {
      "application/vnd.jupyter.widget-view+json": {
       "model_id": "d101ca5032f54ca1887b54097ab57e9d",
       "version_major": 2,
       "version_minor": 0
      },
      "text/plain": [
       "HBox(children=(FloatProgress(value=0.0, max=390.0), HTML(value='')))"
      ]
     },
     "metadata": {},
     "output_type": "display_data"
    },
    {
     "name": "stdout",
     "output_type": "stream",
     "text": [
      "\n"
     ]
    },
    {
     "name": "stderr",
     "output_type": "stream",
     "text": [
      "C:\\Users\\doudi\\Anaconda3\\lib\\site-packages\\ipykernel_launcher.py:3: TqdmDeprecationWarning: This function will be removed in tqdm==5.0.0\n",
      "Please use `tqdm.notebook.tqdm` instead of `tqdm.tqdm_notebook`\n",
      "  This is separate from the ipykernel package so we can avoid doing imports until\n"
     ]
    },
    {
     "data": {
      "application/vnd.jupyter.widget-view+json": {
       "model_id": "f290f0e1cbcd40c891dd30cbdfabea49",
       "version_major": 2,
       "version_minor": 0
      },
      "text/plain": [
       "HBox(children=(FloatProgress(value=0.0, max=390.0), HTML(value='')))"
      ]
     },
     "metadata": {},
     "output_type": "display_data"
    },
    {
     "name": "stdout",
     "output_type": "stream",
     "text": [
      "\n"
     ]
    },
    {
     "name": "stderr",
     "output_type": "stream",
     "text": [
      "C:\\Users\\doudi\\Anaconda3\\lib\\site-packages\\ipykernel_launcher.py:12: TqdmDeprecationWarning: This function will be removed in tqdm==5.0.0\n",
      "Please use `tqdm.notebook.tqdm` instead of `tqdm.tqdm_notebook`\n",
      "  if sys.path[0] == '':\n"
     ]
    },
    {
     "data": {
      "application/vnd.jupyter.widget-view+json": {
       "model_id": "98a54f159f4a478692a2d6aea0757dd0",
       "version_major": 2,
       "version_minor": 0
      },
      "text/plain": [
       "HBox(children=(FloatProgress(value=1.0, bar_style='info', max=1.0), HTML(value='')))"
      ]
     },
     "metadata": {},
     "output_type": "display_data"
    },
    {
     "name": "stdout",
     "output_type": "stream",
     "text": [
      "\n"
     ]
    }
   ],
   "source": [
    "two = get_nugget(dev)\n",
    "Fin, Fin_turns = shaping(two)\n",
    "df1 = stacking(Fin, Fin_turns)"
   ]
  },
  {
   "cell_type": "code",
   "execution_count": 11,
   "metadata": {},
   "outputs": [],
   "source": [
    "df1.to_csv('dev_clean.csv', index=False, encoding='utf_8_sig')"
   ]
  },
  {
   "cell_type": "code",
   "execution_count": 12,
   "metadata": {},
   "outputs": [
    {
     "data": {
      "text/plain": [
       "(1755, 22)"
      ]
     },
     "execution_count": 12,
     "metadata": {},
     "output_type": "execute_result"
    }
   ],
   "source": [
    "df1.shape"
   ]
  },
  {
   "cell_type": "code",
   "execution_count": 13,
   "metadata": {},
   "outputs": [
    {
     "data": {
      "text/plain": [
       "\"\\nl0 = ['asd','zxc','qwe']\\nl1 = [['1','2'],['3','4','5','6'],['7','8','0']]\\nl2 = [[['1a','2b'],['1b','2a'],['1c','2d']],\\n      [['3f','4g','5h','6j'],['3z','4x','5c','6v'],['3q','4w','5e','6r']],\\n      [['7a','8s','9d'],['7z','8x','9c'],['7v','8b','9n']]]\\n\\nlength = []\\nfor i in l1:\\n    length.append(len(i))\\n    \\nprint(sum([[s] * n for s, n in zip(l0, length)], []))\\n\\nfor x,y in zip(l1,l2):\\n    for q in range(len(x)):\\n        print(list(x[q])+[i[q] for i in y])\\n        \\n    \\n\""
      ]
     },
     "execution_count": 13,
     "metadata": {},
     "output_type": "execute_result"
    }
   ],
   "source": [
    "\"\"\"\n",
    "l0 = ['asd','zxc','qwe']\n",
    "l1 = [['1','2'],['3','4','5','6'],['7','8','0']]\n",
    "l2 = [[['1a','2b'],['1b','2a'],['1c','2d']],\n",
    "      [['3f','4g','5h','6j'],['3z','4x','5c','6v'],['3q','4w','5e','6r']],\n",
    "      [['7a','8s','9d'],['7z','8x','9c'],['7v','8b','9n']]]\n",
    "\n",
    "length = []\n",
    "for i in l1:\n",
    "    length.append(len(i))\n",
    "    \n",
    "print(sum([[s] * n for s, n in zip(l0, length)], []))\n",
    "\n",
    "for x,y in zip(l1,l2):\n",
    "    for q in range(len(x)):\n",
    "        print(list(x[q])+[i[q] for i in y])\n",
    "        \n",
    "    \n",
    "\"\"\"\n"
   ]
  }
 ],
 "metadata": {
  "kernelspec": {
   "display_name": "Python 3",
   "language": "python",
   "name": "python3"
  },
  "language_info": {
   "codemirror_mode": {
    "name": "ipython",
    "version": 3
   },
   "file_extension": ".py",
   "mimetype": "text/x-python",
   "name": "python",
   "nbconvert_exporter": "python",
   "pygments_lexer": "ipython3",
   "version": "3.7.3"
  }
 },
 "nbformat": 4,
 "nbformat_minor": 2
}
