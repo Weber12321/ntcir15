{
 "cells": [
  {
   "cell_type": "code",
   "execution_count": 1,
   "metadata": {},
   "outputs": [],
   "source": [
    "import os\n",
    "import pandas as pd\n",
    "from tqdm import tqdm_notebook as tqdm"
   ]
  },
  {
   "cell_type": "code",
   "execution_count": 4,
   "metadata": {},
   "outputs": [],
   "source": [
    "os.chdir('C:/Users/doudi/OneDrive/Documents/ntcir15/Dataset/New_DialEval-1')\n",
    "\n",
    "train = pd.read_json(r'train_cn.json', encoding='utf8')\n",
    "dev = pd.read_json(r'dev_cn.json', encoding='utf8')"
   ]
  },
  {
   "cell_type": "code",
   "execution_count": 11,
   "metadata": {},
   "outputs": [
    {
     "data": {
      "text/html": [
       "<div>\n",
       "<style scoped>\n",
       "    .dataframe tbody tr th:only-of-type {\n",
       "        vertical-align: middle;\n",
       "    }\n",
       "\n",
       "    .dataframe tbody tr th {\n",
       "        vertical-align: top;\n",
       "    }\n",
       "\n",
       "    .dataframe thead th {\n",
       "        text-align: right;\n",
       "    }\n",
       "</style>\n",
       "<table border=\"1\" class=\"dataframe\">\n",
       "  <thead>\n",
       "    <tr style=\"text-align: right;\">\n",
       "      <th></th>\n",
       "      <th>annotations</th>\n",
       "      <th>id</th>\n",
       "      <th>turns</th>\n",
       "      <th>nuggets</th>\n",
       "    </tr>\n",
       "  </thead>\n",
       "  <tbody>\n",
       "    <tr>\n",
       "      <th>0</th>\n",
       "      <td>[{'quality': {'A': 0, 'S': 0, 'E': 0}, 'nugget...</td>\n",
       "      <td>4227729258237823</td>\n",
       "      <td>[{'sender': 'customer', 'utterances': ['#内涵段子#...</td>\n",
       "      <td>[[CNaN, HNaN, CNaN, HNaN], [CNUG, HNUG, CNUG, ...</td>\n",
       "    </tr>\n",
       "    <tr>\n",
       "      <th>1</th>\n",
       "      <td>[{'quality': {'A': 0, 'S': -2, 'E': -2}, 'nugg...</td>\n",
       "      <td>4121001149457182</td>\n",
       "      <td>[{'sender': 'customer', 'utterances': ['距离我反映问...</td>\n",
       "      <td>[[CNUG0, HNUG, CNUG, HNUG, CNUG, HNUG, CNUG], ...</td>\n",
       "    </tr>\n",
       "    <tr>\n",
       "      <th>2</th>\n",
       "      <td>[{'quality': {'A': 0, 'S': 1, 'E': 2}, 'nugget...</td>\n",
       "      <td>4220041064492658</td>\n",
       "      <td>[{'sender': 'customer', 'utterances': ['@锤子科技客...</td>\n",
       "      <td>[[CNUG0, HNUG, CNUG, HNUG*, CNaN], [CNUG0, HNU...</td>\n",
       "    </tr>\n",
       "    <tr>\n",
       "      <th>3</th>\n",
       "      <td>[{'quality': {'A': 0, 'S': 0, 'E': 1}, 'nugget...</td>\n",
       "      <td>4024994788689457</td>\n",
       "      <td>[{'sender': 'customer', 'utterances': ['您好,请问华...</td>\n",
       "      <td>[[CNUG0, HNUG, CNUG, HNUG, CNUG], [CNUG0, HNUG...</td>\n",
       "    </tr>\n",
       "    <tr>\n",
       "      <th>4</th>\n",
       "      <td>[{'quality': {'A': 0, 'S': 1, 'E': 1}, 'nugget...</td>\n",
       "      <td>4210023888164273</td>\n",
       "      <td>[{'sender': 'customer', 'utterances': ['锤子M1L升...</td>\n",
       "      <td>[[CNUG0, HNUG, CNUG, HNUG], [CNUG0, HNUG, CNUG...</td>\n",
       "    </tr>\n",
       "  </tbody>\n",
       "</table>\n",
       "</div>"
      ],
      "text/plain": [
       "                                         annotations                id  \\\n",
       "0  [{'quality': {'A': 0, 'S': 0, 'E': 0}, 'nugget...  4227729258237823   \n",
       "1  [{'quality': {'A': 0, 'S': -2, 'E': -2}, 'nugg...  4121001149457182   \n",
       "2  [{'quality': {'A': 0, 'S': 1, 'E': 2}, 'nugget...  4220041064492658   \n",
       "3  [{'quality': {'A': 0, 'S': 0, 'E': 1}, 'nugget...  4024994788689457   \n",
       "4  [{'quality': {'A': 0, 'S': 1, 'E': 1}, 'nugget...  4210023888164273   \n",
       "\n",
       "                                               turns  \\\n",
       "0  [{'sender': 'customer', 'utterances': ['#内涵段子#...   \n",
       "1  [{'sender': 'customer', 'utterances': ['距离我反映问...   \n",
       "2  [{'sender': 'customer', 'utterances': ['@锤子科技客...   \n",
       "3  [{'sender': 'customer', 'utterances': ['您好,请问华...   \n",
       "4  [{'sender': 'customer', 'utterances': ['锤子M1L升...   \n",
       "\n",
       "                                             nuggets  \n",
       "0  [[CNaN, HNaN, CNaN, HNaN], [CNUG, HNUG, CNUG, ...  \n",
       "1  [[CNUG0, HNUG, CNUG, HNUG, CNUG, HNUG, CNUG], ...  \n",
       "2  [[CNUG0, HNUG, CNUG, HNUG*, CNaN], [CNUG0, HNU...  \n",
       "3  [[CNUG0, HNUG, CNUG, HNUG, CNUG], [CNUG0, HNUG...  \n",
       "4  [[CNUG0, HNUG, CNUG, HNUG], [CNUG0, HNUG, CNUG...  "
      ]
     },
     "execution_count": 11,
     "metadata": {},
     "output_type": "execute_result"
    }
   ],
   "source": [
    "dev.head()"
   ]
  },
  {
   "cell_type": "code",
   "execution_count": 6,
   "metadata": {},
   "outputs": [],
   "source": [
    "def get_nugget(dataframe):   \n",
    "    target = {'nugget'}\n",
    "    dicts = []\n",
    "    for item in tqdm(dataframe['annotations']):\n",
    "        sub_dicts = []\n",
    "        for element in item:\n",
    "            sub_dicts.append({key:value for key,value in element.items() if key in target}['nugget'])\n",
    "        dicts.append(sub_dicts)\n",
    "\n",
    "    dataframe['nuggets'] = dicts # dis is for anno nugget list\n",
    "    \n",
    "    return dataframe"
   ]
  },
  {
   "cell_type": "code",
   "execution_count": 7,
   "metadata": {},
   "outputs": [],
   "source": [
    "def shaping(dataframe):\n",
    "    length = []\n",
    "    for i in tqdm(dataframe['turns']):\n",
    "        length.append(len(i))\n",
    "    Id = dataframe['id'].tolist()\n",
    "\n",
    "    Fin_Id = sum([[s] * n for s, n in zip(Id, length)], [])\n",
    "\n",
    "    turns_list = dataframe['turns'].tolist()\n",
    "    \n",
    "    Fin_turns_anno = []\n",
    "    for x,y in tqdm(zip(turns_list,dataframe['nuggets'])):\n",
    "        for q in range(len(x)):\n",
    "            Fin_turns_anno.append(list(x[q].values())+[i[q] for i in y])\n",
    "    \n",
    "    return Fin_Id, Fin_turns_anno"
   ]
  },
  {
   "cell_type": "code",
   "execution_count": 8,
   "metadata": {},
   "outputs": [],
   "source": [
    "def stacking(Fin_Id, Fin_turns_anno):    \n",
    "    train_clean = pd.DataFrame({'id': Fin_Id,'info': Fin_turns_anno})\n",
    "    # train_clean.head()\n",
    "    train_df = pd.DataFrame(train_clean['info'].values.tolist(), columns=['sender','utterance','n1','n2','n3','n4','n5','n6','n7','n8','n9','n10','n11','n12','n13','n14','n15','n16','n17','n18','n19'])\n",
    "    train_df['id'] = train_clean['id']\n",
    "    train_df = train_df[['id','sender','utterance','n1','n2','n3','n4','n5','n6','n7','n8','n9','n10','n11','n12','n13','n14','n15','n16','n17','n18','n19']]\n",
    "    \n",
    "    return train_df"
   ]
  },
  {
   "cell_type": "code",
   "execution_count": 7,
   "metadata": {},
   "outputs": [
    {
     "name": "stderr",
     "output_type": "stream",
     "text": [
      "C:\\Users\\doudi\\Anaconda3\\lib\\site-packages\\ipykernel_launcher.py:4: TqdmDeprecationWarning: This function will be removed in tqdm==5.0.0\n",
      "Please use `tqdm.notebook.tqdm` instead of `tqdm.tqdm_notebook`\n",
      "  after removing the cwd from sys.path.\n"
     ]
    },
    {
     "data": {
      "application/vnd.jupyter.widget-view+json": {
       "model_id": "bfa1b37b5347440e96f6cbb3308dd978",
       "version_major": 2,
       "version_minor": 0
      },
      "text/plain": [
       "HBox(children=(FloatProgress(value=0.0, max=3700.0), HTML(value='')))"
      ]
     },
     "metadata": {},
     "output_type": "display_data"
    },
    {
     "name": "stdout",
     "output_type": "stream",
     "text": [
      "\n"
     ]
    },
    {
     "name": "stderr",
     "output_type": "stream",
     "text": [
      "C:\\Users\\doudi\\Anaconda3\\lib\\site-packages\\ipykernel_launcher.py:3: TqdmDeprecationWarning: This function will be removed in tqdm==5.0.0\n",
      "Please use `tqdm.notebook.tqdm` instead of `tqdm.tqdm_notebook`\n",
      "  This is separate from the ipykernel package so we can avoid doing imports until\n"
     ]
    },
    {
     "data": {
      "application/vnd.jupyter.widget-view+json": {
       "model_id": "58023a739a4c41f59ddf6022cb2e60c6",
       "version_major": 2,
       "version_minor": 0
      },
      "text/plain": [
       "HBox(children=(FloatProgress(value=0.0, max=3700.0), HTML(value='')))"
      ]
     },
     "metadata": {},
     "output_type": "display_data"
    },
    {
     "name": "stdout",
     "output_type": "stream",
     "text": [
      "\n"
     ]
    },
    {
     "name": "stderr",
     "output_type": "stream",
     "text": [
      "C:\\Users\\doudi\\Anaconda3\\lib\\site-packages\\ipykernel_launcher.py:12: TqdmDeprecationWarning: This function will be removed in tqdm==5.0.0\n",
      "Please use `tqdm.notebook.tqdm` instead of `tqdm.tqdm_notebook`\n",
      "  if sys.path[0] == '':\n"
     ]
    },
    {
     "data": {
      "application/vnd.jupyter.widget-view+json": {
       "model_id": "c114c383776c4a7fb851ae575dab0bd2",
       "version_major": 2,
       "version_minor": 0
      },
      "text/plain": [
       "HBox(children=(FloatProgress(value=1.0, bar_style='info', max=1.0), HTML(value='')))"
      ]
     },
     "metadata": {},
     "output_type": "display_data"
    },
    {
     "name": "stdout",
     "output_type": "stream",
     "text": [
      "\n"
     ]
    }
   ],
   "source": [
    "one = get_nugget(train)\n",
    "Fin_Id, Fin_turns_anno = shaping(one)\n",
    "df = stacking(Fin_Id, Fin_turns_anno)"
   ]
  },
  {
   "cell_type": "code",
   "execution_count": 8,
   "metadata": {},
   "outputs": [],
   "source": [
    "df.to_csv('train_clean.csv', index=False, encoding='utf_8_sig')"
   ]
  },
  {
   "cell_type": "code",
   "execution_count": 9,
   "metadata": {},
   "outputs": [
    {
     "data": {
      "text/plain": [
       "(15400, 22)"
      ]
     },
     "execution_count": 9,
     "metadata": {},
     "output_type": "execute_result"
    }
   ],
   "source": [
    "df.shape"
   ]
  },
  {
   "cell_type": "code",
   "execution_count": 9,
   "metadata": {
    "scrolled": true
   },
   "outputs": [
    {
     "name": "stderr",
     "output_type": "stream",
     "text": [
      "C:\\Users\\doudi\\Anaconda3\\lib\\site-packages\\ipykernel_launcher.py:4: TqdmDeprecationWarning: This function will be removed in tqdm==5.0.0\n",
      "Please use `tqdm.notebook.tqdm` instead of `tqdm.tqdm_notebook`\n",
      "  after removing the cwd from sys.path.\n"
     ]
    },
    {
     "data": {
      "application/vnd.jupyter.widget-view+json": {
       "model_id": "7ab9571c80bf4b94aa4209297d1e12e2",
       "version_major": 2,
       "version_minor": 0
      },
      "text/plain": [
       "HBox(children=(FloatProgress(value=0.0, max=390.0), HTML(value='')))"
      ]
     },
     "metadata": {},
     "output_type": "display_data"
    },
    {
     "name": "stdout",
     "output_type": "stream",
     "text": [
      "\n"
     ]
    },
    {
     "name": "stderr",
     "output_type": "stream",
     "text": [
      "C:\\Users\\doudi\\Anaconda3\\lib\\site-packages\\ipykernel_launcher.py:3: TqdmDeprecationWarning: This function will be removed in tqdm==5.0.0\n",
      "Please use `tqdm.notebook.tqdm` instead of `tqdm.tqdm_notebook`\n",
      "  This is separate from the ipykernel package so we can avoid doing imports until\n"
     ]
    },
    {
     "data": {
      "application/vnd.jupyter.widget-view+json": {
       "model_id": "b3fd8547f5c44b5cb4fa7d70b6b734ba",
       "version_major": 2,
       "version_minor": 0
      },
      "text/plain": [
       "HBox(children=(FloatProgress(value=0.0, max=390.0), HTML(value='')))"
      ]
     },
     "metadata": {},
     "output_type": "display_data"
    },
    {
     "name": "stdout",
     "output_type": "stream",
     "text": [
      "\n"
     ]
    },
    {
     "name": "stderr",
     "output_type": "stream",
     "text": [
      "C:\\Users\\doudi\\Anaconda3\\lib\\site-packages\\ipykernel_launcher.py:12: TqdmDeprecationWarning: This function will be removed in tqdm==5.0.0\n",
      "Please use `tqdm.notebook.tqdm` instead of `tqdm.tqdm_notebook`\n",
      "  if sys.path[0] == '':\n"
     ]
    },
    {
     "data": {
      "application/vnd.jupyter.widget-view+json": {
       "model_id": "27fa5c78e928408c99888d660cd4e6fe",
       "version_major": 2,
       "version_minor": 0
      },
      "text/plain": [
       "HBox(children=(FloatProgress(value=1.0, bar_style='info', max=1.0), HTML(value='')))"
      ]
     },
     "metadata": {},
     "output_type": "display_data"
    },
    {
     "name": "stdout",
     "output_type": "stream",
     "text": [
      "\n"
     ]
    }
   ],
   "source": [
    "two = get_nugget(dev)\n",
    "Fin, Fin_turns = shaping(two)\n",
    "df1 = stacking(Fin, Fin_turns)"
   ]
  },
  {
   "cell_type": "code",
   "execution_count": 13,
   "metadata": {},
   "outputs": [
    {
     "data": {
      "text/html": [
       "<div>\n",
       "<style scoped>\n",
       "    .dataframe tbody tr th:only-of-type {\n",
       "        vertical-align: middle;\n",
       "    }\n",
       "\n",
       "    .dataframe tbody tr th {\n",
       "        vertical-align: top;\n",
       "    }\n",
       "\n",
       "    .dataframe thead th {\n",
       "        text-align: right;\n",
       "    }\n",
       "</style>\n",
       "<table border=\"1\" class=\"dataframe\">\n",
       "  <thead>\n",
       "    <tr style=\"text-align: right;\">\n",
       "      <th></th>\n",
       "      <th>id</th>\n",
       "      <th>sender</th>\n",
       "      <th>utterance</th>\n",
       "      <th>n1</th>\n",
       "      <th>n2</th>\n",
       "      <th>n3</th>\n",
       "      <th>n4</th>\n",
       "      <th>n5</th>\n",
       "      <th>n6</th>\n",
       "      <th>n7</th>\n",
       "      <th>...</th>\n",
       "      <th>n10</th>\n",
       "      <th>n11</th>\n",
       "      <th>n12</th>\n",
       "      <th>n13</th>\n",
       "      <th>n14</th>\n",
       "      <th>n15</th>\n",
       "      <th>n16</th>\n",
       "      <th>n17</th>\n",
       "      <th>n18</th>\n",
       "      <th>n19</th>\n",
       "    </tr>\n",
       "  </thead>\n",
       "  <tbody>\n",
       "    <tr>\n",
       "      <th>1750</th>\n",
       "      <td>4233014013184785</td>\n",
       "      <td>customer</td>\n",
       "      <td>[我这用的都是大王卡,人多机站,实在是太卡了.投诉的人也不少就是解决了了.]</td>\n",
       "      <td>CNUG0</td>\n",
       "      <td>CNaN</td>\n",
       "      <td>CNUG0</td>\n",
       "      <td>CNUG</td>\n",
       "      <td>CNaN</td>\n",
       "      <td>CNUG</td>\n",
       "      <td>CNUG</td>\n",
       "      <td>...</td>\n",
       "      <td>CNUG</td>\n",
       "      <td>CNUG</td>\n",
       "      <td>CNUG</td>\n",
       "      <td>CNaN</td>\n",
       "      <td>CNUG0</td>\n",
       "      <td>CNUG</td>\n",
       "      <td>CNUG</td>\n",
       "      <td>CNUG</td>\n",
       "      <td>CNUG0</td>\n",
       "      <td>CNaN</td>\n",
       "    </tr>\n",
       "    <tr>\n",
       "      <th>1751</th>\n",
       "      <td>4233014013184785</td>\n",
       "      <td>helpdesk</td>\n",
       "      <td>[您好！关于您反馈的信号问题,如方便,请您私信提供您的联通号码、联系号码及信号弱区的具体地址...</td>\n",
       "      <td>HNUG</td>\n",
       "      <td>HNaN</td>\n",
       "      <td>HNUG</td>\n",
       "      <td>HNUG</td>\n",
       "      <td>HNaN</td>\n",
       "      <td>HNUG</td>\n",
       "      <td>HNUG*</td>\n",
       "      <td>...</td>\n",
       "      <td>HNUG</td>\n",
       "      <td>HNUG</td>\n",
       "      <td>HNUG</td>\n",
       "      <td>HNaN</td>\n",
       "      <td>HNUG</td>\n",
       "      <td>HNUG</td>\n",
       "      <td>HNUG</td>\n",
       "      <td>HNUG</td>\n",
       "      <td>HNUG</td>\n",
       "      <td>HNaN</td>\n",
       "    </tr>\n",
       "    <tr>\n",
       "      <th>1752</th>\n",
       "      <td>4233014013184785</td>\n",
       "      <td>customer</td>\n",
       "      <td>[常州市武进区南瑞家园]</td>\n",
       "      <td>CNUG</td>\n",
       "      <td>CNaN</td>\n",
       "      <td>CNUG</td>\n",
       "      <td>CNUG</td>\n",
       "      <td>CNaN</td>\n",
       "      <td>CNUG</td>\n",
       "      <td>CNUG</td>\n",
       "      <td>...</td>\n",
       "      <td>CNUG</td>\n",
       "      <td>CNUG</td>\n",
       "      <td>CNUG</td>\n",
       "      <td>CNaN</td>\n",
       "      <td>CNUG</td>\n",
       "      <td>CNUG</td>\n",
       "      <td>CNUG</td>\n",
       "      <td>CNUG</td>\n",
       "      <td>CNUG</td>\n",
       "      <td>CNaN</td>\n",
       "    </tr>\n",
       "    <tr>\n",
       "      <th>1753</th>\n",
       "      <td>4233014013184785</td>\n",
       "      <td>helpdesk</td>\n",
       "      <td>[烦请提供您的联通号码以及联系号码,以便我们详细记录后交给工作人员跟进核查,并通过电话与您联...</td>\n",
       "      <td>HNUG</td>\n",
       "      <td>HNaN</td>\n",
       "      <td>HNUG</td>\n",
       "      <td>HNUG</td>\n",
       "      <td>HNaN</td>\n",
       "      <td>HNUG</td>\n",
       "      <td>HNUG</td>\n",
       "      <td>...</td>\n",
       "      <td>HNUG</td>\n",
       "      <td>HNUG</td>\n",
       "      <td>HNUG</td>\n",
       "      <td>HNaN</td>\n",
       "      <td>HNUG</td>\n",
       "      <td>HNUG</td>\n",
       "      <td>HNUG</td>\n",
       "      <td>HNUG</td>\n",
       "      <td>HNaN</td>\n",
       "      <td>HNaN</td>\n",
       "    </tr>\n",
       "    <tr>\n",
       "      <th>1754</th>\n",
       "      <td>4233014013184785</td>\n",
       "      <td>customer</td>\n",
       "      <td>[我每天都忙的很那有空啊！]</td>\n",
       "      <td>CNaN</td>\n",
       "      <td>CNaN</td>\n",
       "      <td>CNaN</td>\n",
       "      <td>CNUG</td>\n",
       "      <td>CNaN</td>\n",
       "      <td>CNaN</td>\n",
       "      <td>CNUG</td>\n",
       "      <td>...</td>\n",
       "      <td>CNaN</td>\n",
       "      <td>CNUG</td>\n",
       "      <td>CNaN</td>\n",
       "      <td>CNaN</td>\n",
       "      <td>CNaN</td>\n",
       "      <td>CNUG</td>\n",
       "      <td>CNUG</td>\n",
       "      <td>CNaN</td>\n",
       "      <td>CNaN</td>\n",
       "      <td>CNaN</td>\n",
       "    </tr>\n",
       "  </tbody>\n",
       "</table>\n",
       "<p>5 rows × 22 columns</p>\n",
       "</div>"
      ],
      "text/plain": [
       "                    id    sender  \\\n",
       "1750  4233014013184785  customer   \n",
       "1751  4233014013184785  helpdesk   \n",
       "1752  4233014013184785  customer   \n",
       "1753  4233014013184785  helpdesk   \n",
       "1754  4233014013184785  customer   \n",
       "\n",
       "                                              utterance     n1    n2     n3  \\\n",
       "1750             [我这用的都是大王卡,人多机站,实在是太卡了.投诉的人也不少就是解决了了.]  CNUG0  CNaN  CNUG0   \n",
       "1751  [您好！关于您反馈的信号问题,如方便,请您私信提供您的联通号码、联系号码及信号弱区的具体地址...   HNUG  HNaN   HNUG   \n",
       "1752                                       [常州市武进区南瑞家园]   CNUG  CNaN   CNUG   \n",
       "1753  [烦请提供您的联通号码以及联系号码,以便我们详细记录后交给工作人员跟进核查,并通过电话与您联...   HNUG  HNaN   HNUG   \n",
       "1754                                     [我每天都忙的很那有空啊！]   CNaN  CNaN   CNaN   \n",
       "\n",
       "        n4    n5    n6     n7  ...   n10   n11   n12   n13    n14   n15   n16  \\\n",
       "1750  CNUG  CNaN  CNUG   CNUG  ...  CNUG  CNUG  CNUG  CNaN  CNUG0  CNUG  CNUG   \n",
       "1751  HNUG  HNaN  HNUG  HNUG*  ...  HNUG  HNUG  HNUG  HNaN   HNUG  HNUG  HNUG   \n",
       "1752  CNUG  CNaN  CNUG   CNUG  ...  CNUG  CNUG  CNUG  CNaN   CNUG  CNUG  CNUG   \n",
       "1753  HNUG  HNaN  HNUG   HNUG  ...  HNUG  HNUG  HNUG  HNaN   HNUG  HNUG  HNUG   \n",
       "1754  CNUG  CNaN  CNaN   CNUG  ...  CNaN  CNUG  CNaN  CNaN   CNaN  CNUG  CNUG   \n",
       "\n",
       "       n17    n18   n19  \n",
       "1750  CNUG  CNUG0  CNaN  \n",
       "1751  HNUG   HNUG  HNaN  \n",
       "1752  CNUG   CNUG  CNaN  \n",
       "1753  HNUG   HNaN  HNaN  \n",
       "1754  CNaN   CNaN  CNaN  \n",
       "\n",
       "[5 rows x 22 columns]"
      ]
     },
     "execution_count": 13,
     "metadata": {},
     "output_type": "execute_result"
    }
   ],
   "source": [
    "df1.tail()"
   ]
  },
  {
   "cell_type": "code",
   "execution_count": 11,
   "metadata": {},
   "outputs": [],
   "source": [
    "df1.to_csv('dev_clean.csv', index=False, encoding='utf_8_sig')"
   ]
  },
  {
   "cell_type": "code",
   "execution_count": 12,
   "metadata": {},
   "outputs": [
    {
     "data": {
      "text/plain": [
       "(1755, 22)"
      ]
     },
     "execution_count": 12,
     "metadata": {},
     "output_type": "execute_result"
    }
   ],
   "source": [
    "df1.shape"
   ]
  },
  {
   "cell_type": "code",
   "execution_count": 13,
   "metadata": {},
   "outputs": [
    {
     "data": {
      "text/plain": [
       "\"\\nl0 = ['asd','zxc','qwe']\\nl1 = [['1','2'],['3','4','5','6'],['7','8','0']]\\nl2 = [[['1a','2b'],['1b','2a'],['1c','2d']],\\n      [['3f','4g','5h','6j'],['3z','4x','5c','6v'],['3q','4w','5e','6r']],\\n      [['7a','8s','9d'],['7z','8x','9c'],['7v','8b','9n']]]\\n\\nlength = []\\nfor i in l1:\\n    length.append(len(i))\\n    \\nprint(sum([[s] * n for s, n in zip(l0, length)], []))\\n\\nfor x,y in zip(l1,l2):\\n    for q in range(len(x)):\\n        print(list(x[q])+[i[q] for i in y])\\n        \\n    \\n\""
      ]
     },
     "execution_count": 13,
     "metadata": {},
     "output_type": "execute_result"
    }
   ],
   "source": [
    "\"\"\"\n",
    "l0 = ['asd','zxc','qwe']\n",
    "l1 = [['1','2'],['3','4','5','6'],['7','8','0']]\n",
    "l2 = [[['1a','2b'],['1b','2a'],['1c','2d']],\n",
    "      [['3f','4g','5h','6j'],['3z','4x','5c','6v'],['3q','4w','5e','6r']],\n",
    "      [['7a','8s','9d'],['7z','8x','9c'],['7v','8b','9n']]]\n",
    "\n",
    "length = []\n",
    "for i in l1:\n",
    "    length.append(len(i))\n",
    "    \n",
    "print(sum([[s] * n for s, n in zip(l0, length)], []))\n",
    "\n",
    "for x,y in zip(l1,l2):\n",
    "    for q in range(len(x)):\n",
    "        print(list(x[q])+[i[q] for i in y])\n",
    "        \n",
    "    \n",
    "\"\"\"\n"
   ]
  },
  {
   "cell_type": "code",
   "execution_count": 14,
   "metadata": {},
   "outputs": [
    {
     "data": {
      "text/html": [
       "<div>\n",
       "<style scoped>\n",
       "    .dataframe tbody tr th:only-of-type {\n",
       "        vertical-align: middle;\n",
       "    }\n",
       "\n",
       "    .dataframe tbody tr th {\n",
       "        vertical-align: top;\n",
       "    }\n",
       "\n",
       "    .dataframe thead th {\n",
       "        text-align: right;\n",
       "    }\n",
       "</style>\n",
       "<table border=\"1\" class=\"dataframe\">\n",
       "  <thead>\n",
       "    <tr style=\"text-align: right;\">\n",
       "      <th></th>\n",
       "      <th>id</th>\n",
       "      <th>sender</th>\n",
       "      <th>utterance</th>\n",
       "      <th>n1</th>\n",
       "      <th>n2</th>\n",
       "      <th>n3</th>\n",
       "      <th>n4</th>\n",
       "      <th>n5</th>\n",
       "      <th>n6</th>\n",
       "      <th>n7</th>\n",
       "      <th>...</th>\n",
       "      <th>n10</th>\n",
       "      <th>n11</th>\n",
       "      <th>n12</th>\n",
       "      <th>n13</th>\n",
       "      <th>n14</th>\n",
       "      <th>n15</th>\n",
       "      <th>n16</th>\n",
       "      <th>n17</th>\n",
       "      <th>n18</th>\n",
       "      <th>n19</th>\n",
       "    </tr>\n",
       "  </thead>\n",
       "  <tbody>\n",
       "    <tr>\n",
       "      <th>0</th>\n",
       "      <td>3830401296796826</td>\n",
       "      <td>customer</td>\n",
       "      <td>['中国电信的控制箱就这样吗？也没有人维护,信息安全和人身安全怎么保障？还是好好修修吧？这个...</td>\n",
       "      <td>CNUG</td>\n",
       "      <td>CNUG0</td>\n",
       "      <td>CNUG0</td>\n",
       "      <td>CNaN</td>\n",
       "      <td>CNUG0</td>\n",
       "      <td>CNUG0</td>\n",
       "      <td>CNaN</td>\n",
       "      <td>...</td>\n",
       "      <td>CNaN</td>\n",
       "      <td>CNUG0</td>\n",
       "      <td>CNUG0</td>\n",
       "      <td>CNUG0</td>\n",
       "      <td>CNUG0</td>\n",
       "      <td>CNUG0</td>\n",
       "      <td>CNaN</td>\n",
       "      <td>CNUG0</td>\n",
       "      <td>CNUG0</td>\n",
       "      <td>CNUG0</td>\n",
       "    </tr>\n",
       "    <tr>\n",
       "      <th>1</th>\n",
       "      <td>3830401296796826</td>\n",
       "      <td>helpdesk</td>\n",
       "      <td>['您好,您反映的情况我们已认真记录,会及时向相关部门反馈,敬请等待[呵呵]；']</td>\n",
       "      <td>HNaN</td>\n",
       "      <td>HNUG</td>\n",
       "      <td>HNaN</td>\n",
       "      <td>HNaN</td>\n",
       "      <td>HNUG</td>\n",
       "      <td>HNUG</td>\n",
       "      <td>HNaN</td>\n",
       "      <td>...</td>\n",
       "      <td>HNaN</td>\n",
       "      <td>HNaN</td>\n",
       "      <td>HNUG</td>\n",
       "      <td>HNUG</td>\n",
       "      <td>HNaN</td>\n",
       "      <td>HNUG</td>\n",
       "      <td>HNaN</td>\n",
       "      <td>HNUG</td>\n",
       "      <td>HNUG</td>\n",
       "      <td>HNaN</td>\n",
       "    </tr>\n",
       "    <tr>\n",
       "      <th>2</th>\n",
       "      <td>3830772740080373</td>\n",
       "      <td>customer</td>\n",
       "      <td>['#电信服务怎么了？#广州市白云区太和镇谢家庄二队电信信号差,投诉几年都没人处理.这样的服...</td>\n",
       "      <td>CNaN</td>\n",
       "      <td>CNUG0</td>\n",
       "      <td>CNUG0</td>\n",
       "      <td>CNUG0</td>\n",
       "      <td>CNaN</td>\n",
       "      <td>CNaN</td>\n",
       "      <td>CNUG0</td>\n",
       "      <td>...</td>\n",
       "      <td>CNUG0</td>\n",
       "      <td>CNUG0</td>\n",
       "      <td>CNUG0</td>\n",
       "      <td>CNaN</td>\n",
       "      <td>CNUG0</td>\n",
       "      <td>CNUG0</td>\n",
       "      <td>CNUG0</td>\n",
       "      <td>CNUG0</td>\n",
       "      <td>CNaN</td>\n",
       "      <td>CNUG0</td>\n",
       "    </tr>\n",
       "    <tr>\n",
       "      <th>3</th>\n",
       "      <td>3830772740080373</td>\n",
       "      <td>helpdesk</td>\n",
       "      <td>['您好,我是中国电信广东客服小@,已关注到您反映的问题,请详细描述一下您的问题,以便为您处...</td>\n",
       "      <td>HNaN</td>\n",
       "      <td>HNaN</td>\n",
       "      <td>HNUG</td>\n",
       "      <td>HNUG</td>\n",
       "      <td>HNaN</td>\n",
       "      <td>HNaN</td>\n",
       "      <td>HNaN</td>\n",
       "      <td>...</td>\n",
       "      <td>HNUG</td>\n",
       "      <td>HNUG</td>\n",
       "      <td>HNUG</td>\n",
       "      <td>HNaN</td>\n",
       "      <td>HNaN</td>\n",
       "      <td>HNUG</td>\n",
       "      <td>HNUG</td>\n",
       "      <td>HNUG</td>\n",
       "      <td>HNaN</td>\n",
       "      <td>HNUG*</td>\n",
       "    </tr>\n",
       "    <tr>\n",
       "      <th>4</th>\n",
       "      <td>3830772740080373</td>\n",
       "      <td>customer</td>\n",
       "      <td>['看图片就知道,那里连起码的的通信信号都没有,更别说3G上网信号了.一年前还是两年前第一次...</td>\n",
       "      <td>CNaN</td>\n",
       "      <td>CNUG</td>\n",
       "      <td>CNUG</td>\n",
       "      <td>CNUG</td>\n",
       "      <td>CNaN</td>\n",
       "      <td>CNaN</td>\n",
       "      <td>CNUG</td>\n",
       "      <td>...</td>\n",
       "      <td>CNUG</td>\n",
       "      <td>CNUG</td>\n",
       "      <td>CNUG</td>\n",
       "      <td>CNaN</td>\n",
       "      <td>CNUG</td>\n",
       "      <td>CNUG</td>\n",
       "      <td>CNUG</td>\n",
       "      <td>CNUG</td>\n",
       "      <td>CNUG0</td>\n",
       "      <td>CNUG</td>\n",
       "    </tr>\n",
       "  </tbody>\n",
       "</table>\n",
       "<p>5 rows × 22 columns</p>\n",
       "</div>"
      ],
      "text/plain": [
       "                 id    sender  \\\n",
       "0  3830401296796826  customer   \n",
       "1  3830401296796826  helpdesk   \n",
       "2  3830772740080373  customer   \n",
       "3  3830772740080373  helpdesk   \n",
       "4  3830772740080373  customer   \n",
       "\n",
       "                                           utterance    n1     n2     n3  \\\n",
       "0  ['中国电信的控制箱就这样吗？也没有人维护,信息安全和人身安全怎么保障？还是好好修修吧？这个...  CNUG  CNUG0  CNUG0   \n",
       "1          ['您好,您反映的情况我们已认真记录,会及时向相关部门反馈,敬请等待[呵呵]；']  HNaN   HNUG   HNaN   \n",
       "2  ['#电信服务怎么了？#广州市白云区太和镇谢家庄二队电信信号差,投诉几年都没人处理.这样的服...  CNaN  CNUG0  CNUG0   \n",
       "3  ['您好,我是中国电信广东客服小@,已关注到您反映的问题,请详细描述一下您的问题,以便为您处...  HNaN   HNaN   HNUG   \n",
       "4  ['看图片就知道,那里连起码的的通信信号都没有,更别说3G上网信号了.一年前还是两年前第一次...  CNaN   CNUG   CNUG   \n",
       "\n",
       "      n4     n5     n6     n7  ...    n10    n11    n12    n13    n14    n15  \\\n",
       "0   CNaN  CNUG0  CNUG0   CNaN  ...   CNaN  CNUG0  CNUG0  CNUG0  CNUG0  CNUG0   \n",
       "1   HNaN   HNUG   HNUG   HNaN  ...   HNaN   HNaN   HNUG   HNUG   HNaN   HNUG   \n",
       "2  CNUG0   CNaN   CNaN  CNUG0  ...  CNUG0  CNUG0  CNUG0   CNaN  CNUG0  CNUG0   \n",
       "3   HNUG   HNaN   HNaN   HNaN  ...   HNUG   HNUG   HNUG   HNaN   HNaN   HNUG   \n",
       "4   CNUG   CNaN   CNaN   CNUG  ...   CNUG   CNUG   CNUG   CNaN   CNUG   CNUG   \n",
       "\n",
       "     n16    n17    n18    n19  \n",
       "0   CNaN  CNUG0  CNUG0  CNUG0  \n",
       "1   HNaN   HNUG   HNUG   HNaN  \n",
       "2  CNUG0  CNUG0   CNaN  CNUG0  \n",
       "3   HNUG   HNUG   HNaN  HNUG*  \n",
       "4   CNUG   CNUG  CNUG0   CNUG  \n",
       "\n",
       "[5 rows x 22 columns]"
      ]
     },
     "execution_count": 14,
     "metadata": {},
     "output_type": "execute_result"
    }
   ],
   "source": [
    "t = pd.read_csv('train_clean.csv')\n",
    "t.head()"
   ]
  }
 ],
 "metadata": {
  "kernelspec": {
   "display_name": "Python 3",
   "language": "python",
   "name": "python3"
  },
  "language_info": {
   "codemirror_mode": {
    "name": "ipython",
    "version": 3
   },
   "file_extension": ".py",
   "mimetype": "text/x-python",
   "name": "python",
   "nbconvert_exporter": "python",
   "pygments_lexer": "ipython3",
   "version": "3.7.3"
  }
 },
 "nbformat": 4,
 "nbformat_minor": 2
}
