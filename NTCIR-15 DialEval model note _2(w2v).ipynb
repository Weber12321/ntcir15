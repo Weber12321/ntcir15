{
 "cells": [
  {
   "cell_type": "markdown",
   "metadata": {},
   "source": [
    "# Dialogue Evaluation\n",
    "###### Created by Weber Huang "
   ]
  },
  {
   "cell_type": "markdown",
   "metadata": {},
   "source": [
    "## Table of content\n",
    "#### 0. Embedding\n",
    "#### 1. JSON to dataframe\n",
    "#### 2. Dataset cleaning\n",
    "#### 3. Segmentation\n",
    "#### 4. Generate the output of preprocessing\n",
    "#### 5. Modeling\n",
    "#### 6. Evaluation\n",
    "#### 7. Generate the submission estimation JSON"
   ]
  },
  {
   "cell_type": "markdown",
   "metadata": {},
   "source": [
    "> How to use this note?\n",
    "     \n",
    "+ In this ipython file, the model will be train autometically. Feel free to adjust the parameter of those models If you want. I'd suggest you to directly switch to section 5.       \n",
    "+ If you want to test the evaluation, here is the way:       \n",
    "    1. Run the cell  section 1 to section 4 first, and use **generate_dataset(name, wd, stop_word_path)** for trainset and devset and **test_preprocess(name, wd, stop_word_path)** for testset to process raw json to dataframe.\n",
    "    2. Run section 5 and 6.  \n",
    "    3. In section 6, there is a function **Generate_submission(dev, model_1, model_2)**, plz make sure that both 2 model are same, like both are cnn or lst.   \n",
    "    4. Save the submission copy and test it with ground_truth through eval.py     \n",
    "    "
   ]
  },
  {
   "cell_type": "markdown",
   "metadata": {},
   "source": [
    "### 0.Embedding"
   ]
  },
  {
   "cell_type": "code",
   "execution_count": 22,
   "metadata": {},
   "outputs": [],
   "source": [
    "import os\n",
    "import pandas as pd\n",
    "from tqdm import tqdm_notebook as tqdm\n",
    "import numpy as np\n",
    "from collections import Counter\n",
    "from sklearn import preprocessing\n",
    "import jieba\n",
    "import re"
   ]
  },
  {
   "cell_type": "markdown",
   "metadata": {},
   "source": [
    "### 1.JSON to dataframe"
   ]
  },
  {
   "cell_type": "code",
   "execution_count": 2,
   "metadata": {},
   "outputs": [],
   "source": [
    "def get_nugget(dataframe):   \n",
    "    target = {'nugget'}\n",
    "    dicts = []\n",
    "    for item in tqdm(dataframe['annotations']):\n",
    "        sub_dicts = []\n",
    "        for element in item:\n",
    "            sub_dicts.append({key:value for key,value in element.items() if key in target}['nugget'])\n",
    "        dicts.append(sub_dicts)\n",
    "\n",
    "    dataframe['nuggets'] = dicts # dis is for anno nugget list\n",
    "    \n",
    "    return dataframe\n",
    "\n",
    "def shaping(dataframe):\n",
    "    length = []\n",
    "    for i in tqdm(dataframe['turns']):\n",
    "        length.append(len(i))\n",
    "    Id = dataframe['id'].tolist()\n",
    "\n",
    "    Fin_Id = sum([[s] * n for s, n in zip(Id, length)], [])\n",
    "\n",
    "    turns_list = dataframe['turns'].tolist()\n",
    "    \n",
    "    Fin_turns_anno = []\n",
    "    for x,y in tqdm(zip(turns_list,dataframe['nuggets'])):\n",
    "        for q in range(len(x)):\n",
    "            Fin_turns_anno.append(list(x[q].values())+[i[q] for i in y])\n",
    "    \n",
    "    return Fin_Id, Fin_turns_anno\n",
    "\n",
    "def stacking(Fin_Id, Fin_turns_anno):    \n",
    "    train_clean = pd.DataFrame({'id': Fin_Id,'info': Fin_turns_anno})\n",
    "    # train_clean.head()\n",
    "    train_df = pd.DataFrame(train_clean['info'].values.tolist(), columns=['sender','utterance','n1','n2','n3','n4','n5','n6','n7','n8','n9','n10','n11','n12','n13','n14','n15','n16','n17','n18','n19'])\n",
    "    train_df['id'] = train_clean['id']\n",
    "    train_df = train_df[['id','sender','utterance','n1','n2','n3','n4','n5','n6','n7','n8','n9','n10','n11','n12','n13','n14','n15','n16','n17','n18','n19']]\n",
    "    \n",
    "    return train_df"
   ]
  },
  {
   "cell_type": "markdown",
   "metadata": {},
   "source": [
    "### 2.Dataset cleaning"
   ]
  },
  {
   "cell_type": "code",
   "execution_count": 3,
   "metadata": {},
   "outputs": [],
   "source": [
    "def process_data(dataframe):\n",
    "    \n",
    "    # id to str\n",
    "    dataframe['id'] = dataframe['id'].apply(str)\n",
    "    \n",
    "    \n",
    "    # round\n",
    "    uni = dataframe.id.unique()\n",
    "    num = []\n",
    "    for i in uni:\n",
    "        count = 1\n",
    "        for j in dataframe['id']:\n",
    "            if i == j:\n",
    "                num.append(count)\n",
    "                count += 1\n",
    "            else:\n",
    "                continue\n",
    "\n",
    "    dataframe['round'] = num\n",
    "    \n",
    "    \n",
    "    # distribution\n",
    "    Nugget_types = ['CNUG0', 'CNUG', 'CNUG*', 'CNaN','HNUG', 'HNUG*', 'HNaN']\n",
    "    arr = np.array(dataframe.iloc[:,3:22]) \n",
    "    dicts = []\n",
    "    tmp = []\n",
    "    \n",
    "    for i in arr:\n",
    "        c = Counter(i)\n",
    "        dicts.append(c)\n",
    "        \n",
    "    for i in dicts:\n",
    "        test = []\n",
    "        for n in Nugget_types:\n",
    "            test.append(i.get(n,0)/19)\n",
    "        tmp.append(test)\n",
    "        \n",
    "    tmp = np.array(tmp)\n",
    "    for i in range(len(Nugget_types)):\n",
    "        dataframe[Nugget_types[i]] = tmp[:,i]\n",
    "        \n",
    "        \n",
    "    # round_max (round_label)\n",
    "#     f = dataframe.groupby('round').sum()\n",
    "#     out = list(f.idxmax(axis=1))\n",
    "\n",
    "#     round_max = []\n",
    "#     for i in dataframe['round']:\n",
    "#         for j in range(1,8):\n",
    "#             if i == j:\n",
    "#                 round_max.append(out[j-1])\n",
    "#             else:\n",
    "#                 continue\n",
    "#     dataframe['round_max'] = round_max\n",
    "    \n",
    "    \n",
    "    # label encoding (round_label)\n",
    "    \n",
    "#     le = preprocessing.LabelEncoder()\n",
    "#     le.fit(Nugget_types);\n",
    "#     round_label = le.transform(list(dataframe['round_max']))\n",
    "#     dataframe['round_label'] = round_label\n",
    "    \n",
    "    \n",
    "    # label encoding (sender_num)\n",
    "    sender = ['customer','helpdesk']\n",
    "    l = preprocessing.LabelEncoder()\n",
    "    l.fit(sender);\n",
    "    sender_num = l.transform(list(dataframe['sender']))\n",
    "    dataframe['sender_num'] = sender_num\n",
    "    \n",
    "    subset = dataframe[['id','sender','sender_num','utterance','round',\n",
    "                        'CNUG0', 'CNUG', 'CNUG*', 'CNaN','HNUG', 'HNUG*', 'HNaN']]\n",
    "    \n",
    "    return subset"
   ]
  },
  {
   "cell_type": "markdown",
   "metadata": {},
   "source": [
    "### 3.Segmentation"
   ]
  },
  {
   "cell_type": "code",
   "execution_count": 4,
   "metadata": {},
   "outputs": [],
   "source": [
    "def segment(dataframe, file_path):\n",
    "    \n",
    "    texts = dataframe['utterance'].astype(str)\n",
    "    \n",
    "    seg_texts = []\n",
    "    for line in texts:\n",
    "        seg_content = ' '.join(jieba.cut(line, cut_all = False))\n",
    "        seg_texts.append(seg_content)\n",
    "        \n",
    "    def remove_punctuation(line):\n",
    "        rule = re.compile(\"[^a-zA-Z0-9\\u4e00-\\u9fa5]\")\n",
    "        line = rule.sub(' ',line)\n",
    "        return line\n",
    "    \n",
    "    texts = []\n",
    "    for line in seg_texts:\n",
    "        new_line = remove_punctuation(line).split()\n",
    "        texts.append(new_line)\n",
    "        \n",
    "    cn_stopwords = []\n",
    "    with open(file_path, 'r', encoding='UTF-8') as file:\n",
    "        for data in file.read().splitlines():\n",
    "            cn_stopwords.append(data)\n",
    "            \n",
    "    # remove punctuation\n",
    "    pp_texts = []\n",
    "    for line in texts:\n",
    "        line_noSW = []\n",
    "        for word in line:\n",
    "            if word not in cn_stopwords:\n",
    "                line_noSW.append(word)\n",
    "        pp_texts.append(line_noSW)\n",
    "    \n",
    "    # change emoji in pp_texts to *\n",
    "    for line in pp_texts:\n",
    "        if line == []:\n",
    "            line.append(\"*\")\n",
    "            \n",
    "    # concatenate the sentences by whitespace\n",
    "    new_texts = []\n",
    "    for sentence in pp_texts:\n",
    "        series_sentence = \" \".join(word for word in sentence)\n",
    "        new_texts.append(series_sentence)\n",
    "    \n",
    "    dataframe['texts'] = new_texts\n",
    "    \n",
    "    subset = dataframe[['id','sender','sender_num','texts','round',\n",
    "                        'CNUG0', 'CNUG', 'CNUG*', 'CNaN','HNUG', 'HNUG*', 'HNaN']]\n",
    "    \n",
    "    return subset"
   ]
  },
  {
   "cell_type": "markdown",
   "metadata": {},
   "source": [
    "### 4.Generate the output of preprocessing"
   ]
  },
  {
   "cell_type": "code",
   "execution_count": 5,
   "metadata": {
    "scrolled": true
   },
   "outputs": [],
   "source": [
    "# from raw_json to dataframe\n",
    "def generate_dataset(name, wd, stop_word_path):\n",
    "    os.chdir(wd)\n",
    "    file = pd.read_json(name, encoding='utf8')\n",
    "    nu = get_nugget(file)\n",
    "    Id, anno = shaping(nu)\n",
    "    output = stacking(Id, anno)\n",
    "    fin = process_data(output)\n",
    "    seg = segment(fin, stop_word_path)\n",
    "    \n",
    "    return seg"
   ]
  },
  {
   "cell_type": "code",
   "execution_count": 6,
   "metadata": {},
   "outputs": [],
   "source": [
    "# This is for test data preprocess only!\n",
    "def pre_test(dataframe):    \n",
    "    length = []\n",
    "    for i in tqdm(dataframe['turns']):\n",
    "        length.append(len(i))\n",
    "    Id = dataframe['id'].tolist()\n",
    "\n",
    "    Fin_Id = sum([[s] * n for s, n in zip(Id, length)], [])\n",
    "    turns_list = dataframe['turns'].tolist()\n",
    "    Fin_turns_anno = []\n",
    "    for x in tqdm(turns_list):\n",
    "        for q in range(len(x)):\n",
    "            Fin_turns_anno.append(list(x[q].values()))\n",
    "\n",
    "    train_clean = pd.DataFrame({'id': Fin_Id,'info': Fin_turns_anno})\n",
    "    train_df = pd.DataFrame(train_clean['info'].values.tolist(), columns=['sender','utterance'])\n",
    "    train_df['id'] = train_clean['id']\n",
    "    train_df = train_df[['id','sender','utterance']]\n",
    "\n",
    "    # id to str\n",
    "    train_df['id'] = train_df['id'].apply(str) \n",
    "    # round\n",
    "    uni = train_df.id.unique()\n",
    "    num = []\n",
    "    for i in uni:\n",
    "        count = 1\n",
    "        for j in train_df['id']:\n",
    "            if i == j:\n",
    "                num.append(count)\n",
    "                count += 1\n",
    "            else:\n",
    "                continue\n",
    "\n",
    "    train_df['round'] = num\n",
    "    # label encoding (sender_num)\n",
    "    sender = ['customer','helpdesk']\n",
    "    l = preprocessing.LabelEncoder()\n",
    "    l.fit(sender);\n",
    "    sender_num = l.transform(list(train_df['sender']))\n",
    "    train_df['sender_num'] = sender_num\n",
    "    subset = train_df[['id','sender','sender_num','utterance','round']]\n",
    "    return subset\n",
    "\n",
    "def segment_2(dataframe, file_path):\n",
    "    texts = dataframe['utterance'].astype(str)\n",
    "    seg_texts = []\n",
    "    for line in texts:\n",
    "        seg_content = ' '.join(jieba.cut(line, cut_all = False))\n",
    "        seg_texts.append(seg_content)\n",
    "    def remove_punctuation(line):\n",
    "        rule = re.compile(\"[^a-zA-Z0-9\\u4e00-\\u9fa5]\")\n",
    "        line = rule.sub(' ',line)\n",
    "        return line\n",
    "    texts = []\n",
    "    for line in seg_texts:\n",
    "        new_line = remove_punctuation(line).split()\n",
    "        texts.append(new_line)  \n",
    "    cn_stopwords = []\n",
    "    with open(file_path, 'r', encoding='UTF-8') as file:\n",
    "        for data in file.read().splitlines():\n",
    "            cn_stopwords.append(data)\n",
    "    # remove punctuation\n",
    "    pp_texts = []\n",
    "    for line in texts:\n",
    "        line_noSW = []\n",
    "        for word in line:\n",
    "            if word not in cn_stopwords:\n",
    "                line_noSW.append(word)\n",
    "        pp_texts.append(line_noSW)\n",
    "    # change emoji in pp_texts to *\n",
    "    for line in pp_texts:\n",
    "        if line == []:\n",
    "            line.append(\"*\")      \n",
    "    # concatenate the sentences by whitespace\n",
    "    new_texts = []\n",
    "    for sentence in pp_texts:\n",
    "        series_sentence = \" \".join(word for word in sentence)\n",
    "        new_texts.append(series_sentence)\n",
    "    dataframe['texts'] = new_texts\n",
    "    subset = dataframe[['id','sender','sender_num','texts','round',]]\n",
    "    return subset\n",
    "\n",
    "def test_preprocess(name, wd, stop_word_path):\n",
    "    os.chdir(wd)\n",
    "    file = pd.read_json(name, encoding='utf8')\n",
    "    t = pre_test(file)\n",
    "    tmp = segment_2(t, stop_word_path)\n",
    "    return tmp"
   ]
  },
  {
   "cell_type": "markdown",
   "metadata": {},
   "source": [
    "###### Plz feed the raw_json, working directory and stop_word file in the generate_dataset()"
   ]
  },
  {
   "cell_type": "code",
   "execution_count": 78,
   "metadata": {},
   "outputs": [],
   "source": [
    "# save file\n",
    "# import time\n",
    "# path = 'C:/Users/doudi/OneDrive/Documents/stc3-dataset/data/'\n",
    "# timestr = time.strftime(\"%Y%m%d%H%M\")\n",
    "# output.to_csv((path + timestr + '_train_data_cn.csv'), index=False, encoding='utf_8_sig')"
   ]
  },
  {
   "cell_type": "code",
   "execution_count": 7,
   "metadata": {
    "scrolled": true
   },
   "outputs": [
    {
     "name": "stderr",
     "output_type": "stream",
     "text": [
      "C:\\Users\\doudi\\Anaconda3\\lib\\site-packages\\ipykernel_launcher.py:4: TqdmDeprecationWarning: This function will be removed in tqdm==5.0.0\n",
      "Please use `tqdm.notebook.tqdm` instead of `tqdm.tqdm_notebook`\n",
      "  after removing the cwd from sys.path.\n"
     ]
    },
    {
     "data": {
      "application/vnd.jupyter.widget-view+json": {
       "model_id": "f545ba955e4a487297eebe3215707779",
       "version_major": 2,
       "version_minor": 0
      },
      "text/plain": [
       "HBox(children=(FloatProgress(value=0.0, max=3700.0), HTML(value='')))"
      ]
     },
     "metadata": {},
     "output_type": "display_data"
    },
    {
     "name": "stdout",
     "output_type": "stream",
     "text": [
      "\n"
     ]
    },
    {
     "name": "stderr",
     "output_type": "stream",
     "text": [
      "C:\\Users\\doudi\\Anaconda3\\lib\\site-packages\\ipykernel_launcher.py:16: TqdmDeprecationWarning: This function will be removed in tqdm==5.0.0\n",
      "Please use `tqdm.notebook.tqdm` instead of `tqdm.tqdm_notebook`\n",
      "  app.launch_new_instance()\n"
     ]
    },
    {
     "data": {
      "application/vnd.jupyter.widget-view+json": {
       "model_id": "a18bbb9804d540e28027c281cdd659e3",
       "version_major": 2,
       "version_minor": 0
      },
      "text/plain": [
       "HBox(children=(FloatProgress(value=0.0, max=3700.0), HTML(value='')))"
      ]
     },
     "metadata": {},
     "output_type": "display_data"
    },
    {
     "name": "stderr",
     "output_type": "stream",
     "text": [
      "C:\\Users\\doudi\\Anaconda3\\lib\\site-packages\\ipykernel_launcher.py:25: TqdmDeprecationWarning: This function will be removed in tqdm==5.0.0\n",
      "Please use `tqdm.notebook.tqdm` instead of `tqdm.tqdm_notebook`\n"
     ]
    },
    {
     "name": "stdout",
     "output_type": "stream",
     "text": [
      "\n"
     ]
    },
    {
     "data": {
      "application/vnd.jupyter.widget-view+json": {
       "model_id": "e9aecc967c434bedb0617769baf632d1",
       "version_major": 2,
       "version_minor": 0
      },
      "text/plain": [
       "HBox(children=(FloatProgress(value=1.0, bar_style='info', max=1.0), HTML(value='')))"
      ]
     },
     "metadata": {},
     "output_type": "display_data"
    },
    {
     "name": "stdout",
     "output_type": "stream",
     "text": [
      "\n"
     ]
    },
    {
     "name": "stderr",
     "output_type": "stream",
     "text": [
      "Building prefix dict from the default dictionary ...\n",
      "Loading model from cache C:\\Users\\doudi\\AppData\\Local\\Temp\\jieba.cache\n",
      "Loading model cost 0.691 seconds.\n",
      "Prefix dict has been built succesfully.\n",
      "C:\\Users\\doudi\\Anaconda3\\lib\\site-packages\\ipykernel_launcher.py:45: SettingWithCopyWarning: \n",
      "A value is trying to be set on a copy of a slice from a DataFrame.\n",
      "Try using .loc[row_indexer,col_indexer] = value instead\n",
      "\n",
      "See the caveats in the documentation: http://pandas.pydata.org/pandas-docs/stable/user_guide/indexing.html#returning-a-view-versus-a-copy\n"
     ]
    }
   ],
   "source": [
    "train = generate_dataset(r'train_cn.json',\n",
    "                          'C:/Users/doudi/OneDrive/Documents/ntcir15/Dataset/New_DialEval-1',\n",
    "                         'C:/Users/doudi/OneDrive/Documents/ntcir15/Dataset/DialEval-1/cn_stopwords.txt')"
   ]
  },
  {
   "cell_type": "code",
   "execution_count": 8,
   "metadata": {
    "scrolled": false
   },
   "outputs": [
    {
     "name": "stderr",
     "output_type": "stream",
     "text": [
      "C:\\Users\\doudi\\Anaconda3\\lib\\site-packages\\ipykernel_launcher.py:4: TqdmDeprecationWarning: This function will be removed in tqdm==5.0.0\n",
      "Please use `tqdm.notebook.tqdm` instead of `tqdm.tqdm_notebook`\n",
      "  after removing the cwd from sys.path.\n"
     ]
    },
    {
     "data": {
      "application/vnd.jupyter.widget-view+json": {
       "model_id": "871ed326e4824026afff14412fbb2eb3",
       "version_major": 2,
       "version_minor": 0
      },
      "text/plain": [
       "HBox(children=(FloatProgress(value=0.0, max=390.0), HTML(value='')))"
      ]
     },
     "metadata": {},
     "output_type": "display_data"
    },
    {
     "name": "stdout",
     "output_type": "stream",
     "text": [
      "\n"
     ]
    },
    {
     "name": "stderr",
     "output_type": "stream",
     "text": [
      "C:\\Users\\doudi\\Anaconda3\\lib\\site-packages\\ipykernel_launcher.py:16: TqdmDeprecationWarning: This function will be removed in tqdm==5.0.0\n",
      "Please use `tqdm.notebook.tqdm` instead of `tqdm.tqdm_notebook`\n",
      "  app.launch_new_instance()\n"
     ]
    },
    {
     "data": {
      "application/vnd.jupyter.widget-view+json": {
       "model_id": "4431005f983c4e0b927cfb8eff928fbf",
       "version_major": 2,
       "version_minor": 0
      },
      "text/plain": [
       "HBox(children=(FloatProgress(value=0.0, max=390.0), HTML(value='')))"
      ]
     },
     "metadata": {},
     "output_type": "display_data"
    },
    {
     "name": "stdout",
     "output_type": "stream",
     "text": [
      "\n"
     ]
    },
    {
     "name": "stderr",
     "output_type": "stream",
     "text": [
      "C:\\Users\\doudi\\Anaconda3\\lib\\site-packages\\ipykernel_launcher.py:25: TqdmDeprecationWarning: This function will be removed in tqdm==5.0.0\n",
      "Please use `tqdm.notebook.tqdm` instead of `tqdm.tqdm_notebook`\n"
     ]
    },
    {
     "data": {
      "application/vnd.jupyter.widget-view+json": {
       "model_id": "87450d6e48ed4c5f91db21a29bc9b425",
       "version_major": 2,
       "version_minor": 0
      },
      "text/plain": [
       "HBox(children=(FloatProgress(value=1.0, bar_style='info', max=1.0), HTML(value='')))"
      ]
     },
     "metadata": {},
     "output_type": "display_data"
    },
    {
     "name": "stdout",
     "output_type": "stream",
     "text": [
      "\n"
     ]
    },
    {
     "name": "stderr",
     "output_type": "stream",
     "text": [
      "C:\\Users\\doudi\\Anaconda3\\lib\\site-packages\\ipykernel_launcher.py:45: SettingWithCopyWarning: \n",
      "A value is trying to be set on a copy of a slice from a DataFrame.\n",
      "Try using .loc[row_indexer,col_indexer] = value instead\n",
      "\n",
      "See the caveats in the documentation: http://pandas.pydata.org/pandas-docs/stable/user_guide/indexing.html#returning-a-view-versus-a-copy\n"
     ]
    }
   ],
   "source": [
    "dev = generate_dataset(r'dev_cn.json',\n",
    "                          'C:/Users/doudi/OneDrive/Documents/ntcir15/Dataset/New_DialEval-1',\n",
    "                         'C:/Users/doudi/OneDrive/Documents/ntcir15/Dataset/DialEval-1/cn_stopwords.txt')"
   ]
  },
  {
   "cell_type": "code",
   "execution_count": 9,
   "metadata": {
    "scrolled": true
   },
   "outputs": [
    {
     "name": "stderr",
     "output_type": "stream",
     "text": [
      "C:\\Users\\doudi\\Anaconda3\\lib\\site-packages\\ipykernel_launcher.py:4: TqdmDeprecationWarning: This function will be removed in tqdm==5.0.0\n",
      "Please use `tqdm.notebook.tqdm` instead of `tqdm.tqdm_notebook`\n",
      "  after removing the cwd from sys.path.\n"
     ]
    },
    {
     "data": {
      "application/vnd.jupyter.widget-view+json": {
       "model_id": "ab3eb75fff154be9a618fe625cba2df5",
       "version_major": 2,
       "version_minor": 0
      },
      "text/plain": [
       "HBox(children=(FloatProgress(value=0.0, max=300.0), HTML(value='')))"
      ]
     },
     "metadata": {},
     "output_type": "display_data"
    },
    {
     "name": "stdout",
     "output_type": "stream",
     "text": [
      "\n"
     ]
    },
    {
     "name": "stderr",
     "output_type": "stream",
     "text": [
      "C:\\Users\\doudi\\Anaconda3\\lib\\site-packages\\ipykernel_launcher.py:11: TqdmDeprecationWarning: This function will be removed in tqdm==5.0.0\n",
      "Please use `tqdm.notebook.tqdm` instead of `tqdm.tqdm_notebook`\n",
      "  # This is added back by InteractiveShellApp.init_path()\n"
     ]
    },
    {
     "data": {
      "application/vnd.jupyter.widget-view+json": {
       "model_id": "d8ddca5675f54887b74fb739936320ba",
       "version_major": 2,
       "version_minor": 0
      },
      "text/plain": [
       "HBox(children=(FloatProgress(value=0.0, max=300.0), HTML(value='')))"
      ]
     },
     "metadata": {},
     "output_type": "display_data"
    },
    {
     "name": "stdout",
     "output_type": "stream",
     "text": [
      "\n"
     ]
    }
   ],
   "source": [
    "test = test_preprocess(r'test_cn.json',\n",
    "                          'C:/Users/doudi/OneDrive/Documents/ntcir15/Dataset/New_DialEval-1',\n",
    "                         'C:/Users/doudi/OneDrive/Documents/ntcir15/Dataset/DialEval-1/cn_stopwords.txt')"
   ]
  },
  {
   "cell_type": "code",
   "execution_count": 10,
   "metadata": {
    "scrolled": true
   },
   "outputs": [
    {
     "name": "stderr",
     "output_type": "stream",
     "text": [
      "C:\\Users\\doudi\\Anaconda3\\lib\\site-packages\\ipykernel_launcher.py:11: TqdmDeprecationWarning: This function will be removed in tqdm==5.0.0\n",
      "Please use `tqdm.notebook.tqdm` instead of `tqdm.tqdm_notebook`\n",
      "  # This is added back by InteractiveShellApp.init_path()\n"
     ]
    },
    {
     "data": {
      "application/vnd.jupyter.widget-view+json": {
       "model_id": "5402a83260e74a73b2fa113f804cbd0c",
       "version_major": 2,
       "version_minor": 0
      },
      "text/plain": [
       "HBox(children=(FloatProgress(value=0.0, max=614083.0), HTML(value='')))"
      ]
     },
     "metadata": {},
     "output_type": "display_data"
    },
    {
     "name": "stdout",
     "output_type": "stream",
     "text": [
      "\n"
     ]
    }
   ],
   "source": [
    "def import_w2v(name, wd):    \n",
    "    os.chdir(wd)\n",
    "    f = pd.read_csv(name, encoding='utf-8')\n",
    "    df = pd.DataFrame(f['614083 300'].str.split(' ',1).tolist(),\n",
    "                                     columns = ['flips','row'])\n",
    "    df = df.rename(columns={'flips':'word', 'row':'vector'})\n",
    "    \n",
    "    from opencc import OpenCC\n",
    "    s = []\n",
    "    cc = OpenCC('t2s')\n",
    "    for i in tqdm(df['word']):\n",
    "        s.append(cc.convert(i))\n",
    "    df['simp'] = s\n",
    "    \n",
    "    return df\n",
    "name = 'zh_wiki_word2vec_300.txt'\n",
    "wd = 'C:\\\\Users\\\\doudi\\\\Downloads\\\\zh_wiki_word2vec_300'\n",
    "W2V = import_w2v(name, wd)"
   ]
  },
  {
   "cell_type": "code",
   "execution_count": 69,
   "metadata": {},
   "outputs": [
    {
     "data": {
      "text/html": [
       "<div>\n",
       "<style scoped>\n",
       "    .dataframe tbody tr th:only-of-type {\n",
       "        vertical-align: middle;\n",
       "    }\n",
       "\n",
       "    .dataframe tbody tr th {\n",
       "        vertical-align: top;\n",
       "    }\n",
       "\n",
       "    .dataframe thead th {\n",
       "        text-align: right;\n",
       "    }\n",
       "</style>\n",
       "<table border=\"1\" class=\"dataframe\">\n",
       "  <thead>\n",
       "    <tr style=\"text-align: right;\">\n",
       "      <th></th>\n",
       "      <th>word</th>\n",
       "      <th>vector</th>\n",
       "      <th>simp</th>\n",
       "    </tr>\n",
       "  </thead>\n",
       "  <tbody>\n",
       "    <tr>\n",
       "      <th>0</th>\n",
       "      <td>歐幾里</td>\n",
       "      <td>-0.105163544 -0.03062032 0.022532381 -0.043694...</td>\n",
       "      <td>欧几里</td>\n",
       "    </tr>\n",
       "    <tr>\n",
       "      <th>1</th>\n",
       "      <td>得</td>\n",
       "      <td>-0.07968008 0.3307005 -0.13564445 0.065610155 ...</td>\n",
       "      <td>得</td>\n",
       "    </tr>\n",
       "    <tr>\n",
       "      <th>2</th>\n",
       "      <td>西元前</td>\n",
       "      <td>0.3526686 0.1318678 -0.22770336 -0.032585304 -...</td>\n",
       "      <td>西元前</td>\n",
       "    </tr>\n",
       "    <tr>\n",
       "      <th>3</th>\n",
       "      <td>三世</td>\n",
       "      <td>0.20732123 0.19093925 -0.356956 0.16564949 -0....</td>\n",
       "      <td>三世</td>\n",
       "    </tr>\n",
       "    <tr>\n",
       "      <th>4</th>\n",
       "      <td>紀的</td>\n",
       "      <td>-0.11831374 0.6380424 -0.27801472 -0.09356173 ...</td>\n",
       "      <td>纪的</td>\n",
       "    </tr>\n",
       "  </tbody>\n",
       "</table>\n",
       "</div>"
      ],
      "text/plain": [
       "  word                                             vector simp\n",
       "0  歐幾里  -0.105163544 -0.03062032 0.022532381 -0.043694...  欧几里\n",
       "1    得  -0.07968008 0.3307005 -0.13564445 0.065610155 ...    得\n",
       "2  西元前  0.3526686 0.1318678 -0.22770336 -0.032585304 -...  西元前\n",
       "3   三世  0.20732123 0.19093925 -0.356956 0.16564949 -0....   三世\n",
       "4   紀的  -0.11831374 0.6380424 -0.27801472 -0.09356173 ...   纪的"
      ]
     },
     "execution_count": 69,
     "metadata": {},
     "output_type": "execute_result"
    }
   ],
   "source": [
    "W2V.head()"
   ]
  },
  {
   "cell_type": "code",
   "execution_count": 65,
   "metadata": {},
   "outputs": [],
   "source": [
    "from itertools import chain\n",
    "# transform word into vector via word2Vec\n",
    "def trans(dataframe, vec):\n",
    "    tmp_all = []\n",
    "    for i in tqdm(dataframe['texts']):\n",
    "        tmp = []\n",
    "        for j in i.split():\n",
    "            if j in vec['word'].to_list():\n",
    "#                 print(j)\n",
    "#                 print(vec[vec['word']==j]['vector'])\n",
    "                match = list(chain(*vec[vec['word']==j]['vector'].str.split().tolist()))\n",
    "                match = list(map(float, match))\n",
    "                tmp.append(match)\n",
    "#                 print(tmp)\n",
    "            else:\n",
    "                continue\n",
    "        avg = [sum(x)/len(x) for x in zip(*tmp)]\n",
    "#         print(avg)\n",
    "        tmp_all.append(avg)\n",
    "    dataframe['W2V'] = tmp_all\n",
    "    return dataframe"
   ]
  },
  {
   "cell_type": "code",
   "execution_count": 14,
   "metadata": {},
   "outputs": [
    {
     "name": "stderr",
     "output_type": "stream",
     "text": [
      "C:\\Users\\doudi\\Anaconda3\\lib\\site-packages\\ipykernel_launcher.py:5: TqdmDeprecationWarning: This function will be removed in tqdm==5.0.0\n",
      "Please use `tqdm.notebook.tqdm` instead of `tqdm.tqdm_notebook`\n",
      "  \"\"\"\n"
     ]
    },
    {
     "data": {
      "application/vnd.jupyter.widget-view+json": {
       "model_id": "2733f439bb4a4f8e829e433158f5f2f4",
       "version_major": 2,
       "version_minor": 0
      },
      "text/plain": [
       "HBox(children=(FloatProgress(value=0.0, max=15400.0), HTML(value='')))"
      ]
     },
     "metadata": {},
     "output_type": "display_data"
    },
    {
     "name": "stdout",
     "output_type": "stream",
     "text": [
      "\n"
     ]
    }
   ],
   "source": [
    "train = trans(train, W2V)"
   ]
  },
  {
   "cell_type": "code",
   "execution_count": 15,
   "metadata": {},
   "outputs": [
    {
     "name": "stderr",
     "output_type": "stream",
     "text": [
      "C:\\Users\\doudi\\Anaconda3\\lib\\site-packages\\ipykernel_launcher.py:5: TqdmDeprecationWarning: This function will be removed in tqdm==5.0.0\n",
      "Please use `tqdm.notebook.tqdm` instead of `tqdm.tqdm_notebook`\n",
      "  \"\"\"\n"
     ]
    },
    {
     "data": {
      "application/vnd.jupyter.widget-view+json": {
       "model_id": "06daa9624bf8495fba363523cd102574",
       "version_major": 2,
       "version_minor": 0
      },
      "text/plain": [
       "HBox(children=(FloatProgress(value=0.0, max=1755.0), HTML(value='')))"
      ]
     },
     "metadata": {},
     "output_type": "display_data"
    },
    {
     "name": "stdout",
     "output_type": "stream",
     "text": [
      "\n"
     ]
    }
   ],
   "source": [
    "dev = trans(dev, W2V)"
   ]
  },
  {
   "cell_type": "code",
   "execution_count": 17,
   "metadata": {},
   "outputs": [],
   "source": [
    "# train.to_csv('C:\\\\Users\\\\doudi\\\\OneDrive\\\\Documents\\\\ntcir15\\\\Dataset\\\\New_DialEval-1\\\\train_w2v_cn.csv', index=False, encoding='utf_8_sig')\n",
    "# dev.to_csv('C:\\\\Users\\\\doudi\\\\OneDrive\\\\Documents\\\\ntcir15\\\\Dataset\\\\New_DialEval-1\\\\dev_w2v_cn.csv', index=False, encoding='utf_8_sig')"
   ]
  },
  {
   "cell_type": "code",
   "execution_count": 23,
   "metadata": {},
   "outputs": [],
   "source": [
    "train = pd.read_csv('C:\\\\Users\\\\doudi\\\\OneDrive\\\\Documents\\\\ntcir15\\\\Dataset\\\\New_DialEval-1\\\\train_baidu_cn.csv', encoding='utf_8')\n",
    "dev = pd.read_csv('C:\\\\Users\\\\doudi\\\\OneDrive\\\\Documents\\\\ntcir15\\\\Dataset\\\\New_DialEval-1\\\\dev_baidu_cn.csv', encoding='utf_8')"
   ]
  },
  {
   "cell_type": "code",
   "execution_count": 24,
   "metadata": {},
   "outputs": [],
   "source": [
    "train['Baidu_str'] = train['Baidu_str'].fillna('[]')\n",
    "dev['Baidu_str'] = dev['Baidu_str'].fillna('[]')"
   ]
  },
  {
   "cell_type": "code",
   "execution_count": 25,
   "metadata": {},
   "outputs": [],
   "source": [
    "def str_to_list(dataframe): \n",
    "    l = []\n",
    "    n = []\n",
    "    for i in dataframe['Baidu_str']:\n",
    "        if i != '[]':\n",
    "            \n",
    "            l.append([float(j) for j in str(i).split()])\n",
    "        else:\n",
    "            l.append(n)\n",
    "    return l"
   ]
  },
  {
   "cell_type": "code",
   "execution_count": 26,
   "metadata": {},
   "outputs": [],
   "source": [
    "train[\"Baidu\"] = str_to_list(train)\n",
    "dev[\"Baidu\"] = str_to_list(dev)"
   ]
  },
  {
   "cell_type": "markdown",
   "metadata": {},
   "source": [
    "> See if the file are same "
   ]
  },
  {
   "cell_type": "code",
   "execution_count": 83,
   "metadata": {},
   "outputs": [],
   "source": [
    "# count = 0\n",
    "# if output.equals(output_15_tr) == True:\n",
    "#     print(\"DialEval-14 training data is as same as DialEval-15 training data\")\n",
    "# else:\n",
    "#     print(\"DialEval-14 training data is not as same as DialEval-15 training data\")\n",
    "\n",
    "    \n",
    "# output.iloc[0] == output_15_tr.iloc[0]\n",
    "\n",
    "# # print(\"There are {0} rows in 2 datasets as same\".format(count))\n",
    "# # print(\"\\n\")\n",
    "# # print(\"There are {0} rows in 2 datasets as different\".format((len(output)-count)))"
   ]
  },
  {
   "cell_type": "markdown",
   "metadata": {},
   "source": [
    "### 5. Modeling"
   ]
  },
  {
   "cell_type": "markdown",
   "metadata": {},
   "source": [
    "#### 5.1 Write some necessory def function "
   ]
  },
  {
   "cell_type": "code",
   "execution_count": 27,
   "metadata": {},
   "outputs": [],
   "source": [
    "from scipy import stats\n",
    "import tensorflow as tf\n",
    "\n",
    "def normalize(pred, truth):\n",
    "    \"\"\" convert inputs to np.array and make sure\n",
    "    inputs are normalized probability distributions\n",
    "    \"\"\"\n",
    "    if len(pred) != len(truth):\n",
    "        raise ValueError(\"pred and truth have different lengths\")\n",
    "    if len(pred) == 0 or len(truth) == 0:\n",
    "        raise ValueError(\"pred or truth are empty\")\n",
    "\n",
    "    pred, truth = np.asarray(pred), np.asarray(truth)\n",
    "    if not ((pred >= 0).all() and (truth >= 0).all()):\n",
    "        raise ValueError(\"probability distribution should not be negative\")\n",
    "    pred, truth = pred / pred.sum(), truth / truth.sum()\n",
    "    return pred, truth\n",
    "\n",
    "def jensen_shannon_div(pred, truth, base=2):\n",
    "    ''' JSD: Jensen-Shannon Divergence\n",
    "    '''\n",
    "    pred, truth = normalize(pred, truth)\n",
    "    m = 1. / 2 * (pred + truth)\n",
    "    return (stats.entropy(pred, m, base=base)\n",
    "            + stats.entropy(truth, m, base=base)) / 2.\n",
    "\n",
    "def root_normalized_squared_error(pred, truth):\n",
    "    \"\"\" RNSS: Root Normalised Sum of Squares\n",
    "    \"\"\"\n",
    "\n",
    "    def squared_error(pred, truth):\n",
    "        return ((pred - truth) ** 2).sum()\n",
    "\n",
    "    pred, truth = normalize(pred, truth)\n",
    "    return np.sqrt(squared_error(pred, truth) / 2)\n",
    "\n",
    "def jsd_custom_loss(y_true, y_pred):\n",
    "            \n",
    "    # calculate loss, using y_pred\n",
    "    ''' JSD: Jensen-Shannon Divergence\n",
    "    '''\n",
    "#     y_pred, y_true = normalize(y_pred, y_true)\n",
    "    m = 1. / 2 * (y_pred + y_true)\n",
    "    # loss = (stats.entropy(y_pred, m, base=2) + stats.entropy(y_true, m, base=2)) / 2.\n",
    "    # tf.keras.losses.KLD()\n",
    "    loss = (tf.keras.losses.KLD(y_pred, m) + tf.keras.losses.KLD(y_true, m)) / 2.\n",
    "    return loss\n",
    "  \n",
    "# model.compile(loss=jsd_custom_loss, optimizer='adam')\n",
    "\n",
    "# def rnss_custom_loss(y_true, y_pred):\n",
    "            \n",
    "#     # calculate loss, using y_pred\n",
    "#     \"\"\" RNSS: Root Normalised Sum of Squares\n",
    "#     \"\"\"\n",
    "\n",
    "#     def squared_error(y_pred, y_true):\n",
    "#         return ((y_pred - y_true) ** 2).sum()\n",
    "\n",
    "# #     y_pred, y_true = normalize(y_pred, y_true)\n",
    "#     loss = np.sqrt(squared_error(y_pred, y_true) / 2)\n",
    "    \n",
    "#     return loss\n",
    "  "
   ]
  },
  {
   "cell_type": "code",
   "execution_count": 28,
   "metadata": {},
   "outputs": [],
   "source": [
    "# split from sender\n",
    "train_c = train[train.sender=='customer']\n",
    "train_h = train[train.sender=='helpdesk']\n",
    "dev_c = dev[dev.sender=='customer']\n",
    "dev_h = dev[dev.sender=='helpdesk']"
   ]
  },
  {
   "cell_type": "code",
   "execution_count": 29,
   "metadata": {},
   "outputs": [],
   "source": [
    "from sklearn.model_selection import train_test_split \n",
    "from sklearn import metrics\n",
    "from keras.preprocessing import sequence\n",
    "from keras.preprocessing.text import Tokenizer\n",
    "from keras.utils import np_utils\n",
    "from keras import optimizers\n",
    "from keras.layers.merge import concatenate\n",
    "from keras.models import Sequential, Model\n",
    "from keras.layers import Input\n",
    "from keras.layers import Dense, Embedding\n",
    "from keras.layers import Convolution1D, Flatten, Dropout, MaxPool1D, GlobalAveragePooling1D\n",
    "from keras.layers import concatenate, Bidirectional\n",
    "from keras import initializers\n",
    "from keras.layers.core import Dense, Dropout, Activation, Flatten\n",
    "from keras.layers.embeddings import Embedding\n",
    "# from keras.layers.recurrent import SimpleRNN\n",
    "from keras.layers.recurrent import LSTM\n",
    "from keras.callbacks import ModelCheckpoint"
   ]
  },
  {
   "cell_type": "markdown",
   "metadata": {},
   "source": [
    "#### 5.2 Features preparation"
   ]
  },
  {
   "cell_type": "code",
   "execution_count": 30,
   "metadata": {},
   "outputs": [
    {
     "name": "stdout",
     "output_type": "stream",
     "text": [
      "8500\n"
     ]
    }
   ],
   "source": [
    "# === customer\n",
    "c_X_train = train_c.filter(['round','texts'])\n",
    "c_X_test = dev_c.filter(['round','texts'])\n",
    "    \n",
    "\n",
    "y_train_c = train_c.filter(['CNUG0','CNUG','CNUG*','CNaN'])\n",
    "y_test_c = dev_c.filter(['CNUG0','CNUG','CNUG*','CNaN'])\n",
    "\n",
    "# y_train_h = train.filter(['HNUG','HNUG*','HNaN'])\n",
    "# y_test_h = dev.filter(['HNUG','HNUG*','HNaN'])\n",
    "\n",
    "c_X1_train = c_X_train['texts']\n",
    "# c_X1_train = [str (item) for item in c_X1_train]\n",
    "c_X1_test = c_X_test['texts']\n",
    "# c_X1_test = [str (item) for item in c_X1_test]\n",
    "\n",
    "c_X2_train = c_X_train[['round']].values\n",
    "c_X2_test = c_X_test[['round']].values\n",
    "\n",
    "c_token = Tokenizer(num_words = 20000)\n",
    "c_token.fit_on_texts(c_X1_train)\n",
    "c_vocab = c_token.word_index\n",
    "print(c_token.document_count)\n",
    "\n",
    "c_x_train_seq = c_token.texts_to_sequences(c_X1_train)\n",
    "c_x_test_seq = c_token.texts_to_sequences(c_X1_test)\n",
    "c_X1_train = sequence.pad_sequences(c_x_train_seq, maxlen = 350)\n",
    "c_X1_test = sequence.pad_sequences(c_x_test_seq, maxlen = 350)"
   ]
  },
  {
   "cell_type": "code",
   "execution_count": 31,
   "metadata": {},
   "outputs": [
    {
     "name": "stdout",
     "output_type": "stream",
     "text": [
      "6900\n"
     ]
    }
   ],
   "source": [
    "# === helpdesk\n",
    "h_X_train = train_h.filter(['round','texts'])\n",
    "h_X_test = dev_h.filter(['round','texts'])\n",
    "    \n",
    "\n",
    "# y_train_c = train_c.filter(['CNUG','CNUG*','CNUG0','CNaN'])\n",
    "# y_test_c = dev_c.filter(['CNUG','CNUG*','CNUG0','CNaN'])\n",
    "\n",
    "y_train_h = train_h.filter(['HNUG','HNUG*','HNaN'])\n",
    "y_test_h = dev_h.filter(['HNUG','HNUG*','HNaN'])\n",
    "\n",
    "h_X1_train = h_X_train['texts']\n",
    "# h_X1_train = [str (item) for item in h_X1_train]\n",
    "h_X1_test = h_X_test['texts']\n",
    "# h_X1_test = [str (item) for item in h_X1_test]\n",
    "\n",
    "h_X2_train = h_X_train[['round']].values\n",
    "h_X2_test = h_X_test[['round']].values\n",
    "\n",
    "h_token = Tokenizer(num_words = 20000)\n",
    "h_token.fit_on_texts(h_X1_train)\n",
    "h_vocab = h_token.word_index\n",
    "print(h_token.document_count)\n",
    "\n",
    "h_x_train_seq = h_token.texts_to_sequences(h_X1_train)\n",
    "h_x_test_seq = h_token.texts_to_sequences(h_X1_test)\n",
    "h_X1_train = sequence.pad_sequences(h_x_train_seq, maxlen = 350)\n",
    "h_X1_test = sequence.pad_sequences(h_x_test_seq, maxlen = 350)"
   ]
  },
  {
   "cell_type": "markdown",
   "metadata": {},
   "source": [
    "> Word2Vec vector"
   ]
  },
  {
   "cell_type": "code",
   "execution_count": 32,
   "metadata": {},
   "outputs": [
    {
     "name": "stdout",
     "output_type": "stream",
     "text": [
      "(8500, 256)\n",
      "(6900, 256)\n",
      "(975, 256)\n",
      "(780, 256)\n"
     ]
    }
   ],
   "source": [
    "def to_array(dataframe, length, dim=256):   \n",
    "    train_vec = np.zeros(shape=(length,dim))\n",
    "    for i in range(len(dataframe['Baidu'])):\n",
    "        if dataframe['Baidu'].iloc[i] != []:\n",
    "    #         print(i)\n",
    "            train_vec[i] = dataframe['Baidu'].iloc[i]\n",
    "        else:\n",
    "            continue\n",
    "    print(train_vec.shape)\n",
    "    \n",
    "    return train_vec\n",
    "\n",
    "train_vec_c = to_array(train_c, len(train_c))\n",
    "train_vec_h = to_array(train_h, len(train_h))\n",
    "dev_vec_c = to_array(dev_c, len(dev_c))\n",
    "dev_vec_h = to_array(dev_h, len(dev_h))"
   ]
  },
  {
   "cell_type": "code",
   "execution_count": 33,
   "metadata": {},
   "outputs": [],
   "source": [
    "train_vec_c = np.reshape(train_vec_c, (train_vec_c.shape[0],1, train_vec_c.shape[1]))\n",
    "train_vec_h = np.reshape(train_vec_h, (train_vec_h.shape[0],1, train_vec_h.shape[1]))\n",
    "dev_vec_c = np.reshape(dev_vec_c, (dev_vec_c.shape[0],1,dev_vec_c.shape[1]))\n",
    "dev_vec_h = np.reshape(dev_vec_h, (dev_vec_h.shape[0],1,dev_vec_h.shape[1]))\n"
   ]
  },
  {
   "cell_type": "markdown",
   "metadata": {},
   "source": [
    "#### 5.3 textCNN for customer and helpdesk respectively"
   ]
  },
  {
   "cell_type": "markdown",
   "metadata": {},
   "source": [
    "#### 5.4 LSTM for customer and helpdesk respectively"
   ]
  },
  {
   "cell_type": "code",
   "execution_count": 34,
   "metadata": {},
   "outputs": [],
   "source": [
    "# === customer\n",
    "def lstm_C(X1_train, X2_train, X1_test, X2_test, y_train, y_test, loss='categorical_crossentropy'):\n",
    "     \n",
    "#     main_input = Input(shape=(350,), dtype='float64')\n",
    "    main_input = Input(shape=(1,256))\n",
    "    sub_input = Input(shape=(1,))\n",
    "    \n",
    "#     embed = Embedding(output_dim=300,input_dim=20000,input_length=350)(main_input)\n",
    "#     dropout_1 = Dropout(0.35)(embed)\n",
    "    lst = Bidirectional(LSTM(units=128,return_sequences=True))(main_input)\n",
    "    lst2 = Bidirectional(LSTM(units=64))(lst)\n",
    "    merge = concatenate([lst2, sub_input])\n",
    "    dense_1 = Dense(units=32,activation='relu')(merge)\n",
    "    dropout_2 = Dropout(0.35)(dense_1)\n",
    "    dense_2 = Dense(units=16,activation='relu')(dropout_2)\n",
    "    dense_3 = Dense(units=8,activation='relu')(dense_2)\n",
    "    output = Dense(units=4,activation='softmax')(dense_3)\n",
    "\n",
    "\n",
    "    model = Model(inputs=[main_input, sub_input], outputs=output)\n",
    "    model.compile(optimizer='adam', loss=loss, metrics=['accuracy'])\n",
    "    print(model.summary())\n",
    "\n",
    "    # checkpoint\n",
    "    filepath=\"C:\\\\Users\\\\doudi\\\\OneDrive\\\\Documents\\\\ntcir15\\\\Model file\\\\weights(c).best.hdf5\"\n",
    "    checkpoint= ModelCheckpoint(filepath, monitor='val_accuracy', verbose=1, \n",
    "                                save_best_only=True, mode='max')\n",
    "    callbacks_list = [checkpoint]\n",
    "    \n",
    "    train_history = model.fit(x=[X1_train, X2_train], y=y_train, epochs=100, \n",
    "                              batch_size=128, callbacks=callbacks_list, verbose=1, validation_split=0.2)\n",
    "\n",
    "    score = model.evaluate(x=[X1_test, X2_test], y=y_test, verbose=1)\n",
    "\n",
    "    print(\"Test Score:\", score[0])\n",
    "    print(\"Test Accuracy:\", score[1])\n",
    "\n",
    "    pre_probability = model.predict(x=[X1_test, X2_test])\n",
    "    predicted = pre_probability.argmax(axis=-1)\n",
    "    \n",
    "    return model, train_history, pre_probability"
   ]
  },
  {
   "cell_type": "code",
   "execution_count": 35,
   "metadata": {},
   "outputs": [],
   "source": [
    "# === helpdesk\n",
    "def lstm_H(X1_train, X2_train, X1_test, X2_test, y_train, y_test, loss='categorical_crossentropy'):\n",
    "     \n",
    "#     main_input = Input(shape=(350,), dtype='float64')\n",
    "    main_input = Input(shape=(1,256))\n",
    "    sub_input = Input(shape=(1,))\n",
    "    \n",
    "#     embed = Embedding(output_dim=300,input_dim=20000,input_length=350)(main_input)\n",
    "#     dropout_1 = Dropout(0.35)(embed)\n",
    "    lst = Bidirectional(LSTM(units=128,return_sequences=True))(main_input)\n",
    "    lst2 = Bidirectional(LSTM(units=64))(lst)\n",
    "    merge = concatenate([lst2, sub_input])\n",
    "    dense_1 = Dense(units=32,activation='relu')(merge)\n",
    "    dropout_2 = Dropout(0.35)(dense_1)\n",
    "    dense_2 = Dense(units=16,activation='relu')(dropout_2)\n",
    "    dense_3 = Dense(units=8,activation='relu')(dense_2)\n",
    "    output = Dense(units=3,activation='softmax')(dense_3)\n",
    "\n",
    "\n",
    "\n",
    "    model = Model(inputs=[main_input, sub_input], outputs=output)\n",
    "    model.compile(optimizer='adam', loss=loss, metrics=['accuracy'])\n",
    "    print(model.summary())\n",
    "\n",
    "    # checkpoint\n",
    "    filepath=\"C:\\\\Users\\\\doudi\\\\OneDrive\\\\Documents\\\\ntcir15\\\\Model file\\\\weights(h).best.hdf5\"\n",
    "    checkpoint= ModelCheckpoint(filepath, monitor='val_accuracy', verbose=1, \n",
    "                                save_best_only=True, mode='max')\n",
    "    callbacks_list = [checkpoint]\n",
    "    \n",
    "    train_history = model.fit(x=[X1_train, X2_train], y=y_train, epochs=100, \n",
    "                              batch_size=128, callbacks=callbacks_list, verbose=1, validation_split=0.2)\n",
    "\n",
    "    score = model.evaluate(x=[X1_test, X2_test], y=y_test, verbose=1)\n",
    "\n",
    "    print(\"Test Score:\", score[0])\n",
    "    print(\"Test Accuracy:\", score[1])\n",
    "\n",
    "    pre_probability = model.predict(x=[X1_test, X2_test])\n",
    "    predicted = pre_probability.argmax(axis=-1)\n",
    "    \n",
    "    return model, train_history, pre_probability"
   ]
  },
  {
   "cell_type": "markdown",
   "metadata": {},
   "source": [
    "### 6. Evaluation"
   ]
  },
  {
   "cell_type": "markdown",
   "metadata": {},
   "source": [
    "#### 6.1 Subsetting training"
   ]
  },
  {
   "cell_type": "code",
   "execution_count": 93,
   "metadata": {
    "scrolled": true
   },
   "outputs": [],
   "source": [
    "# CNN_c_model, CNN_c_history, CNN_c_pred = CNN_C(c_X1_train, c_X2_train, c_X1_test, \n",
    "#                                                c_X2_test, y_train_c, y_test_c, \n",
    "#                                                loss = jsd_custom_loss)\n",
    "\n",
    "# CNN_h_model, CNN_h_history, CNN_h_pred = CNN_H(h_X1_train, h_X2_train, h_X1_test, \n",
    "#                                                h_X2_test, y_train_h, y_test_h, \n",
    "#                                                loss = jsd_custom_loss)"
   ]
  },
  {
   "cell_type": "code",
   "execution_count": 36,
   "metadata": {},
   "outputs": [
    {
     "name": "stdout",
     "output_type": "stream",
     "text": [
      "Model: \"model_3\"\n",
      "__________________________________________________________________________________________________\n",
      "Layer (type)                    Output Shape         Param #     Connected to                     \n",
      "==================================================================================================\n",
      "input_5 (InputLayer)            (None, 1, 256)       0                                            \n",
      "__________________________________________________________________________________________________\n",
      "bidirectional_5 (Bidirectional) (None, 1, 256)       394240      input_5[0][0]                    \n",
      "__________________________________________________________________________________________________\n",
      "bidirectional_6 (Bidirectional) (None, 128)          164352      bidirectional_5[0][0]            \n",
      "__________________________________________________________________________________________________\n",
      "input_6 (InputLayer)            (None, 1)            0                                            \n",
      "__________________________________________________________________________________________________\n",
      "concatenate_3 (Concatenate)     (None, 129)          0           bidirectional_6[0][0]            \n",
      "                                                                 input_6[0][0]                    \n",
      "__________________________________________________________________________________________________\n",
      "dense_9 (Dense)                 (None, 32)           4160        concatenate_3[0][0]              \n",
      "__________________________________________________________________________________________________\n",
      "dropout_3 (Dropout)             (None, 32)           0           dense_9[0][0]                    \n",
      "__________________________________________________________________________________________________\n",
      "dense_10 (Dense)                (None, 16)           528         dropout_3[0][0]                  \n",
      "__________________________________________________________________________________________________\n",
      "dense_11 (Dense)                (None, 8)            136         dense_10[0][0]                   \n",
      "__________________________________________________________________________________________________\n",
      "dense_12 (Dense)                (None, 4)            36          dense_11[0][0]                   \n",
      "==================================================================================================\n",
      "Total params: 563,452\n",
      "Trainable params: 563,452\n",
      "Non-trainable params: 0\n",
      "__________________________________________________________________________________________________\n",
      "None\n"
     ]
    },
    {
     "ename": "InternalError",
     "evalue": "GPU sync failed",
     "output_type": "error",
     "traceback": [
      "\u001b[1;31m---------------------------------------------------------------------------\u001b[0m",
      "\u001b[1;31mInternalError\u001b[0m                             Traceback (most recent call last)",
      "\u001b[1;32m~\\AppData\\Roaming\\Python\\Python37\\site-packages\\tensorflow\\python\\client\\session.py\u001b[0m in \u001b[0;36m_do_call\u001b[1;34m(self, fn, *args)\u001b[0m\n\u001b[0;32m   1355\u001b[0m     \u001b[1;32mtry\u001b[0m\u001b[1;33m:\u001b[0m\u001b[1;33m\u001b[0m\u001b[1;33m\u001b[0m\u001b[0m\n\u001b[1;32m-> 1356\u001b[1;33m       \u001b[1;32mreturn\u001b[0m \u001b[0mfn\u001b[0m\u001b[1;33m(\u001b[0m\u001b[1;33m*\u001b[0m\u001b[0margs\u001b[0m\u001b[1;33m)\u001b[0m\u001b[1;33m\u001b[0m\u001b[1;33m\u001b[0m\u001b[0m\n\u001b[0m\u001b[0;32m   1357\u001b[0m     \u001b[1;32mexcept\u001b[0m \u001b[0merrors\u001b[0m\u001b[1;33m.\u001b[0m\u001b[0mOpError\u001b[0m \u001b[1;32mas\u001b[0m \u001b[0me\u001b[0m\u001b[1;33m:\u001b[0m\u001b[1;33m\u001b[0m\u001b[1;33m\u001b[0m\u001b[0m\n",
      "\u001b[1;32m~\\AppData\\Roaming\\Python\\Python37\\site-packages\\tensorflow\\python\\client\\session.py\u001b[0m in \u001b[0;36m_run_fn\u001b[1;34m(feed_dict, fetch_list, target_list, options, run_metadata)\u001b[0m\n\u001b[0;32m   1340\u001b[0m       return self._call_tf_sessionrun(\n\u001b[1;32m-> 1341\u001b[1;33m           options, feed_dict, fetch_list, target_list, run_metadata)\n\u001b[0m\u001b[0;32m   1342\u001b[0m \u001b[1;33m\u001b[0m\u001b[0m\n",
      "\u001b[1;32m~\\AppData\\Roaming\\Python\\Python37\\site-packages\\tensorflow\\python\\client\\session.py\u001b[0m in \u001b[0;36m_call_tf_sessionrun\u001b[1;34m(self, options, feed_dict, fetch_list, target_list, run_metadata)\u001b[0m\n\u001b[0;32m   1428\u001b[0m         \u001b[0mself\u001b[0m\u001b[1;33m.\u001b[0m\u001b[0m_session\u001b[0m\u001b[1;33m,\u001b[0m \u001b[0moptions\u001b[0m\u001b[1;33m,\u001b[0m \u001b[0mfeed_dict\u001b[0m\u001b[1;33m,\u001b[0m \u001b[0mfetch_list\u001b[0m\u001b[1;33m,\u001b[0m \u001b[0mtarget_list\u001b[0m\u001b[1;33m,\u001b[0m\u001b[1;33m\u001b[0m\u001b[1;33m\u001b[0m\u001b[0m\n\u001b[1;32m-> 1429\u001b[1;33m         run_metadata)\n\u001b[0m\u001b[0;32m   1430\u001b[0m \u001b[1;33m\u001b[0m\u001b[0m\n",
      "\u001b[1;31mInternalError\u001b[0m: GPU sync failed",
      "\nDuring handling of the above exception, another exception occurred:\n",
      "\u001b[1;31mInternalError\u001b[0m                             Traceback (most recent call last)",
      "\u001b[1;32m<ipython-input-36-f078433480cb>\u001b[0m in \u001b[0;36m<module>\u001b[1;34m\u001b[0m\n\u001b[0;32m      1\u001b[0m lstm_c_model, lstm_c_history, lstm_c_pred = lstm_C(train_vec_c, c_X2_train, dev_vec_c, \n\u001b[0;32m      2\u001b[0m                                                \u001b[0mc_X2_test\u001b[0m\u001b[1;33m,\u001b[0m \u001b[0my_train_c\u001b[0m\u001b[1;33m,\u001b[0m \u001b[0my_test_c\u001b[0m\u001b[1;33m,\u001b[0m\u001b[1;33m\u001b[0m\u001b[1;33m\u001b[0m\u001b[0m\n\u001b[1;32m----> 3\u001b[1;33m                                                loss = jsd_custom_loss)\n\u001b[0m",
      "\u001b[1;32m<ipython-input-34-24b47bd19053>\u001b[0m in \u001b[0;36mlstm_C\u001b[1;34m(X1_train, X2_train, X1_test, X2_test, y_train, y_test, loss)\u001b[0m\n\u001b[0;32m     29\u001b[0m \u001b[1;33m\u001b[0m\u001b[0m\n\u001b[0;32m     30\u001b[0m     train_history = model.fit(x=[X1_train, X2_train], y=y_train, epochs=100, \n\u001b[1;32m---> 31\u001b[1;33m                               batch_size=128, callbacks=callbacks_list, verbose=1, validation_split=0.2)\n\u001b[0m\u001b[0;32m     32\u001b[0m \u001b[1;33m\u001b[0m\u001b[0m\n\u001b[0;32m     33\u001b[0m     \u001b[0mscore\u001b[0m \u001b[1;33m=\u001b[0m \u001b[0mmodel\u001b[0m\u001b[1;33m.\u001b[0m\u001b[0mevaluate\u001b[0m\u001b[1;33m(\u001b[0m\u001b[0mx\u001b[0m\u001b[1;33m=\u001b[0m\u001b[1;33m[\u001b[0m\u001b[0mX1_test\u001b[0m\u001b[1;33m,\u001b[0m \u001b[0mX2_test\u001b[0m\u001b[1;33m]\u001b[0m\u001b[1;33m,\u001b[0m \u001b[0my\u001b[0m\u001b[1;33m=\u001b[0m\u001b[0my_test\u001b[0m\u001b[1;33m,\u001b[0m \u001b[0mverbose\u001b[0m\u001b[1;33m=\u001b[0m\u001b[1;36m1\u001b[0m\u001b[1;33m)\u001b[0m\u001b[1;33m\u001b[0m\u001b[1;33m\u001b[0m\u001b[0m\n",
      "\u001b[1;32m~\\Anaconda3\\lib\\site-packages\\keras\\engine\\training.py\u001b[0m in \u001b[0;36mfit\u001b[1;34m(self, x, y, batch_size, epochs, verbose, callbacks, validation_split, validation_data, shuffle, class_weight, sample_weight, initial_epoch, steps_per_epoch, validation_steps, validation_freq, max_queue_size, workers, use_multiprocessing, **kwargs)\u001b[0m\n\u001b[0;32m   1211\u001b[0m         \u001b[1;32melse\u001b[0m\u001b[1;33m:\u001b[0m\u001b[1;33m\u001b[0m\u001b[1;33m\u001b[0m\u001b[0m\n\u001b[0;32m   1212\u001b[0m             \u001b[0mfit_inputs\u001b[0m \u001b[1;33m=\u001b[0m \u001b[0mx\u001b[0m \u001b[1;33m+\u001b[0m \u001b[0my\u001b[0m \u001b[1;33m+\u001b[0m \u001b[0msample_weights\u001b[0m\u001b[1;33m\u001b[0m\u001b[1;33m\u001b[0m\u001b[0m\n\u001b[1;32m-> 1213\u001b[1;33m         \u001b[0mself\u001b[0m\u001b[1;33m.\u001b[0m\u001b[0m_make_train_function\u001b[0m\u001b[1;33m(\u001b[0m\u001b[1;33m)\u001b[0m\u001b[1;33m\u001b[0m\u001b[1;33m\u001b[0m\u001b[0m\n\u001b[0m\u001b[0;32m   1214\u001b[0m         \u001b[0mfit_function\u001b[0m \u001b[1;33m=\u001b[0m \u001b[0mself\u001b[0m\u001b[1;33m.\u001b[0m\u001b[0mtrain_function\u001b[0m\u001b[1;33m\u001b[0m\u001b[1;33m\u001b[0m\u001b[0m\n\u001b[0;32m   1215\u001b[0m \u001b[1;33m\u001b[0m\u001b[0m\n",
      "\u001b[1;32m~\\Anaconda3\\lib\\site-packages\\keras\\engine\\training.py\u001b[0m in \u001b[0;36m_make_train_function\u001b[1;34m(self)\u001b[0m\n\u001b[0;32m    331\u001b[0m                     \u001b[0mupdates\u001b[0m\u001b[1;33m=\u001b[0m\u001b[0mupdates\u001b[0m \u001b[1;33m+\u001b[0m \u001b[0mmetrics_updates\u001b[0m\u001b[1;33m,\u001b[0m\u001b[1;33m\u001b[0m\u001b[1;33m\u001b[0m\u001b[0m\n\u001b[0;32m    332\u001b[0m                     \u001b[0mname\u001b[0m\u001b[1;33m=\u001b[0m\u001b[1;34m'train_function'\u001b[0m\u001b[1;33m,\u001b[0m\u001b[1;33m\u001b[0m\u001b[1;33m\u001b[0m\u001b[0m\n\u001b[1;32m--> 333\u001b[1;33m                     **self._function_kwargs)\n\u001b[0m\u001b[0;32m    334\u001b[0m \u001b[1;33m\u001b[0m\u001b[0m\n\u001b[0;32m    335\u001b[0m     \u001b[1;32mdef\u001b[0m \u001b[0m_make_test_function\u001b[0m\u001b[1;33m(\u001b[0m\u001b[0mself\u001b[0m\u001b[1;33m)\u001b[0m\u001b[1;33m:\u001b[0m\u001b[1;33m\u001b[0m\u001b[1;33m\u001b[0m\u001b[0m\n",
      "\u001b[1;32m~\\Anaconda3\\lib\\site-packages\\keras\\backend\\tensorflow_backend.py\u001b[0m in \u001b[0;36mfunction\u001b[1;34m(inputs, outputs, updates, **kwargs)\u001b[0m\n\u001b[0;32m   3004\u001b[0m \u001b[1;32mdef\u001b[0m \u001b[0mfunction\u001b[0m\u001b[1;33m(\u001b[0m\u001b[0minputs\u001b[0m\u001b[1;33m,\u001b[0m \u001b[0moutputs\u001b[0m\u001b[1;33m,\u001b[0m \u001b[0mupdates\u001b[0m\u001b[1;33m=\u001b[0m\u001b[1;32mNone\u001b[0m\u001b[1;33m,\u001b[0m \u001b[1;33m**\u001b[0m\u001b[0mkwargs\u001b[0m\u001b[1;33m)\u001b[0m\u001b[1;33m:\u001b[0m\u001b[1;33m\u001b[0m\u001b[1;33m\u001b[0m\u001b[0m\n\u001b[0;32m   3005\u001b[0m     \u001b[1;32mif\u001b[0m \u001b[0m_is_tf_1\u001b[0m\u001b[1;33m(\u001b[0m\u001b[1;33m)\u001b[0m\u001b[1;33m:\u001b[0m\u001b[1;33m\u001b[0m\u001b[1;33m\u001b[0m\u001b[0m\n\u001b[1;32m-> 3006\u001b[1;33m         \u001b[0mv1_variable_initialization\u001b[0m\u001b[1;33m(\u001b[0m\u001b[1;33m)\u001b[0m\u001b[1;33m\u001b[0m\u001b[1;33m\u001b[0m\u001b[0m\n\u001b[0m\u001b[0;32m   3007\u001b[0m     return tf_keras_backend.function(inputs, outputs,\n\u001b[0;32m   3008\u001b[0m                                      \u001b[0mupdates\u001b[0m\u001b[1;33m=\u001b[0m\u001b[0mupdates\u001b[0m\u001b[1;33m,\u001b[0m\u001b[1;33m\u001b[0m\u001b[1;33m\u001b[0m\u001b[0m\n",
      "\u001b[1;32m~\\Anaconda3\\lib\\site-packages\\keras\\backend\\tensorflow_backend.py\u001b[0m in \u001b[0;36mv1_variable_initialization\u001b[1;34m()\u001b[0m\n\u001b[0;32m    418\u001b[0m \u001b[1;33m\u001b[0m\u001b[0m\n\u001b[0;32m    419\u001b[0m \u001b[1;32mdef\u001b[0m \u001b[0mv1_variable_initialization\u001b[0m\u001b[1;33m(\u001b[0m\u001b[1;33m)\u001b[0m\u001b[1;33m:\u001b[0m\u001b[1;33m\u001b[0m\u001b[1;33m\u001b[0m\u001b[0m\n\u001b[1;32m--> 420\u001b[1;33m     \u001b[0msession\u001b[0m \u001b[1;33m=\u001b[0m \u001b[0mget_session\u001b[0m\u001b[1;33m(\u001b[0m\u001b[1;33m)\u001b[0m\u001b[1;33m\u001b[0m\u001b[1;33m\u001b[0m\u001b[0m\n\u001b[0m\u001b[0;32m    421\u001b[0m     \u001b[1;32mwith\u001b[0m \u001b[0msession\u001b[0m\u001b[1;33m.\u001b[0m\u001b[0mgraph\u001b[0m\u001b[1;33m.\u001b[0m\u001b[0mas_default\u001b[0m\u001b[1;33m(\u001b[0m\u001b[1;33m)\u001b[0m\u001b[1;33m:\u001b[0m\u001b[1;33m\u001b[0m\u001b[1;33m\u001b[0m\u001b[0m\n\u001b[0;32m    422\u001b[0m         \u001b[0mvariables\u001b[0m \u001b[1;33m=\u001b[0m \u001b[0mtf\u001b[0m\u001b[1;33m.\u001b[0m\u001b[0mglobal_variables\u001b[0m\u001b[1;33m(\u001b[0m\u001b[1;33m)\u001b[0m\u001b[1;33m\u001b[0m\u001b[1;33m\u001b[0m\u001b[0m\n",
      "\u001b[1;32m~\\Anaconda3\\lib\\site-packages\\keras\\backend\\tensorflow_backend.py\u001b[0m in \u001b[0;36mget_session\u001b[1;34m()\u001b[0m\n\u001b[0;32m    383\u001b[0m             \u001b[1;34m'`get_session` is not available when '\u001b[0m\u001b[1;33m\u001b[0m\u001b[1;33m\u001b[0m\u001b[0m\n\u001b[0;32m    384\u001b[0m             'TensorFlow is executing eagerly.')\n\u001b[1;32m--> 385\u001b[1;33m     \u001b[1;32mreturn\u001b[0m \u001b[0mtf_keras_backend\u001b[0m\u001b[1;33m.\u001b[0m\u001b[0mget_session\u001b[0m\u001b[1;33m(\u001b[0m\u001b[1;33m)\u001b[0m\u001b[1;33m\u001b[0m\u001b[1;33m\u001b[0m\u001b[0m\n\u001b[0m\u001b[0;32m    386\u001b[0m \u001b[1;33m\u001b[0m\u001b[0m\n\u001b[0;32m    387\u001b[0m \u001b[1;33m\u001b[0m\u001b[0m\n",
      "\u001b[1;32m~\\AppData\\Roaming\\Python\\Python37\\site-packages\\tensorflow\\python\\keras\\backend.py\u001b[0m in \u001b[0;36mget_session\u001b[1;34m(op_input_list)\u001b[0m\n\u001b[0;32m    460\u001b[0m   \u001b[1;32mif\u001b[0m \u001b[1;32mnot\u001b[0m \u001b[0m_MANUAL_VAR_INIT\u001b[0m\u001b[1;33m:\u001b[0m\u001b[1;33m\u001b[0m\u001b[1;33m\u001b[0m\u001b[0m\n\u001b[0;32m    461\u001b[0m     \u001b[1;32mwith\u001b[0m \u001b[0msession\u001b[0m\u001b[1;33m.\u001b[0m\u001b[0mgraph\u001b[0m\u001b[1;33m.\u001b[0m\u001b[0mas_default\u001b[0m\u001b[1;33m(\u001b[0m\u001b[1;33m)\u001b[0m\u001b[1;33m:\u001b[0m\u001b[1;33m\u001b[0m\u001b[1;33m\u001b[0m\u001b[0m\n\u001b[1;32m--> 462\u001b[1;33m       \u001b[0m_initialize_variables\u001b[0m\u001b[1;33m(\u001b[0m\u001b[0msession\u001b[0m\u001b[1;33m)\u001b[0m\u001b[1;33m\u001b[0m\u001b[1;33m\u001b[0m\u001b[0m\n\u001b[0m\u001b[0;32m    463\u001b[0m   \u001b[1;32mreturn\u001b[0m \u001b[0msession\u001b[0m\u001b[1;33m\u001b[0m\u001b[1;33m\u001b[0m\u001b[0m\n\u001b[0;32m    464\u001b[0m \u001b[1;33m\u001b[0m\u001b[0m\n",
      "\u001b[1;32m~\\AppData\\Roaming\\Python\\Python37\\site-packages\\tensorflow\\python\\keras\\backend.py\u001b[0m in \u001b[0;36m_initialize_variables\u001b[1;34m(session)\u001b[0m\n\u001b[0;32m    877\u001b[0m     \u001b[1;31m# marked as initialized.\u001b[0m\u001b[1;33m\u001b[0m\u001b[1;33m\u001b[0m\u001b[1;33m\u001b[0m\u001b[0m\n\u001b[0;32m    878\u001b[0m     is_initialized = session.run(\n\u001b[1;32m--> 879\u001b[1;33m         [variables_module.is_variable_initialized(v) for v in candidate_vars])\n\u001b[0m\u001b[0;32m    880\u001b[0m     \u001b[0muninitialized_vars\u001b[0m \u001b[1;33m=\u001b[0m \u001b[1;33m[\u001b[0m\u001b[1;33m]\u001b[0m\u001b[1;33m\u001b[0m\u001b[1;33m\u001b[0m\u001b[0m\n\u001b[0;32m    881\u001b[0m     \u001b[1;32mfor\u001b[0m \u001b[0mflag\u001b[0m\u001b[1;33m,\u001b[0m \u001b[0mv\u001b[0m \u001b[1;32min\u001b[0m \u001b[0mzip\u001b[0m\u001b[1;33m(\u001b[0m\u001b[0mis_initialized\u001b[0m\u001b[1;33m,\u001b[0m \u001b[0mcandidate_vars\u001b[0m\u001b[1;33m)\u001b[0m\u001b[1;33m:\u001b[0m\u001b[1;33m\u001b[0m\u001b[1;33m\u001b[0m\u001b[0m\n",
      "\u001b[1;32m~\\AppData\\Roaming\\Python\\Python37\\site-packages\\tensorflow\\python\\client\\session.py\u001b[0m in \u001b[0;36mrun\u001b[1;34m(self, fetches, feed_dict, options, run_metadata)\u001b[0m\n\u001b[0;32m    948\u001b[0m     \u001b[1;32mtry\u001b[0m\u001b[1;33m:\u001b[0m\u001b[1;33m\u001b[0m\u001b[1;33m\u001b[0m\u001b[0m\n\u001b[0;32m    949\u001b[0m       result = self._run(None, fetches, feed_dict, options_ptr,\n\u001b[1;32m--> 950\u001b[1;33m                          run_metadata_ptr)\n\u001b[0m\u001b[0;32m    951\u001b[0m       \u001b[1;32mif\u001b[0m \u001b[0mrun_metadata\u001b[0m\u001b[1;33m:\u001b[0m\u001b[1;33m\u001b[0m\u001b[1;33m\u001b[0m\u001b[0m\n\u001b[0;32m    952\u001b[0m         \u001b[0mproto_data\u001b[0m \u001b[1;33m=\u001b[0m \u001b[0mtf_session\u001b[0m\u001b[1;33m.\u001b[0m\u001b[0mTF_GetBuffer\u001b[0m\u001b[1;33m(\u001b[0m\u001b[0mrun_metadata_ptr\u001b[0m\u001b[1;33m)\u001b[0m\u001b[1;33m\u001b[0m\u001b[1;33m\u001b[0m\u001b[0m\n",
      "\u001b[1;32m~\\AppData\\Roaming\\Python\\Python37\\site-packages\\tensorflow\\python\\client\\session.py\u001b[0m in \u001b[0;36m_run\u001b[1;34m(self, handle, fetches, feed_dict, options, run_metadata)\u001b[0m\n\u001b[0;32m   1171\u001b[0m     \u001b[1;32mif\u001b[0m \u001b[0mfinal_fetches\u001b[0m \u001b[1;32mor\u001b[0m \u001b[0mfinal_targets\u001b[0m \u001b[1;32mor\u001b[0m \u001b[1;33m(\u001b[0m\u001b[0mhandle\u001b[0m \u001b[1;32mand\u001b[0m \u001b[0mfeed_dict_tensor\u001b[0m\u001b[1;33m)\u001b[0m\u001b[1;33m:\u001b[0m\u001b[1;33m\u001b[0m\u001b[1;33m\u001b[0m\u001b[0m\n\u001b[0;32m   1172\u001b[0m       results = self._do_run(handle, final_targets, final_fetches,\n\u001b[1;32m-> 1173\u001b[1;33m                              feed_dict_tensor, options, run_metadata)\n\u001b[0m\u001b[0;32m   1174\u001b[0m     \u001b[1;32melse\u001b[0m\u001b[1;33m:\u001b[0m\u001b[1;33m\u001b[0m\u001b[1;33m\u001b[0m\u001b[0m\n\u001b[0;32m   1175\u001b[0m       \u001b[0mresults\u001b[0m \u001b[1;33m=\u001b[0m \u001b[1;33m[\u001b[0m\u001b[1;33m]\u001b[0m\u001b[1;33m\u001b[0m\u001b[1;33m\u001b[0m\u001b[0m\n",
      "\u001b[1;32m~\\AppData\\Roaming\\Python\\Python37\\site-packages\\tensorflow\\python\\client\\session.py\u001b[0m in \u001b[0;36m_do_run\u001b[1;34m(self, handle, target_list, fetch_list, feed_dict, options, run_metadata)\u001b[0m\n\u001b[0;32m   1348\u001b[0m     \u001b[1;32mif\u001b[0m \u001b[0mhandle\u001b[0m \u001b[1;32mis\u001b[0m \u001b[1;32mNone\u001b[0m\u001b[1;33m:\u001b[0m\u001b[1;33m\u001b[0m\u001b[1;33m\u001b[0m\u001b[0m\n\u001b[0;32m   1349\u001b[0m       return self._do_call(_run_fn, feeds, fetches, targets, options,\n\u001b[1;32m-> 1350\u001b[1;33m                            run_metadata)\n\u001b[0m\u001b[0;32m   1351\u001b[0m     \u001b[1;32melse\u001b[0m\u001b[1;33m:\u001b[0m\u001b[1;33m\u001b[0m\u001b[1;33m\u001b[0m\u001b[0m\n\u001b[0;32m   1352\u001b[0m       \u001b[1;32mreturn\u001b[0m \u001b[0mself\u001b[0m\u001b[1;33m.\u001b[0m\u001b[0m_do_call\u001b[0m\u001b[1;33m(\u001b[0m\u001b[0m_prun_fn\u001b[0m\u001b[1;33m,\u001b[0m \u001b[0mhandle\u001b[0m\u001b[1;33m,\u001b[0m \u001b[0mfeeds\u001b[0m\u001b[1;33m,\u001b[0m \u001b[0mfetches\u001b[0m\u001b[1;33m)\u001b[0m\u001b[1;33m\u001b[0m\u001b[1;33m\u001b[0m\u001b[0m\n",
      "\u001b[1;32m~\\AppData\\Roaming\\Python\\Python37\\site-packages\\tensorflow\\python\\client\\session.py\u001b[0m in \u001b[0;36m_do_call\u001b[1;34m(self, fn, *args)\u001b[0m\n\u001b[0;32m   1368\u001b[0m           \u001b[1;32mpass\u001b[0m\u001b[1;33m\u001b[0m\u001b[1;33m\u001b[0m\u001b[0m\n\u001b[0;32m   1369\u001b[0m       \u001b[0mmessage\u001b[0m \u001b[1;33m=\u001b[0m \u001b[0merror_interpolation\u001b[0m\u001b[1;33m.\u001b[0m\u001b[0minterpolate\u001b[0m\u001b[1;33m(\u001b[0m\u001b[0mmessage\u001b[0m\u001b[1;33m,\u001b[0m \u001b[0mself\u001b[0m\u001b[1;33m.\u001b[0m\u001b[0m_graph\u001b[0m\u001b[1;33m)\u001b[0m\u001b[1;33m\u001b[0m\u001b[1;33m\u001b[0m\u001b[0m\n\u001b[1;32m-> 1370\u001b[1;33m       \u001b[1;32mraise\u001b[0m \u001b[0mtype\u001b[0m\u001b[1;33m(\u001b[0m\u001b[0me\u001b[0m\u001b[1;33m)\u001b[0m\u001b[1;33m(\u001b[0m\u001b[0mnode_def\u001b[0m\u001b[1;33m,\u001b[0m \u001b[0mop\u001b[0m\u001b[1;33m,\u001b[0m \u001b[0mmessage\u001b[0m\u001b[1;33m)\u001b[0m\u001b[1;33m\u001b[0m\u001b[1;33m\u001b[0m\u001b[0m\n\u001b[0m\u001b[0;32m   1371\u001b[0m \u001b[1;33m\u001b[0m\u001b[0m\n\u001b[0;32m   1372\u001b[0m   \u001b[1;32mdef\u001b[0m \u001b[0m_extend_graph\u001b[0m\u001b[1;33m(\u001b[0m\u001b[0mself\u001b[0m\u001b[1;33m)\u001b[0m\u001b[1;33m:\u001b[0m\u001b[1;33m\u001b[0m\u001b[1;33m\u001b[0m\u001b[0m\n",
      "\u001b[1;31mInternalError\u001b[0m: GPU sync failed"
     ]
    }
   ],
   "source": [
    "lstm_c_model, lstm_c_history, lstm_c_pred = lstm_C(train_vec_c, c_X2_train, dev_vec_c, \n",
    "                                               c_X2_test, y_train_c, y_test_c, \n",
    "                                               loss = jsd_custom_loss)"
   ]
  },
  {
   "cell_type": "code",
   "execution_count": 77,
   "metadata": {
    "scrolled": true
   },
   "outputs": [
    {
     "name": "stdout",
     "output_type": "stream",
     "text": [
      "Model: \"model_6\"\n",
      "__________________________________________________________________________________________________\n",
      "Layer (type)                    Output Shape         Param #     Connected to                     \n",
      "==================================================================================================\n",
      "input_11 (InputLayer)           (None, 1, 256)       0                                            \n",
      "__________________________________________________________________________________________________\n",
      "bidirectional_11 (Bidirectional (None, 1, 256)       394240      input_11[0][0]                   \n",
      "__________________________________________________________________________________________________\n",
      "bidirectional_12 (Bidirectional (None, 128)          164352      bidirectional_11[0][0]           \n",
      "__________________________________________________________________________________________________\n",
      "input_12 (InputLayer)           (None, 1)            0                                            \n",
      "__________________________________________________________________________________________________\n",
      "concatenate_6 (Concatenate)     (None, 129)          0           bidirectional_12[0][0]           \n",
      "                                                                 input_12[0][0]                   \n",
      "__________________________________________________________________________________________________\n",
      "dense_21 (Dense)                (None, 32)           4160        concatenate_6[0][0]              \n",
      "__________________________________________________________________________________________________\n",
      "dropout_6 (Dropout)             (None, 32)           0           dense_21[0][0]                   \n",
      "__________________________________________________________________________________________________\n",
      "dense_22 (Dense)                (None, 16)           528         dropout_6[0][0]                  \n",
      "__________________________________________________________________________________________________\n",
      "dense_23 (Dense)                (None, 8)            136         dense_22[0][0]                   \n",
      "__________________________________________________________________________________________________\n",
      "dense_24 (Dense)                (None, 3)            27          dense_23[0][0]                   \n",
      "==================================================================================================\n",
      "Total params: 563,443\n",
      "Trainable params: 563,443\n",
      "Non-trainable params: 0\n",
      "__________________________________________________________________________________________________\n",
      "None\n",
      "Train on 5520 samples, validate on 1380 samples\n",
      "Epoch 1/100\n",
      "5520/5520 [==============================] - 2s 387us/step - loss: 0.0687 - accuracy: 0.7024 - val_loss: 0.0402 - val_accuracy: 0.8616\n",
      "\n",
      "Epoch 00001: val_accuracy improved from -inf to 0.86159, saving model to C:\\Users\\doudi\\OneDrive\\Documents\\ntcir15\\Model file\\weights(h).best.hdf5\n",
      "Epoch 2/100\n",
      "5520/5520 [==============================] - 0s 87us/step - loss: 0.0401 - accuracy: 0.8411 - val_loss: 0.0312 - val_accuracy: 0.8761\n",
      "\n",
      "Epoch 00002: val_accuracy improved from 0.86159 to 0.87609, saving model to C:\\Users\\doudi\\OneDrive\\Documents\\ntcir15\\Model file\\weights(h).best.hdf5\n",
      "Epoch 3/100\n",
      "5520/5520 [==============================] - 0s 85us/step - loss: 0.0325 - accuracy: 0.8522 - val_loss: 0.0255 - val_accuracy: 0.8819\n",
      "\n",
      "Epoch 00003: val_accuracy improved from 0.87609 to 0.88188, saving model to C:\\Users\\doudi\\OneDrive\\Documents\\ntcir15\\Model file\\weights(h).best.hdf5\n",
      "Epoch 4/100\n",
      "5520/5520 [==============================] - 0s 85us/step - loss: 0.0289 - accuracy: 0.8654 - val_loss: 0.0245 - val_accuracy: 0.8812\n",
      "\n",
      "Epoch 00004: val_accuracy did not improve from 0.88188\n",
      "Epoch 5/100\n",
      "5520/5520 [==============================] - 0s 85us/step - loss: 0.0268 - accuracy: 0.8683 - val_loss: 0.0239 - val_accuracy: 0.8819\n",
      "\n",
      "Epoch 00005: val_accuracy did not improve from 0.88188\n",
      "Epoch 6/100\n",
      "5520/5520 [==============================] - 0s 86us/step - loss: 0.0259 - accuracy: 0.8717 - val_loss: 0.0239 - val_accuracy: 0.8754\n",
      "\n",
      "Epoch 00006: val_accuracy did not improve from 0.88188\n",
      "Epoch 7/100\n",
      "5520/5520 [==============================] - 0s 86us/step - loss: 0.0247 - accuracy: 0.8752 - val_loss: 0.0237 - val_accuracy: 0.8761\n",
      "\n",
      "Epoch 00007: val_accuracy did not improve from 0.88188\n",
      "Epoch 8/100\n",
      "5520/5520 [==============================] - 0s 85us/step - loss: 0.0241 - accuracy: 0.8754 - val_loss: 0.0237 - val_accuracy: 0.8739\n",
      "\n",
      "Epoch 00008: val_accuracy did not improve from 0.88188\n",
      "Epoch 9/100\n",
      "5520/5520 [==============================] - 0s 87us/step - loss: 0.0235 - accuracy: 0.8775 - val_loss: 0.0236 - val_accuracy: 0.8732\n",
      "\n",
      "Epoch 00009: val_accuracy did not improve from 0.88188\n",
      "Epoch 10/100\n",
      "5520/5520 [==============================] - 0s 87us/step - loss: 0.0229 - accuracy: 0.8793 - val_loss: 0.0236 - val_accuracy: 0.8739\n",
      "\n",
      "Epoch 00010: val_accuracy did not improve from 0.88188\n",
      "Epoch 11/100\n",
      "5520/5520 [==============================] - 0s 87us/step - loss: 0.0225 - accuracy: 0.8790 - val_loss: 0.0231 - val_accuracy: 0.8768\n",
      "\n",
      "Epoch 00011: val_accuracy did not improve from 0.88188\n",
      "Epoch 12/100\n",
      "5520/5520 [==============================] - 0s 86us/step - loss: 0.0221 - accuracy: 0.8772 - val_loss: 0.0229 - val_accuracy: 0.8819\n",
      "\n",
      "Epoch 00012: val_accuracy did not improve from 0.88188\n",
      "Epoch 13/100\n",
      "5520/5520 [==============================] - 0s 84us/step - loss: 0.0216 - accuracy: 0.8817 - val_loss: 0.0237 - val_accuracy: 0.8819\n",
      "\n",
      "Epoch 00013: val_accuracy did not improve from 0.88188\n",
      "Epoch 14/100\n",
      "5520/5520 [==============================] - 0s 85us/step - loss: 0.0214 - accuracy: 0.8806 - val_loss: 0.0229 - val_accuracy: 0.8768\n",
      "\n",
      "Epoch 00014: val_accuracy did not improve from 0.88188\n",
      "Epoch 15/100\n",
      "5520/5520 [==============================] - 0s 87us/step - loss: 0.0210 - accuracy: 0.8853 - val_loss: 0.0230 - val_accuracy: 0.8848\n",
      "\n",
      "Epoch 00015: val_accuracy improved from 0.88188 to 0.88478, saving model to C:\\Users\\doudi\\OneDrive\\Documents\\ntcir15\\Model file\\weights(h).best.hdf5\n",
      "Epoch 16/100\n",
      "5520/5520 [==============================] - 0s 82us/step - loss: 0.0206 - accuracy: 0.8824 - val_loss: 0.0229 - val_accuracy: 0.8812\n",
      "\n",
      "Epoch 00016: val_accuracy did not improve from 0.88478\n",
      "Epoch 17/100\n",
      "5520/5520 [==============================] - 0s 86us/step - loss: 0.0205 - accuracy: 0.8821 - val_loss: 0.0231 - val_accuracy: 0.8768\n",
      "\n",
      "Epoch 00017: val_accuracy did not improve from 0.88478\n",
      "Epoch 18/100\n",
      "5520/5520 [==============================] - 0s 85us/step - loss: 0.0205 - accuracy: 0.8846 - val_loss: 0.0228 - val_accuracy: 0.8790\n",
      "\n",
      "Epoch 00018: val_accuracy did not improve from 0.88478\n",
      "Epoch 19/100\n",
      "5520/5520 [==============================] - 0s 87us/step - loss: 0.0201 - accuracy: 0.8870 - val_loss: 0.0228 - val_accuracy: 0.8768\n",
      "\n",
      "Epoch 00019: val_accuracy did not improve from 0.88478\n",
      "Epoch 20/100\n",
      "5520/5520 [==============================] - 0s 86us/step - loss: 0.0196 - accuracy: 0.8862 - val_loss: 0.0226 - val_accuracy: 0.8819\n",
      "\n",
      "Epoch 00020: val_accuracy did not improve from 0.88478\n",
      "Epoch 21/100\n",
      "5520/5520 [==============================] - 0s 85us/step - loss: 0.0196 - accuracy: 0.8855 - val_loss: 0.0227 - val_accuracy: 0.8804\n",
      "\n",
      "Epoch 00021: val_accuracy did not improve from 0.88478\n",
      "Epoch 22/100\n",
      "5520/5520 [==============================] - 0s 85us/step - loss: 0.0192 - accuracy: 0.8857 - val_loss: 0.0231 - val_accuracy: 0.8804\n",
      "\n",
      "Epoch 00022: val_accuracy did not improve from 0.88478\n",
      "Epoch 23/100\n",
      "5520/5520 [==============================] - 0s 85us/step - loss: 0.0189 - accuracy: 0.8855 - val_loss: 0.0227 - val_accuracy: 0.8812\n",
      "\n",
      "Epoch 00023: val_accuracy did not improve from 0.88478\n",
      "Epoch 24/100\n",
      "5520/5520 [==============================] - 0s 84us/step - loss: 0.0189 - accuracy: 0.8888 - val_loss: 0.0230 - val_accuracy: 0.8826\n",
      "\n",
      "Epoch 00024: val_accuracy did not improve from 0.88478\n",
      "Epoch 25/100\n",
      "5520/5520 [==============================] - 0s 86us/step - loss: 0.0185 - accuracy: 0.8879 - val_loss: 0.0237 - val_accuracy: 0.8804\n",
      "\n",
      "Epoch 00025: val_accuracy did not improve from 0.88478\n",
      "Epoch 26/100\n",
      "5520/5520 [==============================] - 0s 85us/step - loss: 0.0184 - accuracy: 0.8857 - val_loss: 0.0227 - val_accuracy: 0.8797\n"
     ]
    },
    {
     "name": "stdout",
     "output_type": "stream",
     "text": [
      "\n",
      "Epoch 00026: val_accuracy did not improve from 0.88478\n",
      "Epoch 27/100\n",
      "5520/5520 [==============================] - 0s 86us/step - loss: 0.0182 - accuracy: 0.8846 - val_loss: 0.0232 - val_accuracy: 0.8746\n",
      "\n",
      "Epoch 00027: val_accuracy did not improve from 0.88478\n",
      "Epoch 28/100\n",
      "5520/5520 [==============================] - 0s 87us/step - loss: 0.0179 - accuracy: 0.8868 - val_loss: 0.0235 - val_accuracy: 0.8775\n",
      "\n",
      "Epoch 00028: val_accuracy did not improve from 0.88478\n",
      "Epoch 29/100\n",
      "5520/5520 [==============================] - 0s 83us/step - loss: 0.0176 - accuracy: 0.8871 - val_loss: 0.0234 - val_accuracy: 0.8674\n",
      "\n",
      "Epoch 00029: val_accuracy did not improve from 0.88478\n",
      "Epoch 30/100\n",
      "5520/5520 [==============================] - 0s 85us/step - loss: 0.0179 - accuracy: 0.8888 - val_loss: 0.0227 - val_accuracy: 0.8739\n",
      "\n",
      "Epoch 00030: val_accuracy did not improve from 0.88478\n",
      "Epoch 31/100\n",
      "5520/5520 [==============================] - 0s 86us/step - loss: 0.0173 - accuracy: 0.8882 - val_loss: 0.0236 - val_accuracy: 0.8681\n",
      "\n",
      "Epoch 00031: val_accuracy did not improve from 0.88478\n",
      "Epoch 32/100\n",
      "5520/5520 [==============================] - 0s 87us/step - loss: 0.0169 - accuracy: 0.8839 - val_loss: 0.0235 - val_accuracy: 0.8681\n",
      "\n",
      "Epoch 00032: val_accuracy did not improve from 0.88478\n",
      "Epoch 33/100\n",
      "5520/5520 [==============================] - 0s 87us/step - loss: 0.0167 - accuracy: 0.8886 - val_loss: 0.0233 - val_accuracy: 0.8717\n",
      "\n",
      "Epoch 00033: val_accuracy did not improve from 0.88478\n",
      "Epoch 34/100\n",
      "5520/5520 [==============================] - 0s 88us/step - loss: 0.0164 - accuracy: 0.8862 - val_loss: 0.0235 - val_accuracy: 0.8732\n",
      "\n",
      "Epoch 00034: val_accuracy did not improve from 0.88478\n",
      "Epoch 35/100\n",
      "5520/5520 [==============================] - 0s 86us/step - loss: 0.0166 - accuracy: 0.8879 - val_loss: 0.0233 - val_accuracy: 0.8761\n",
      "\n",
      "Epoch 00035: val_accuracy did not improve from 0.88478\n",
      "Epoch 36/100\n",
      "5520/5520 [==============================] - 0s 87us/step - loss: 0.0161 - accuracy: 0.8837 - val_loss: 0.0232 - val_accuracy: 0.8674\n",
      "\n",
      "Epoch 00036: val_accuracy did not improve from 0.88478\n",
      "Epoch 37/100\n",
      "5520/5520 [==============================] - 0s 84us/step - loss: 0.0158 - accuracy: 0.8875 - val_loss: 0.0238 - val_accuracy: 0.8768\n",
      "\n",
      "Epoch 00037: val_accuracy did not improve from 0.88478\n",
      "Epoch 38/100\n",
      "5520/5520 [==============================] - 0s 86us/step - loss: 0.0164 - accuracy: 0.8873 - val_loss: 0.0237 - val_accuracy: 0.8630\n",
      "\n",
      "Epoch 00038: val_accuracy did not improve from 0.88478\n",
      "Epoch 39/100\n",
      "5520/5520 [==============================] - 0s 85us/step - loss: 0.0156 - accuracy: 0.8908 - val_loss: 0.0244 - val_accuracy: 0.8478\n",
      "\n",
      "Epoch 00039: val_accuracy did not improve from 0.88478\n",
      "Epoch 40/100\n",
      "5520/5520 [==============================] - 0s 86us/step - loss: 0.0160 - accuracy: 0.8861 - val_loss: 0.0244 - val_accuracy: 0.8428\n",
      "\n",
      "Epoch 00040: val_accuracy did not improve from 0.88478\n",
      "Epoch 41/100\n",
      "5520/5520 [==============================] - 0s 88us/step - loss: 0.0154 - accuracy: 0.8857 - val_loss: 0.0236 - val_accuracy: 0.8601\n",
      "\n",
      "Epoch 00041: val_accuracy did not improve from 0.88478\n",
      "Epoch 42/100\n",
      "5520/5520 [==============================] - 0s 84us/step - loss: 0.0150 - accuracy: 0.8875 - val_loss: 0.0241 - val_accuracy: 0.8609\n",
      "\n",
      "Epoch 00042: val_accuracy did not improve from 0.88478\n",
      "Epoch 43/100\n",
      "5520/5520 [==============================] - 0s 86us/step - loss: 0.0152 - accuracy: 0.8895 - val_loss: 0.0240 - val_accuracy: 0.8543\n",
      "\n",
      "Epoch 00043: val_accuracy did not improve from 0.88478\n",
      "Epoch 44/100\n",
      "5520/5520 [==============================] - 0s 87us/step - loss: 0.0145 - accuracy: 0.8938 - val_loss: 0.0242 - val_accuracy: 0.8457\n",
      "\n",
      "Epoch 00044: val_accuracy did not improve from 0.88478\n",
      "Epoch 45/100\n",
      "5520/5520 [==============================] - 0s 87us/step - loss: 0.0146 - accuracy: 0.8913 - val_loss: 0.0240 - val_accuracy: 0.8522\n",
      "\n",
      "Epoch 00045: val_accuracy did not improve from 0.88478\n",
      "Epoch 46/100\n",
      "5520/5520 [==============================] - 0s 84us/step - loss: 0.0146 - accuracy: 0.8846 - val_loss: 0.0244 - val_accuracy: 0.8413\n",
      "\n",
      "Epoch 00046: val_accuracy did not improve from 0.88478\n",
      "Epoch 47/100\n",
      "5520/5520 [==============================] - 0s 87us/step - loss: 0.0142 - accuracy: 0.8902 - val_loss: 0.0238 - val_accuracy: 0.8616\n",
      "\n",
      "Epoch 00047: val_accuracy did not improve from 0.88478\n",
      "Epoch 48/100\n",
      "5520/5520 [==============================] - 0s 87us/step - loss: 0.0143 - accuracy: 0.8929 - val_loss: 0.0247 - val_accuracy: 0.8478\n",
      "\n",
      "Epoch 00048: val_accuracy did not improve from 0.88478\n",
      "Epoch 49/100\n",
      "5520/5520 [==============================] - 0s 86us/step - loss: 0.0139 - accuracy: 0.8924 - val_loss: 0.0240 - val_accuracy: 0.8659\n",
      "\n",
      "Epoch 00049: val_accuracy did not improve from 0.88478\n",
      "Epoch 50/100\n",
      "5520/5520 [==============================] - 0s 84us/step - loss: 0.0138 - accuracy: 0.8955 - val_loss: 0.0239 - val_accuracy: 0.8652\n",
      "\n",
      "Epoch 00050: val_accuracy did not improve from 0.88478\n",
      "Epoch 51/100\n",
      "5520/5520 [==============================] - 0s 85us/step - loss: 0.0138 - accuracy: 0.8964 - val_loss: 0.0246 - val_accuracy: 0.8674\n",
      "\n",
      "Epoch 00051: val_accuracy did not improve from 0.88478\n",
      "Epoch 52/100\n",
      "5520/5520 [==============================] - 0s 84us/step - loss: 0.0134 - accuracy: 0.8947 - val_loss: 0.0242 - val_accuracy: 0.8565\n",
      "\n",
      "Epoch 00052: val_accuracy did not improve from 0.88478\n",
      "Epoch 53/100\n",
      "5520/5520 [==============================] - 0s 85us/step - loss: 0.0133 - accuracy: 0.8980 - val_loss: 0.0252 - val_accuracy: 0.8529\n",
      "\n",
      "Epoch 00053: val_accuracy did not improve from 0.88478\n",
      "Epoch 54/100\n",
      "5520/5520 [==============================] - 0s 85us/step - loss: 0.0131 - accuracy: 0.8973 - val_loss: 0.0252 - val_accuracy: 0.8500\n",
      "\n",
      "Epoch 00054: val_accuracy did not improve from 0.88478\n",
      "Epoch 55/100\n",
      "5520/5520 [==============================] - 0s 85us/step - loss: 0.0131 - accuracy: 0.8955 - val_loss: 0.0249 - val_accuracy: 0.8529\n",
      "\n",
      "Epoch 00055: val_accuracy did not improve from 0.88478\n",
      "Epoch 56/100\n",
      "5520/5520 [==============================] - 0s 85us/step - loss: 0.0131 - accuracy: 0.8953 - val_loss: 0.0249 - val_accuracy: 0.8457\n",
      "\n",
      "Epoch 00056: val_accuracy did not improve from 0.88478\n",
      "Epoch 57/100\n",
      "5520/5520 [==============================] - 0s 86us/step - loss: 0.0129 - accuracy: 0.8971 - val_loss: 0.0253 - val_accuracy: 0.8522\n",
      "\n",
      "Epoch 00057: val_accuracy did not improve from 0.88478\n",
      "Epoch 58/100\n",
      "5520/5520 [==============================] - 0s 85us/step - loss: 0.0127 - accuracy: 0.8982 - val_loss: 0.0251 - val_accuracy: 0.8507\n",
      "\n",
      "Epoch 00058: val_accuracy did not improve from 0.88478\n",
      "Epoch 59/100\n",
      "5520/5520 [==============================] - 0s 86us/step - loss: 0.0124 - accuracy: 0.8967 - val_loss: 0.0257 - val_accuracy: 0.8348\n",
      "\n",
      "Epoch 00059: val_accuracy did not improve from 0.88478\n",
      "Epoch 60/100\n",
      "5520/5520 [==============================] - 0s 86us/step - loss: 0.0123 - accuracy: 0.8989 - val_loss: 0.0253 - val_accuracy: 0.8486\n",
      "\n",
      "Epoch 00060: val_accuracy did not improve from 0.88478\n",
      "Epoch 61/100\n",
      "5520/5520 [==============================] - 0s 87us/step - loss: 0.0124 - accuracy: 0.8951 - val_loss: 0.0264 - val_accuracy: 0.8377\n",
      "\n",
      "Epoch 00061: val_accuracy did not improve from 0.88478\n",
      "Epoch 62/100\n",
      "5520/5520 [==============================] - 0s 84us/step - loss: 0.0123 - accuracy: 0.8996 - val_loss: 0.0247 - val_accuracy: 0.8587\n",
      "\n",
      "Epoch 00062: val_accuracy did not improve from 0.88478\n",
      "Epoch 63/100\n",
      "5520/5520 [==============================] - 0s 84us/step - loss: 0.0120 - accuracy: 0.8967 - val_loss: 0.0257 - val_accuracy: 0.8536\n",
      "\n",
      "Epoch 00063: val_accuracy did not improve from 0.88478\n",
      "Epoch 64/100\n",
      "5520/5520 [==============================] - 0s 85us/step - loss: 0.0121 - accuracy: 0.9000 - val_loss: 0.0260 - val_accuracy: 0.8420\n",
      "\n",
      "Epoch 00064: val_accuracy did not improve from 0.88478\n",
      "Epoch 65/100\n",
      "5520/5520 [==============================] - 0s 87us/step - loss: 0.0117 - accuracy: 0.9031 - val_loss: 0.0253 - val_accuracy: 0.8493\n",
      "\n",
      "Epoch 00065: val_accuracy did not improve from 0.88478\n",
      "Epoch 66/100\n",
      "5520/5520 [==============================] - 0s 86us/step - loss: 0.0116 - accuracy: 0.9062 - val_loss: 0.0250 - val_accuracy: 0.8580\n",
      "\n",
      "Epoch 00066: val_accuracy did not improve from 0.88478\n",
      "Epoch 67/100\n",
      "5520/5520 [==============================] - 0s 86us/step - loss: 0.0115 - accuracy: 0.9071 - val_loss: 0.0262 - val_accuracy: 0.8246\n",
      "\n",
      "Epoch 00067: val_accuracy did not improve from 0.88478\n",
      "Epoch 68/100\n",
      "5520/5520 [==============================] - 0s 87us/step - loss: 0.0117 - accuracy: 0.9031 - val_loss: 0.0251 - val_accuracy: 0.8449\n",
      "\n",
      "Epoch 00068: val_accuracy did not improve from 0.88478\n",
      "Epoch 69/100\n",
      "5520/5520 [==============================] - 0s 86us/step - loss: 0.0115 - accuracy: 0.9034 - val_loss: 0.0246 - val_accuracy: 0.8754\n",
      "\n",
      "Epoch 00069: val_accuracy did not improve from 0.88478\n",
      "Epoch 70/100\n",
      "5520/5520 [==============================] - 0s 86us/step - loss: 0.0112 - accuracy: 0.9103 - val_loss: 0.0256 - val_accuracy: 0.8630\n",
      "\n",
      "Epoch 00070: val_accuracy did not improve from 0.88478\n",
      "Epoch 71/100\n",
      "5520/5520 [==============================] - 0s 84us/step - loss: 0.0111 - accuracy: 0.9054 - val_loss: 0.0264 - val_accuracy: 0.8326\n",
      "\n",
      "Epoch 00071: val_accuracy did not improve from 0.88478\n",
      "Epoch 72/100\n",
      "5520/5520 [==============================] - 0s 87us/step - loss: 0.0109 - accuracy: 0.9063 - val_loss: 0.0259 - val_accuracy: 0.8370\n",
      "\n",
      "Epoch 00072: val_accuracy did not improve from 0.88478\n",
      "Epoch 73/100\n",
      "5520/5520 [==============================] - 0s 85us/step - loss: 0.0108 - accuracy: 0.9049 - val_loss: 0.0250 - val_accuracy: 0.8623\n",
      "\n",
      "Epoch 00073: val_accuracy did not improve from 0.88478\n",
      "Epoch 74/100\n",
      "5520/5520 [==============================] - 0s 86us/step - loss: 0.0111 - accuracy: 0.9014 - val_loss: 0.0259 - val_accuracy: 0.8667\n",
      "\n",
      "Epoch 00074: val_accuracy did not improve from 0.88478\n",
      "Epoch 75/100\n",
      "5520/5520 [==============================] - 0s 85us/step - loss: 0.0107 - accuracy: 0.9085 - val_loss: 0.0250 - val_accuracy: 0.8659\n",
      "\n",
      "Epoch 00075: val_accuracy did not improve from 0.88478\n",
      "Epoch 76/100\n",
      "5520/5520 [==============================] - 0s 85us/step - loss: 0.0108 - accuracy: 0.9085 - val_loss: 0.0252 - val_accuracy: 0.8529\n",
      "\n",
      "Epoch 00076: val_accuracy did not improve from 0.88478\n",
      "Epoch 77/100\n",
      "5520/5520 [==============================] - 0s 84us/step - loss: 0.0104 - accuracy: 0.9107 - val_loss: 0.0266 - val_accuracy: 0.8341\n",
      "\n",
      "Epoch 00077: val_accuracy did not improve from 0.88478\n",
      "Epoch 78/100\n",
      "5520/5520 [==============================] - 0s 86us/step - loss: 0.0107 - accuracy: 0.9072 - val_loss: 0.0260 - val_accuracy: 0.8435\n",
      "\n",
      "Epoch 00078: val_accuracy did not improve from 0.88478\n",
      "Epoch 79/100\n",
      "5520/5520 [==============================] - 0s 83us/step - loss: 0.0103 - accuracy: 0.9134 - val_loss: 0.0258 - val_accuracy: 0.8587\n",
      "\n",
      "Epoch 00079: val_accuracy did not improve from 0.88478\n",
      "Epoch 80/100\n",
      "5520/5520 [==============================] - 0s 87us/step - loss: 0.0104 - accuracy: 0.9083 - val_loss: 0.0260 - val_accuracy: 0.8601\n",
      "\n",
      "Epoch 00080: val_accuracy did not improve from 0.88478\n",
      "Epoch 81/100\n",
      "5520/5520 [==============================] - 0s 84us/step - loss: 0.0108 - accuracy: 0.9123 - val_loss: 0.0252 - val_accuracy: 0.8725\n",
      "\n",
      "Epoch 00081: val_accuracy did not improve from 0.88478\n",
      "Epoch 82/100\n",
      "5520/5520 [==============================] - 0s 87us/step - loss: 0.0101 - accuracy: 0.9159 - val_loss: 0.0256 - val_accuracy: 0.8645\n",
      "\n",
      "Epoch 00082: val_accuracy did not improve from 0.88478\n",
      "Epoch 83/100\n",
      "5520/5520 [==============================] - 0s 85us/step - loss: 0.0100 - accuracy: 0.9109 - val_loss: 0.0253 - val_accuracy: 0.8681\n",
      "\n",
      "Epoch 00083: val_accuracy did not improve from 0.88478\n",
      "Epoch 84/100\n",
      "5520/5520 [==============================] - 0s 86us/step - loss: 0.0100 - accuracy: 0.9100 - val_loss: 0.0265 - val_accuracy: 0.8464\n",
      "\n",
      "Epoch 00084: val_accuracy did not improve from 0.88478\n",
      "Epoch 85/100\n",
      "5520/5520 [==============================] - 0s 87us/step - loss: 0.0097 - accuracy: 0.9143 - val_loss: 0.0259 - val_accuracy: 0.8645\n",
      "\n",
      "Epoch 00085: val_accuracy did not improve from 0.88478\n",
      "Epoch 86/100\n",
      "5520/5520 [==============================] - 0s 86us/step - loss: 0.0097 - accuracy: 0.9101 - val_loss: 0.0259 - val_accuracy: 0.8696\n",
      "\n",
      "Epoch 00086: val_accuracy did not improve from 0.88478\n",
      "Epoch 87/100\n",
      "5520/5520 [==============================] - 0s 86us/step - loss: 0.0095 - accuracy: 0.9163 - val_loss: 0.0267 - val_accuracy: 0.8500\n",
      "\n",
      "Epoch 00087: val_accuracy did not improve from 0.88478\n",
      "Epoch 88/100\n",
      "5520/5520 [==============================] - 0s 85us/step - loss: 0.0095 - accuracy: 0.9147 - val_loss: 0.0265 - val_accuracy: 0.8609\n",
      "\n",
      "Epoch 00088: val_accuracy did not improve from 0.88478\n",
      "Epoch 89/100\n",
      "5520/5520 [==============================] - 0s 85us/step - loss: 0.0095 - accuracy: 0.9179 - val_loss: 0.0260 - val_accuracy: 0.8536\n",
      "\n",
      "Epoch 00089: val_accuracy did not improve from 0.88478\n",
      "Epoch 90/100\n",
      "5520/5520 [==============================] - 0s 85us/step - loss: 0.0093 - accuracy: 0.9172 - val_loss: 0.0259 - val_accuracy: 0.8630\n",
      "\n",
      "Epoch 00090: val_accuracy did not improve from 0.88478\n",
      "Epoch 91/100\n",
      "5520/5520 [==============================] - 0s 85us/step - loss: 0.0094 - accuracy: 0.9163 - val_loss: 0.0264 - val_accuracy: 0.8609\n",
      "\n",
      "Epoch 00091: val_accuracy did not improve from 0.88478\n",
      "Epoch 92/100\n",
      "5520/5520 [==============================] - 0s 85us/step - loss: 0.0092 - accuracy: 0.9150 - val_loss: 0.0261 - val_accuracy: 0.8601\n",
      "\n",
      "Epoch 00092: val_accuracy did not improve from 0.88478\n",
      "Epoch 93/100\n",
      "5520/5520 [==============================] - 0s 86us/step - loss: 0.0089 - accuracy: 0.9181 - val_loss: 0.0260 - val_accuracy: 0.8630\n",
      "\n",
      "Epoch 00093: val_accuracy did not improve from 0.88478\n",
      "Epoch 94/100\n",
      "5520/5520 [==============================] - 0s 85us/step - loss: 0.0089 - accuracy: 0.9192 - val_loss: 0.0264 - val_accuracy: 0.8587\n",
      "\n",
      "Epoch 00094: val_accuracy did not improve from 0.88478\n",
      "Epoch 95/100\n",
      "5520/5520 [==============================] - 0s 85us/step - loss: 0.0090 - accuracy: 0.9188 - val_loss: 0.0262 - val_accuracy: 0.8572\n",
      "\n",
      "Epoch 00095: val_accuracy did not improve from 0.88478\n",
      "Epoch 96/100\n",
      "5520/5520 [==============================] - 0s 84us/step - loss: 0.0088 - accuracy: 0.9167 - val_loss: 0.0262 - val_accuracy: 0.8609\n",
      "\n",
      "Epoch 00096: val_accuracy did not improve from 0.88478\n",
      "Epoch 97/100\n",
      "5520/5520 [==============================] - 0s 85us/step - loss: 0.0091 - accuracy: 0.9197 - val_loss: 0.0256 - val_accuracy: 0.8746\n",
      "\n",
      "Epoch 00097: val_accuracy did not improve from 0.88478\n",
      "Epoch 98/100\n",
      "5520/5520 [==============================] - 0s 84us/step - loss: 0.0088 - accuracy: 0.9183 - val_loss: 0.0260 - val_accuracy: 0.8696\n",
      "\n",
      "Epoch 00098: val_accuracy did not improve from 0.88478\n",
      "Epoch 99/100\n",
      "5520/5520 [==============================] - 0s 87us/step - loss: 0.0087 - accuracy: 0.9196 - val_loss: 0.0261 - val_accuracy: 0.8717\n",
      "\n",
      "Epoch 00099: val_accuracy did not improve from 0.88478\n",
      "Epoch 100/100\n",
      "5520/5520 [==============================] - 0s 85us/step - loss: 0.0085 - accuracy: 0.9208 - val_loss: 0.0261 - val_accuracy: 0.8623\n",
      "\n",
      "Epoch 00100: val_accuracy did not improve from 0.88478\n",
      "780/780 [==============================] - 0s 106us/step\n",
      "Test Score: 0.026073706126174864\n",
      "Test Accuracy: 0.8653846383094788\n"
     ]
    }
   ],
   "source": [
    "lstm_h_model, lstm_h_history, lstm_h_pred = lstm_H(train_vec_h, h_X2_train, dev_vec_h, \n",
    "                                               h_X2_test, y_train_h, y_test_h,  \n",
    "                                               loss = jsd_custom_loss)"
   ]
  },
  {
   "cell_type": "markdown",
   "metadata": {},
   "source": [
    "#### 6.2 Output by rbind"
   ]
  },
  {
   "cell_type": "code",
   "execution_count": 30,
   "metadata": {},
   "outputs": [],
   "source": [
    "# predict single row\n",
    "def padding_single_c(dev):\n",
    "    X_test = dev.filter(['round','texts'])\n",
    "    X1_test = X_test['texts']\n",
    "#     X1_test = [str (item) for item in X1_test]\n",
    "    X2_test = X_test[['round']].values\n",
    "    \n",
    "    x_test_seq = c_token.texts_to_sequences([X1_test])\n",
    "    X1_test = sequence.pad_sequences(x_test_seq, maxlen = 350)\n",
    "    \n",
    "    return X1_test, X2_test\n",
    "\n",
    "def padding_single_h(dev):\n",
    "    X_test = dev.filter(['round','texts'])\n",
    "    X1_test = X_test['texts']\n",
    "#     X1_test = [str (item) for item in X1_test]\n",
    "    X2_test = X_test[['round']].values\n",
    "    \n",
    "    x_test_seq = h_token.texts_to_sequences([X1_test])\n",
    "    X1_test = sequence.pad_sequences(x_test_seq, maxlen = 350)\n",
    "    \n",
    "    return X1_test, X2_test"
   ]
  },
  {
   "cell_type": "markdown",
   "metadata": {},
   "source": [
    "> word2Vec"
   ]
  },
  {
   "cell_type": "code",
   "execution_count": 42,
   "metadata": {},
   "outputs": [
    {
     "data": {
      "text/plain": [
       "id                           4210023888164273\n",
       "sender                               customer\n",
       "sender_num                                  0\n",
       "texts         990007189146746 990007189146753\n",
       "round                                       3\n",
       "CNUG0                                       0\n",
       "CNUG                                 0.947368\n",
       "CNUG*                                       0\n",
       "CNaN                                0.0526316\n",
       "HNUG                                        0\n",
       "HNUG*                                       0\n",
       "HNaN                                        0\n",
       "W2V                                        []\n",
       "W2V_str                                    []\n",
       "Baidu                                   [nan]\n",
       "Baidu_str                                 NaN\n",
       "Name: 23, dtype: object"
      ]
     },
     "execution_count": 42,
     "metadata": {},
     "output_type": "execute_result"
    }
   ],
   "source": [
    "dev.iloc[23]"
   ]
  },
  {
   "cell_type": "code",
   "execution_count": 65,
   "metadata": {},
   "outputs": [],
   "source": [
    "def to_array_2(dataframe, length=1, dim=256):   \n",
    "    train_vec = np.zeros(shape=(length,dim))\n",
    "    if dataframe['Baidu'] != []:\n",
    "        train_vec = np.array(dataframe['Baidu'])\n",
    "    \n",
    "#     print(train_vec.shape)\n",
    "    train_vec = train_vec.reshape(1,256)\n",
    "    \n",
    "    return np.array(train_vec)\n",
    "\n",
    "def padding_single_w2v(dev):\n",
    "    X_test = dev.filter(['round','Baidu'])\n",
    "    X1_test = to_array_2(X_test)\n",
    "    X1_test = np.reshape(X1_test, (X1_test.shape[0],1,X1_test.shape[1]))\n",
    "    X2_test = X_test[['round']].values\n",
    "    return X1_test, X2_test"
   ]
  },
  {
   "cell_type": "code",
   "execution_count": 33,
   "metadata": {
    "scrolled": false
   },
   "outputs": [],
   "source": [
    "from itertools import chain\n",
    "\n",
    "# input the development dataframe and the method\n",
    "# for current models (loss = jsd):\n",
    "# model_1 = customer model (CNN_c_model, lstm_c_model)\n",
    "# model_2 = helpdesk model (CNN_h_model, lstm_h_model)\n",
    "def Generate_submission(dev, model_1, model_2):\n",
    "    Id_list = dev['id'].unique()\n",
    "    C_nugget = ['CNUG','CNUG*','CNUG0','CNaN']\n",
    "    H_nugget = ['HNUG','HNUG*','HNaN']\n",
    "\n",
    "    final = []\n",
    "    \n",
    "    # go through each Id first\n",
    "    for Id in tqdm(Id_list):  \n",
    "        result = []\n",
    "        \n",
    "        for i in range(len(dev)):\n",
    "            \n",
    "            # if Id is match than predict the prob_distribution and zip it as dictionary \n",
    "            if dev['id'][i] == Id:\n",
    "                if dev.iloc[i, 1] == 'customer':\n",
    "                    t1, t2 = padding_single_c(dev.iloc[i])\n",
    "                    t2 = np.array(t2).reshape(1,1)\n",
    "                    cus_prob = model_1.predict(x=[t1, t2])\n",
    "                    cus_prob = cus_prob.tolist()\n",
    "                    cus_prob = list(chain(*cus_prob))\n",
    "                    dict_c = dict(zip(C_nugget, cus_prob))\n",
    "                    result.append(dict_c)\n",
    "                else:\n",
    "                    t3, t4 = padding_single_h(dev.iloc[i])\n",
    "                    t4 = np.array(t4).reshape(1,1)\n",
    "                    help_prob = model_2.predict(x=[t3, t4])\n",
    "                    help_prob = help_prob.tolist()\n",
    "                    help_prob = list(chain(*help_prob))\n",
    "                    dict_h = dict(zip(H_nugget, help_prob))\n",
    "                    result.append(dict_h)\n",
    "            # if Id isn't match than continue until it match or switch to new Id\n",
    "            else:\n",
    "                continue\n",
    "        \n",
    "        # Submission form\n",
    "        dict1 = {'nugget':result,'id':Id}\n",
    "        final.append(dict1)\n",
    "        \n",
    "    return final"
   ]
  },
  {
   "cell_type": "markdown",
   "metadata": {},
   "source": [
    "> Word2Vec"
   ]
  },
  {
   "cell_type": "code",
   "execution_count": 66,
   "metadata": {},
   "outputs": [],
   "source": [
    "def Generate_submission_w2v(dev, model_1, model_2):\n",
    "    dev['id'] = dev['id'].apply(str)\n",
    "    Id_list = dev['id'].unique()\n",
    "    C_nugget = ['CNUG','CNUG*','CNUG0','CNaN']\n",
    "    H_nugget = ['HNUG','HNUG*','HNaN']\n",
    "\n",
    "    final = []\n",
    "    \n",
    "    # go through each Id first\n",
    "    for Id in tqdm(Id_list):  \n",
    "        result = []\n",
    "        \n",
    "        for i in range(len(dev)):\n",
    "            \n",
    "            # if Id is match than predict the prob_distribution and zip it as dictionary \n",
    "            if dev['id'][i] == Id:\n",
    "                if dev.iloc[i, 1] == 'customer':\n",
    "#                     print(i)\n",
    "                    t1, t2 = padding_single_w2v(dev.iloc[i])\n",
    "                    t2 = np.array(t2).reshape(1,1)\n",
    "                    cus_prob = model_1.predict(x=[t1, t2])\n",
    "                    cus_prob = cus_prob.tolist()\n",
    "                    cus_prob = list(chain(*cus_prob))\n",
    "                    dict_c = dict(zip(C_nugget, cus_prob))\n",
    "                    result.append(dict_c)\n",
    "                else:\n",
    "#                     print(i)\n",
    "                    t3, t4 = padding_single_w2v(dev.iloc[i])\n",
    "                    t4 = np.array(t4).reshape(1,1)\n",
    "                    help_prob = model_2.predict(x=[t3, t4])\n",
    "                    help_prob = help_prob.tolist()\n",
    "                    help_prob = list(chain(*help_prob))\n",
    "                    dict_h = dict(zip(H_nugget, help_prob))\n",
    "                    result.append(dict_h)\n",
    "            # if Id isn't match than continue until it match or switch to new Id\n",
    "            else:\n",
    "                continue\n",
    "        \n",
    "        # Submission form\n",
    "        dict1 = {'nugget':result,'id':Id}\n",
    "        final.append(dict1)\n",
    "        \n",
    "    return final"
   ]
  },
  {
   "cell_type": "code",
   "execution_count": 78,
   "metadata": {},
   "outputs": [
    {
     "name": "stderr",
     "output_type": "stream",
     "text": [
      "C:\\Users\\doudi\\Anaconda3\\lib\\site-packages\\ipykernel_launcher.py:10: TqdmDeprecationWarning: This function will be removed in tqdm==5.0.0\n",
      "Please use `tqdm.notebook.tqdm` instead of `tqdm.tqdm_notebook`\n",
      "  # Remove the CWD from sys.path while we load stuff.\n"
     ]
    },
    {
     "data": {
      "application/vnd.jupyter.widget-view+json": {
       "model_id": "52bce1ba37f84e809d240d9a8cbe30f1",
       "version_major": 2,
       "version_minor": 0
      },
      "text/plain": [
       "HBox(children=(FloatProgress(value=0.0, max=390.0), HTML(value='')))"
      ]
     },
     "metadata": {},
     "output_type": "display_data"
    },
    {
     "name": "stdout",
     "output_type": "stream",
     "text": [
      "\n"
     ]
    }
   ],
   "source": [
    "# final = Generate_submission(dev, lstm_c_model, lstm_h_model)\n",
    "final = Generate_submission_w2v(dev, lstm_c_model, lstm_h_model)"
   ]
  },
  {
   "cell_type": "code",
   "execution_count": 68,
   "metadata": {},
   "outputs": [
    {
     "data": {
      "text/plain": [
       "{'nugget': [{'CNUG': 0.04307155683636665,\n",
       "   'CNUG*': 0.0002533532679080963,\n",
       "   'CNUG0': 0.2612592279911041,\n",
       "   'CNaN': 0.6954159140586853},\n",
       "  {'HNUG': 0.18841741979122162,\n",
       "   'HNUG*': 0.5632498264312744,\n",
       "   'HNaN': 0.24833270907402039},\n",
       "  {'CNUG': 0.3754049837589264,\n",
       "   'CNUG*': 0.0036986295599490404,\n",
       "   'CNUG0': 1.2190609595563728e-05,\n",
       "   'CNaN': 0.6208842396736145},\n",
       "  {'HNUG': 0.2653927803039551,\n",
       "   'HNUG*': 0.0014027048600837588,\n",
       "   'HNaN': 0.7332044839859009}],\n",
       " 'id': '4227729258237823'}"
      ]
     },
     "execution_count": 68,
     "metadata": {},
     "output_type": "execute_result"
    }
   ],
   "source": [
    "final[0]"
   ]
  },
  {
   "cell_type": "markdown",
   "metadata": {},
   "source": [
    "### 7. Generate the submission estimation JSON"
   ]
  },
  {
   "cell_type": "code",
   "execution_count": 79,
   "metadata": {},
   "outputs": [],
   "source": [
    "import json\n",
    "import time\n",
    "import os\n",
    "\n",
    "path = 'C:/Users/doudi/OneDrive/Documents/ntcir15/eval'\n",
    "os.chdir(path)\n",
    "timestr = time.strftime(\"%Y%m%d%H%M\")"
   ]
  },
  {
   "cell_type": "code",
   "execution_count": 80,
   "metadata": {
    "scrolled": true
   },
   "outputs": [],
   "source": [
    "with open((timestr + '_' + 'dev_eval.json'), 'w', encoding='utf-8') as f: \n",
    "    f.write(json.dumps(final, ensure_ascii=False, indent=2))"
   ]
  },
  {
   "cell_type": "code",
   "execution_count": 81,
   "metadata": {},
   "outputs": [
    {
     "name": "stdout",
     "output_type": "stream",
     "text": [
      "{'quality': None, 'nugget': {'jsd': 4.663028387268745, 'rnss': 2.9577512461942694}}\n"
     ]
    }
   ],
   "source": [
    "import os\n",
    "os.chdir('C:\\\\Users\\\\doudi\\\\OneDrive\\\\Documents\\\\ntcir15\\\\eval')\n",
    "!python eval.py 202007101244_dev_eval.json dev_cn.json"
   ]
  },
  {
   "cell_type": "code",
   "execution_count": 82,
   "metadata": {},
   "outputs": [
    {
     "data": {
      "text/plain": [
       "0.03947195025302833"
      ]
     },
     "execution_count": 82,
     "metadata": {},
     "output_type": "execute_result"
    }
   ],
   "source": [
    "2**(-4.663028387268745)"
   ]
  },
  {
   "cell_type": "code",
   "execution_count": 83,
   "metadata": {
    "scrolled": true
   },
   "outputs": [
    {
     "data": {
      "text/plain": [
       "0.1287147018909632"
      ]
     },
     "execution_count": 83,
     "metadata": {},
     "output_type": "execute_result"
    }
   ],
   "source": [
    "2**(-2.9577512461942694)"
   ]
  }
 ],
 "metadata": {
  "kernelspec": {
   "display_name": "Python 3",
   "language": "python",
   "name": "python3"
  },
  "language_info": {
   "codemirror_mode": {
    "name": "ipython",
    "version": 3
   },
   "file_extension": ".py",
   "mimetype": "text/x-python",
   "name": "python",
   "nbconvert_exporter": "python",
   "pygments_lexer": "ipython3",
   "version": "3.7.3"
  }
 },
 "nbformat": 4,
 "nbformat_minor": 4
}
